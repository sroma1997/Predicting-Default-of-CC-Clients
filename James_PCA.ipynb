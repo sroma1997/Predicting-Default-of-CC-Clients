{
 "cells": [
  {
   "cell_type": "code",
   "metadata": {
    "tags": [],
    "cell_id": "00000-e3721eec-5eb2-4bb0-a255-05b439885ba7",
    "deepnote_to_be_reexecuted": false,
    "source_hash": "69cd46f2",
    "execution_millis": 1,
    "execution_start": 1621086745962,
    "deepnote_cell_type": "code"
   },
   "source": "import pandas as pd\nimport numpy as np\n\nfrom sklearn.decomposition import PCA\n\n\n%matplotlib inline\nimport matplotlib.pyplot as plt\nimport matplotlib.image as mpimg\nimport seaborn as sbn",
   "outputs": [],
   "execution_count": null
  },
  {
   "cell_type": "code",
   "metadata": {
    "tags": [],
    "cell_id": "00001-820ddd2c-dc79-46f6-9615-c63d8483ba0f",
    "deepnote_to_be_reexecuted": false,
    "source_hash": "322c8acb",
    "execution_millis": 2094,
    "execution_start": 1621086909187,
    "deepnote_cell_type": "code"
   },
   "source": "df = pd.read_excel('default of credit card clients.xls', index_col = 0, header = 1)",
   "outputs": [],
   "execution_count": null
  },
  {
   "cell_type": "code",
   "metadata": {
    "tags": [],
    "cell_id": "00002-d497948c-8a85-452e-8bc0-5eb7e35c20c7",
    "deepnote_to_be_reexecuted": false,
    "source_hash": "c085b6ba",
    "execution_start": 1621086912532,
    "execution_millis": 46,
    "deepnote_cell_type": "code"
   },
   "source": "df.head()",
   "outputs": [
    {
     "output_type": "execute_result",
     "execution_count": 22,
     "data": {
      "application/vnd.deepnote.dataframe.v2+json": {
       "row_count": 5,
       "column_count": 24,
       "columns": [
        {
         "name": "LIMIT_BAL",
         "dtype": "int64",
         "stats": {
          "unique_count": 4,
          "nan_count": 0,
          "min": "20000",
          "max": "120000",
          "histogram": [
           {
            "bin_start": 20000,
            "bin_end": 30000,
            "count": 1
           },
           {
            "bin_start": 30000,
            "bin_end": 40000,
            "count": 0
           },
           {
            "bin_start": 40000,
            "bin_end": 50000,
            "count": 0
           },
           {
            "bin_start": 50000,
            "bin_end": 60000,
            "count": 2
           },
           {
            "bin_start": 60000,
            "bin_end": 70000,
            "count": 0
           },
           {
            "bin_start": 70000,
            "bin_end": 80000,
            "count": 0
           },
           {
            "bin_start": 80000,
            "bin_end": 90000,
            "count": 0
           },
           {
            "bin_start": 90000,
            "bin_end": 100000,
            "count": 1
           },
           {
            "bin_start": 100000,
            "bin_end": 110000,
            "count": 0
           },
           {
            "bin_start": 110000,
            "bin_end": 120000,
            "count": 1
           }
          ]
         }
        },
        {
         "name": "SEX",
         "dtype": "int64",
         "stats": {
          "unique_count": 2,
          "nan_count": 0,
          "min": "1",
          "max": "2",
          "histogram": [
           {
            "bin_start": 1,
            "bin_end": 1.1,
            "count": 1
           },
           {
            "bin_start": 1.1,
            "bin_end": 1.2,
            "count": 0
           },
           {
            "bin_start": 1.2,
            "bin_end": 1.3,
            "count": 0
           },
           {
            "bin_start": 1.3,
            "bin_end": 1.4,
            "count": 0
           },
           {
            "bin_start": 1.4,
            "bin_end": 1.5,
            "count": 0
           },
           {
            "bin_start": 1.5,
            "bin_end": 1.6,
            "count": 0
           },
           {
            "bin_start": 1.6,
            "bin_end": 1.7000000000000002,
            "count": 0
           },
           {
            "bin_start": 1.7000000000000002,
            "bin_end": 1.8,
            "count": 0
           },
           {
            "bin_start": 1.8,
            "bin_end": 1.9,
            "count": 0
           },
           {
            "bin_start": 1.9,
            "bin_end": 2,
            "count": 4
           }
          ]
         }
        },
        {
         "name": "EDUCATION",
         "dtype": "int64",
         "stats": {
          "unique_count": 1,
          "nan_count": 0,
          "min": "2",
          "max": "2",
          "histogram": [
           {
            "bin_start": 1.5,
            "bin_end": 1.6,
            "count": 0
           },
           {
            "bin_start": 1.6,
            "bin_end": 1.7,
            "count": 0
           },
           {
            "bin_start": 1.7,
            "bin_end": 1.8,
            "count": 0
           },
           {
            "bin_start": 1.8,
            "bin_end": 1.9,
            "count": 0
           },
           {
            "bin_start": 1.9,
            "bin_end": 2,
            "count": 0
           },
           {
            "bin_start": 2,
            "bin_end": 2.1,
            "count": 5
           },
           {
            "bin_start": 2.1,
            "bin_end": 2.2,
            "count": 0
           },
           {
            "bin_start": 2.2,
            "bin_end": 2.3,
            "count": 0
           },
           {
            "bin_start": 2.3,
            "bin_end": 2.4,
            "count": 0
           },
           {
            "bin_start": 2.4,
            "bin_end": 2.5,
            "count": 0
           }
          ]
         }
        },
        {
         "name": "MARRIAGE",
         "dtype": "int64",
         "stats": {
          "unique_count": 2,
          "nan_count": 0,
          "min": "1",
          "max": "2",
          "histogram": [
           {
            "bin_start": 1,
            "bin_end": 1.1,
            "count": 3
           },
           {
            "bin_start": 1.1,
            "bin_end": 1.2,
            "count": 0
           },
           {
            "bin_start": 1.2,
            "bin_end": 1.3,
            "count": 0
           },
           {
            "bin_start": 1.3,
            "bin_end": 1.4,
            "count": 0
           },
           {
            "bin_start": 1.4,
            "bin_end": 1.5,
            "count": 0
           },
           {
            "bin_start": 1.5,
            "bin_end": 1.6,
            "count": 0
           },
           {
            "bin_start": 1.6,
            "bin_end": 1.7000000000000002,
            "count": 0
           },
           {
            "bin_start": 1.7000000000000002,
            "bin_end": 1.8,
            "count": 0
           },
           {
            "bin_start": 1.8,
            "bin_end": 1.9,
            "count": 0
           },
           {
            "bin_start": 1.9,
            "bin_end": 2,
            "count": 2
           }
          ]
         }
        },
        {
         "name": "AGE",
         "dtype": "int64",
         "stats": {
          "unique_count": 5,
          "nan_count": 0,
          "min": "24",
          "max": "57",
          "histogram": [
           {
            "bin_start": 24,
            "bin_end": 27.3,
            "count": 2
           },
           {
            "bin_start": 27.3,
            "bin_end": 30.6,
            "count": 0
           },
           {
            "bin_start": 30.6,
            "bin_end": 33.9,
            "count": 0
           },
           {
            "bin_start": 33.9,
            "bin_end": 37.2,
            "count": 2
           },
           {
            "bin_start": 37.2,
            "bin_end": 40.5,
            "count": 0
           },
           {
            "bin_start": 40.5,
            "bin_end": 43.8,
            "count": 0
           },
           {
            "bin_start": 43.8,
            "bin_end": 47.099999999999994,
            "count": 0
           },
           {
            "bin_start": 47.099999999999994,
            "bin_end": 50.4,
            "count": 0
           },
           {
            "bin_start": 50.4,
            "bin_end": 53.7,
            "count": 0
           },
           {
            "bin_start": 53.7,
            "bin_end": 57,
            "count": 1
           }
          ]
         }
        },
        {
         "name": "PAY_0",
         "dtype": "int64",
         "stats": {
          "unique_count": 3,
          "nan_count": 0,
          "min": "-1",
          "max": "2",
          "histogram": [
           {
            "bin_start": -1,
            "bin_end": -0.7,
            "count": 2
           },
           {
            "bin_start": -0.7,
            "bin_end": -0.4,
            "count": 0
           },
           {
            "bin_start": -0.4,
            "bin_end": -0.10000000000000009,
            "count": 0
           },
           {
            "bin_start": -0.10000000000000009,
            "bin_end": 0.19999999999999996,
            "count": 2
           },
           {
            "bin_start": 0.19999999999999996,
            "bin_end": 0.5,
            "count": 0
           },
           {
            "bin_start": 0.5,
            "bin_end": 0.7999999999999998,
            "count": 0
           },
           {
            "bin_start": 0.7999999999999998,
            "bin_end": 1.1,
            "count": 0
           },
           {
            "bin_start": 1.1,
            "bin_end": 1.4,
            "count": 0
           },
           {
            "bin_start": 1.4,
            "bin_end": 1.6999999999999997,
            "count": 0
           },
           {
            "bin_start": 1.6999999999999997,
            "bin_end": 2,
            "count": 1
           }
          ]
         }
        },
        {
         "name": "PAY_2",
         "dtype": "int64",
         "stats": {
          "unique_count": 2,
          "nan_count": 0,
          "min": "0",
          "max": "2",
          "histogram": [
           {
            "bin_start": 0,
            "bin_end": 0.2,
            "count": 3
           },
           {
            "bin_start": 0.2,
            "bin_end": 0.4,
            "count": 0
           },
           {
            "bin_start": 0.4,
            "bin_end": 0.6000000000000001,
            "count": 0
           },
           {
            "bin_start": 0.6000000000000001,
            "bin_end": 0.8,
            "count": 0
           },
           {
            "bin_start": 0.8,
            "bin_end": 1,
            "count": 0
           },
           {
            "bin_start": 1,
            "bin_end": 1.2000000000000002,
            "count": 0
           },
           {
            "bin_start": 1.2000000000000002,
            "bin_end": 1.4000000000000001,
            "count": 0
           },
           {
            "bin_start": 1.4000000000000001,
            "bin_end": 1.6,
            "count": 0
           },
           {
            "bin_start": 1.6,
            "bin_end": 1.8,
            "count": 0
           },
           {
            "bin_start": 1.8,
            "bin_end": 2,
            "count": 2
           }
          ]
         }
        },
        {
         "name": "PAY_3",
         "dtype": "int64",
         "stats": {
          "unique_count": 2,
          "nan_count": 0,
          "min": "-1",
          "max": "0",
          "histogram": [
           {
            "bin_start": -1,
            "bin_end": -0.9,
            "count": 2
           },
           {
            "bin_start": -0.9,
            "bin_end": -0.8,
            "count": 0
           },
           {
            "bin_start": -0.8,
            "bin_end": -0.7,
            "count": 0
           },
           {
            "bin_start": -0.7,
            "bin_end": -0.6,
            "count": 0
           },
           {
            "bin_start": -0.6,
            "bin_end": -0.5,
            "count": 0
           },
           {
            "bin_start": -0.5,
            "bin_end": -0.3999999999999999,
            "count": 0
           },
           {
            "bin_start": -0.3999999999999999,
            "bin_end": -0.29999999999999993,
            "count": 0
           },
           {
            "bin_start": -0.29999999999999993,
            "bin_end": -0.19999999999999996,
            "count": 0
           },
           {
            "bin_start": -0.19999999999999996,
            "bin_end": -0.09999999999999998,
            "count": 0
           },
           {
            "bin_start": -0.09999999999999998,
            "bin_end": 0,
            "count": 3
           }
          ]
         }
        },
        {
         "name": "PAY_4",
         "dtype": "int64",
         "stats": {
          "unique_count": 2,
          "nan_count": 0,
          "min": "-1",
          "max": "0",
          "histogram": [
           {
            "bin_start": -1,
            "bin_end": -0.9,
            "count": 1
           },
           {
            "bin_start": -0.9,
            "bin_end": -0.8,
            "count": 0
           },
           {
            "bin_start": -0.8,
            "bin_end": -0.7,
            "count": 0
           },
           {
            "bin_start": -0.7,
            "bin_end": -0.6,
            "count": 0
           },
           {
            "bin_start": -0.6,
            "bin_end": -0.5,
            "count": 0
           },
           {
            "bin_start": -0.5,
            "bin_end": -0.3999999999999999,
            "count": 0
           },
           {
            "bin_start": -0.3999999999999999,
            "bin_end": -0.29999999999999993,
            "count": 0
           },
           {
            "bin_start": -0.29999999999999993,
            "bin_end": -0.19999999999999996,
            "count": 0
           },
           {
            "bin_start": -0.19999999999999996,
            "bin_end": -0.09999999999999998,
            "count": 0
           },
           {
            "bin_start": -0.09999999999999998,
            "bin_end": 0,
            "count": 4
           }
          ]
         }
        },
        {
         "name": "PAY_5",
         "dtype": "int64",
         "stats": {
          "unique_count": 2,
          "nan_count": 0,
          "min": "-2",
          "max": "0",
          "histogram": [
           {
            "bin_start": -2,
            "bin_end": -1.8,
            "count": 1
           },
           {
            "bin_start": -1.8,
            "bin_end": -1.6,
            "count": 0
           },
           {
            "bin_start": -1.6,
            "bin_end": -1.4,
            "count": 0
           },
           {
            "bin_start": -1.4,
            "bin_end": -1.2,
            "count": 0
           },
           {
            "bin_start": -1.2,
            "bin_end": -1,
            "count": 0
           },
           {
            "bin_start": -1,
            "bin_end": -0.7999999999999998,
            "count": 0
           },
           {
            "bin_start": -0.7999999999999998,
            "bin_end": -0.5999999999999999,
            "count": 0
           },
           {
            "bin_start": -0.5999999999999999,
            "bin_end": -0.3999999999999999,
            "count": 0
           },
           {
            "bin_start": -0.3999999999999999,
            "bin_end": -0.19999999999999996,
            "count": 0
           },
           {
            "bin_start": -0.19999999999999996,
            "bin_end": 0,
            "count": 4
           }
          ]
         }
        },
        {
         "name": "PAY_6",
         "dtype": "int64",
         "stats": {
          "unique_count": 3,
          "nan_count": 0,
          "min": "-2",
          "max": "2",
          "histogram": [
           {
            "bin_start": -2,
            "bin_end": -1.6,
            "count": 1
           },
           {
            "bin_start": -1.6,
            "bin_end": -1.2,
            "count": 0
           },
           {
            "bin_start": -1.2,
            "bin_end": -0.7999999999999998,
            "count": 0
           },
           {
            "bin_start": -0.7999999999999998,
            "bin_end": -0.3999999999999999,
            "count": 0
           },
           {
            "bin_start": -0.3999999999999999,
            "bin_end": 0,
            "count": 0
           },
           {
            "bin_start": 0,
            "bin_end": 0.40000000000000036,
            "count": 3
           },
           {
            "bin_start": 0.40000000000000036,
            "bin_end": 0.8000000000000003,
            "count": 0
           },
           {
            "bin_start": 0.8000000000000003,
            "bin_end": 1.2000000000000002,
            "count": 0
           },
           {
            "bin_start": 1.2000000000000002,
            "bin_end": 1.6,
            "count": 0
           },
           {
            "bin_start": 1.6,
            "bin_end": 2,
            "count": 1
           }
          ]
         }
        },
        {
         "name": "BILL_AMT1",
         "dtype": "int64",
         "stats": {
          "unique_count": 5,
          "nan_count": 0,
          "min": "2682",
          "max": "46990",
          "histogram": [
           {
            "bin_start": 2682,
            "bin_end": 7112.8,
            "count": 2
           },
           {
            "bin_start": 7112.8,
            "bin_end": 11543.6,
            "count": 1
           },
           {
            "bin_start": 11543.6,
            "bin_end": 15974.400000000001,
            "count": 0
           },
           {
            "bin_start": 15974.400000000001,
            "bin_end": 20405.2,
            "count": 0
           },
           {
            "bin_start": 20405.2,
            "bin_end": 24836,
            "count": 0
           },
           {
            "bin_start": 24836,
            "bin_end": 29266.800000000003,
            "count": 1
           },
           {
            "bin_start": 29266.800000000003,
            "bin_end": 33697.600000000006,
            "count": 0
           },
           {
            "bin_start": 33697.600000000006,
            "bin_end": 38128.4,
            "count": 0
           },
           {
            "bin_start": 38128.4,
            "bin_end": 42559.200000000004,
            "count": 0
           },
           {
            "bin_start": 42559.200000000004,
            "bin_end": 46990,
            "count": 1
           }
          ]
         }
        },
        {
         "name": "BILL_AMT2",
         "dtype": "int64",
         "stats": {
          "unique_count": 5,
          "nan_count": 0,
          "min": "1725",
          "max": "48233",
          "histogram": [
           {
            "bin_start": 1725,
            "bin_end": 6375.8,
            "count": 3
           },
           {
            "bin_start": 6375.8,
            "bin_end": 11026.6,
            "count": 0
           },
           {
            "bin_start": 11026.6,
            "bin_end": 15677.400000000001,
            "count": 1
           },
           {
            "bin_start": 15677.400000000001,
            "bin_end": 20328.2,
            "count": 0
           },
           {
            "bin_start": 20328.2,
            "bin_end": 24979,
            "count": 0
           },
           {
            "bin_start": 24979,
            "bin_end": 29629.800000000003,
            "count": 0
           },
           {
            "bin_start": 29629.800000000003,
            "bin_end": 34280.600000000006,
            "count": 0
           },
           {
            "bin_start": 34280.600000000006,
            "bin_end": 38931.4,
            "count": 0
           },
           {
            "bin_start": 38931.4,
            "bin_end": 43582.200000000004,
            "count": 0
           },
           {
            "bin_start": 43582.200000000004,
            "bin_end": 48233,
            "count": 1
           }
          ]
         }
        },
        {
         "name": "BILL_AMT3",
         "dtype": "int64",
         "stats": {
          "unique_count": 5,
          "nan_count": 0,
          "min": "689",
          "max": "49291",
          "histogram": [
           {
            "bin_start": 689,
            "bin_end": 5549.2,
            "count": 2
           },
           {
            "bin_start": 5549.2,
            "bin_end": 10409.4,
            "count": 0
           },
           {
            "bin_start": 10409.4,
            "bin_end": 15269.599999999999,
            "count": 1
           },
           {
            "bin_start": 15269.599999999999,
            "bin_end": 20129.8,
            "count": 0
           },
           {
            "bin_start": 20129.8,
            "bin_end": 24990,
            "count": 0
           },
           {
            "bin_start": 24990,
            "bin_end": 29850.199999999997,
            "count": 0
           },
           {
            "bin_start": 29850.199999999997,
            "bin_end": 34710.4,
            "count": 0
           },
           {
            "bin_start": 34710.4,
            "bin_end": 39570.6,
            "count": 1
           },
           {
            "bin_start": 39570.6,
            "bin_end": 44430.799999999996,
            "count": 0
           },
           {
            "bin_start": 44430.799999999996,
            "bin_end": 49291,
            "count": 1
           }
          ]
         }
        },
        {
         "name": "BILL_AMT4",
         "dtype": "int64",
         "stats": {
          "unique_count": 5,
          "nan_count": 0,
          "min": "0",
          "max": "28314",
          "histogram": [
           {
            "bin_start": 0,
            "bin_end": 2831.4,
            "count": 1
           },
           {
            "bin_start": 2831.4,
            "bin_end": 5662.8,
            "count": 1
           },
           {
            "bin_start": 5662.8,
            "bin_end": 8494.2,
            "count": 0
           },
           {
            "bin_start": 8494.2,
            "bin_end": 11325.6,
            "count": 0
           },
           {
            "bin_start": 11325.6,
            "bin_end": 14157,
            "count": 0
           },
           {
            "bin_start": 14157,
            "bin_end": 16988.4,
            "count": 1
           },
           {
            "bin_start": 16988.4,
            "bin_end": 19819.8,
            "count": 0
           },
           {
            "bin_start": 19819.8,
            "bin_end": 22651.2,
            "count": 1
           },
           {
            "bin_start": 22651.2,
            "bin_end": 25482.600000000002,
            "count": 0
           },
           {
            "bin_start": 25482.600000000002,
            "bin_end": 28314,
            "count": 1
           }
          ]
         }
        },
        {
         "name": "BILL_AMT5",
         "dtype": "int64",
         "stats": {
          "unique_count": 5,
          "nan_count": 0,
          "min": "0",
          "max": "28959",
          "histogram": [
           {
            "bin_start": 0,
            "bin_end": 2895.9,
            "count": 1
           },
           {
            "bin_start": 2895.9,
            "bin_end": 5791.8,
            "count": 1
           },
           {
            "bin_start": 5791.8,
            "bin_end": 8687.7,
            "count": 0
           },
           {
            "bin_start": 8687.7,
            "bin_end": 11583.6,
            "count": 0
           },
           {
            "bin_start": 11583.6,
            "bin_end": 14479.5,
            "count": 0
           },
           {
            "bin_start": 14479.5,
            "bin_end": 17375.4,
            "count": 1
           },
           {
            "bin_start": 17375.4,
            "bin_end": 20271.3,
            "count": 1
           },
           {
            "bin_start": 20271.3,
            "bin_end": 23167.2,
            "count": 0
           },
           {
            "bin_start": 23167.2,
            "bin_end": 26063.100000000002,
            "count": 0
           },
           {
            "bin_start": 26063.100000000002,
            "bin_end": 28959,
            "count": 1
           }
          ]
         }
        },
        {
         "name": "BILL_AMT6",
         "dtype": "int64",
         "stats": {
          "unique_count": 5,
          "nan_count": 0,
          "min": "0",
          "max": "29547",
          "histogram": [
           {
            "bin_start": 0,
            "bin_end": 2954.7,
            "count": 1
           },
           {
            "bin_start": 2954.7,
            "bin_end": 5909.4,
            "count": 1
           },
           {
            "bin_start": 5909.4,
            "bin_end": 8864.099999999999,
            "count": 0
           },
           {
            "bin_start": 8864.099999999999,
            "bin_end": 11818.8,
            "count": 0
           },
           {
            "bin_start": 11818.8,
            "bin_end": 14773.5,
            "count": 0
           },
           {
            "bin_start": 14773.5,
            "bin_end": 17728.199999999997,
            "count": 1
           },
           {
            "bin_start": 17728.199999999997,
            "bin_end": 20682.899999999998,
            "count": 1
           },
           {
            "bin_start": 20682.899999999998,
            "bin_end": 23637.6,
            "count": 0
           },
           {
            "bin_start": 23637.6,
            "bin_end": 26592.3,
            "count": 0
           },
           {
            "bin_start": 26592.3,
            "bin_end": 29547,
            "count": 1
           }
          ]
         }
        },
        {
         "name": "PAY_AMT1",
         "dtype": "int64",
         "stats": {
          "unique_count": 3,
          "nan_count": 0,
          "min": "0",
          "max": "2000",
          "histogram": [
           {
            "bin_start": 0,
            "bin_end": 200,
            "count": 2
           },
           {
            "bin_start": 200,
            "bin_end": 400,
            "count": 0
           },
           {
            "bin_start": 400,
            "bin_end": 600,
            "count": 0
           },
           {
            "bin_start": 600,
            "bin_end": 800,
            "count": 0
           },
           {
            "bin_start": 800,
            "bin_end": 1000,
            "count": 0
           },
           {
            "bin_start": 1000,
            "bin_end": 1200,
            "count": 0
           },
           {
            "bin_start": 1200,
            "bin_end": 1400,
            "count": 0
           },
           {
            "bin_start": 1400,
            "bin_end": 1600,
            "count": 1
           },
           {
            "bin_start": 1600,
            "bin_end": 1800,
            "count": 0
           },
           {
            "bin_start": 1800,
            "bin_end": 2000,
            "count": 2
           }
          ]
         }
        },
        {
         "name": "PAY_AMT2",
         "dtype": "int64",
         "stats": {
          "unique_count": 5,
          "nan_count": 0,
          "min": "689",
          "max": "36681",
          "histogram": [
           {
            "bin_start": 689,
            "bin_end": 4288.2,
            "count": 4
           },
           {
            "bin_start": 4288.2,
            "bin_end": 7887.4,
            "count": 0
           },
           {
            "bin_start": 7887.4,
            "bin_end": 11486.599999999999,
            "count": 0
           },
           {
            "bin_start": 11486.599999999999,
            "bin_end": 15085.8,
            "count": 0
           },
           {
            "bin_start": 15085.8,
            "bin_end": 18685,
            "count": 0
           },
           {
            "bin_start": 18685,
            "bin_end": 22284.199999999997,
            "count": 0
           },
           {
            "bin_start": 22284.199999999997,
            "bin_end": 25883.399999999998,
            "count": 0
           },
           {
            "bin_start": 25883.399999999998,
            "bin_end": 29482.6,
            "count": 0
           },
           {
            "bin_start": 29482.6,
            "bin_end": 33081.8,
            "count": 0
           },
           {
            "bin_start": 33081.8,
            "bin_end": 36681,
            "count": 1
           }
          ]
         }
        },
        {
         "name": "PAY_AMT3",
         "dtype": "int64",
         "stats": {
          "unique_count": 4,
          "nan_count": 0,
          "min": "0",
          "max": "10000",
          "histogram": [
           {
            "bin_start": 0,
            "bin_end": 1000,
            "count": 1
           },
           {
            "bin_start": 1000,
            "bin_end": 2000,
            "count": 3
           },
           {
            "bin_start": 2000,
            "bin_end": 3000,
            "count": 0
           },
           {
            "bin_start": 3000,
            "bin_end": 4000,
            "count": 0
           },
           {
            "bin_start": 4000,
            "bin_end": 5000,
            "count": 0
           },
           {
            "bin_start": 5000,
            "bin_end": 6000,
            "count": 0
           },
           {
            "bin_start": 6000,
            "bin_end": 7000,
            "count": 0
           },
           {
            "bin_start": 7000,
            "bin_end": 8000,
            "count": 0
           },
           {
            "bin_start": 8000,
            "bin_end": 9000,
            "count": 0
           },
           {
            "bin_start": 9000,
            "bin_end": 10000,
            "count": 1
           }
          ]
         }
        },
        {
         "name": "PAY_AMT4",
         "dtype": "int64",
         "stats": {
          "unique_count": 4,
          "nan_count": 0,
          "min": "0",
          "max": "9000",
          "histogram": [
           {
            "bin_start": 0,
            "bin_end": 900,
            "count": 1
           },
           {
            "bin_start": 900,
            "bin_end": 1800,
            "count": 3
           },
           {
            "bin_start": 1800,
            "bin_end": 2700,
            "count": 0
           },
           {
            "bin_start": 2700,
            "bin_end": 3600,
            "count": 0
           },
           {
            "bin_start": 3600,
            "bin_end": 4500,
            "count": 0
           },
           {
            "bin_start": 4500,
            "bin_end": 5400,
            "count": 0
           },
           {
            "bin_start": 5400,
            "bin_end": 6300,
            "count": 0
           },
           {
            "bin_start": 6300,
            "bin_end": 7200,
            "count": 0
           },
           {
            "bin_start": 7200,
            "bin_end": 8100,
            "count": 0
           },
           {
            "bin_start": 8100,
            "bin_end": 9000,
            "count": 1
           }
          ]
         }
        },
        {
         "name": "PAY_AMT5",
         "dtype": "int64",
         "stats": {
          "unique_count": 4,
          "nan_count": 0,
          "min": "0",
          "max": "1069",
          "histogram": [
           {
            "bin_start": 0,
            "bin_end": 106.9,
            "count": 2
           },
           {
            "bin_start": 106.9,
            "bin_end": 213.8,
            "count": 0
           },
           {
            "bin_start": 213.8,
            "bin_end": 320.70000000000005,
            "count": 0
           },
           {
            "bin_start": 320.70000000000005,
            "bin_end": 427.6,
            "count": 0
           },
           {
            "bin_start": 427.6,
            "bin_end": 534.5,
            "count": 0
           },
           {
            "bin_start": 534.5,
            "bin_end": 641.4000000000001,
            "count": 0
           },
           {
            "bin_start": 641.4000000000001,
            "bin_end": 748.3000000000001,
            "count": 1
           },
           {
            "bin_start": 748.3000000000001,
            "bin_end": 855.2,
            "count": 0
           },
           {
            "bin_start": 855.2,
            "bin_end": 962.1,
            "count": 0
           },
           {
            "bin_start": 962.1,
            "bin_end": 1069,
            "count": 2
           }
          ]
         }
        },
        {
         "name": "PAY_AMT6",
         "dtype": "int64",
         "stats": {
          "unique_count": 5,
          "nan_count": 0,
          "min": "0",
          "max": "5000",
          "histogram": [
           {
            "bin_start": 0,
            "bin_end": 500,
            "count": 1
           },
           {
            "bin_start": 500,
            "bin_end": 1000,
            "count": 1
           },
           {
            "bin_start": 1000,
            "bin_end": 1500,
            "count": 1
           },
           {
            "bin_start": 1500,
            "bin_end": 2000,
            "count": 0
           },
           {
            "bin_start": 2000,
            "bin_end": 2500,
            "count": 1
           },
           {
            "bin_start": 2500,
            "bin_end": 3000,
            "count": 0
           },
           {
            "bin_start": 3000,
            "bin_end": 3500,
            "count": 0
           },
           {
            "bin_start": 3500,
            "bin_end": 4000,
            "count": 0
           },
           {
            "bin_start": 4000,
            "bin_end": 4500,
            "count": 0
           },
           {
            "bin_start": 4500,
            "bin_end": 5000,
            "count": 1
           }
          ]
         }
        },
        {
         "name": "default payment next month",
         "dtype": "int64",
         "stats": {
          "unique_count": 2,
          "nan_count": 0,
          "min": "0",
          "max": "1",
          "histogram": [
           {
            "bin_start": 0,
            "bin_end": 0.1,
            "count": 3
           },
           {
            "bin_start": 0.1,
            "bin_end": 0.2,
            "count": 0
           },
           {
            "bin_start": 0.2,
            "bin_end": 0.30000000000000004,
            "count": 0
           },
           {
            "bin_start": 0.30000000000000004,
            "bin_end": 0.4,
            "count": 0
           },
           {
            "bin_start": 0.4,
            "bin_end": 0.5,
            "count": 0
           },
           {
            "bin_start": 0.5,
            "bin_end": 0.6000000000000001,
            "count": 0
           },
           {
            "bin_start": 0.6000000000000001,
            "bin_end": 0.7000000000000001,
            "count": 0
           },
           {
            "bin_start": 0.7000000000000001,
            "bin_end": 0.8,
            "count": 0
           },
           {
            "bin_start": 0.8,
            "bin_end": 0.9,
            "count": 0
           },
           {
            "bin_start": 0.9,
            "bin_end": 1,
            "count": 2
           }
          ]
         }
        },
        {
         "name": "_deepnote_index_column",
         "dtype": "int64"
        }
       ],
       "rows_top": [
        {
         "LIMIT_BAL": 20000,
         "SEX": 2,
         "EDUCATION": 2,
         "MARRIAGE": 1,
         "AGE": 24,
         "PAY_0": 2,
         "PAY_2": 2,
         "PAY_3": -1,
         "PAY_4": -1,
         "PAY_5": -2,
         "PAY_6": -2,
         "BILL_AMT1": 3913,
         "BILL_AMT2": 3102,
         "BILL_AMT3": 689,
         "BILL_AMT4": 0,
         "BILL_AMT5": 0,
         "BILL_AMT6": 0,
         "PAY_AMT1": 0,
         "PAY_AMT2": 689,
         "PAY_AMT3": 0,
         "PAY_AMT4": 0,
         "PAY_AMT5": 0,
         "PAY_AMT6": 0,
         "default payment next month": 1,
         "_deepnote_index_column": 1
        },
        {
         "LIMIT_BAL": 120000,
         "SEX": 2,
         "EDUCATION": 2,
         "MARRIAGE": 2,
         "AGE": 26,
         "PAY_0": -1,
         "PAY_2": 2,
         "PAY_3": 0,
         "PAY_4": 0,
         "PAY_5": 0,
         "PAY_6": 2,
         "BILL_AMT1": 2682,
         "BILL_AMT2": 1725,
         "BILL_AMT3": 2682,
         "BILL_AMT4": 3272,
         "BILL_AMT5": 3455,
         "BILL_AMT6": 3261,
         "PAY_AMT1": 0,
         "PAY_AMT2": 1000,
         "PAY_AMT3": 1000,
         "PAY_AMT4": 1000,
         "PAY_AMT5": 0,
         "PAY_AMT6": 2000,
         "default payment next month": 1,
         "_deepnote_index_column": 2
        },
        {
         "LIMIT_BAL": 90000,
         "SEX": 2,
         "EDUCATION": 2,
         "MARRIAGE": 2,
         "AGE": 34,
         "PAY_0": 0,
         "PAY_2": 0,
         "PAY_3": 0,
         "PAY_4": 0,
         "PAY_5": 0,
         "PAY_6": 0,
         "BILL_AMT1": 29239,
         "BILL_AMT2": 14027,
         "BILL_AMT3": 13559,
         "BILL_AMT4": 14331,
         "BILL_AMT5": 14948,
         "BILL_AMT6": 15549,
         "PAY_AMT1": 1518,
         "PAY_AMT2": 1500,
         "PAY_AMT3": 1000,
         "PAY_AMT4": 1000,
         "PAY_AMT5": 1000,
         "PAY_AMT6": 5000,
         "default payment next month": 0,
         "_deepnote_index_column": 3
        },
        {
         "LIMIT_BAL": 50000,
         "SEX": 2,
         "EDUCATION": 2,
         "MARRIAGE": 1,
         "AGE": 37,
         "PAY_0": 0,
         "PAY_2": 0,
         "PAY_3": 0,
         "PAY_4": 0,
         "PAY_5": 0,
         "PAY_6": 0,
         "BILL_AMT1": 46990,
         "BILL_AMT2": 48233,
         "BILL_AMT3": 49291,
         "BILL_AMT4": 28314,
         "BILL_AMT5": 28959,
         "BILL_AMT6": 29547,
         "PAY_AMT1": 2000,
         "PAY_AMT2": 2019,
         "PAY_AMT3": 1200,
         "PAY_AMT4": 1100,
         "PAY_AMT5": 1069,
         "PAY_AMT6": 1000,
         "default payment next month": 0,
         "_deepnote_index_column": 4
        },
        {
         "LIMIT_BAL": 50000,
         "SEX": 1,
         "EDUCATION": 2,
         "MARRIAGE": 1,
         "AGE": 57,
         "PAY_0": -1,
         "PAY_2": 0,
         "PAY_3": -1,
         "PAY_4": 0,
         "PAY_5": 0,
         "PAY_6": 0,
         "BILL_AMT1": 8617,
         "BILL_AMT2": 5670,
         "BILL_AMT3": 35835,
         "BILL_AMT4": 20940,
         "BILL_AMT5": 19146,
         "BILL_AMT6": 19131,
         "PAY_AMT1": 2000,
         "PAY_AMT2": 36681,
         "PAY_AMT3": 10000,
         "PAY_AMT4": 9000,
         "PAY_AMT5": 689,
         "PAY_AMT6": 679,
         "default payment next month": 0,
         "_deepnote_index_column": 5
        }
       ],
       "rows_bottom": null
      },
      "text/plain": "    LIMIT_BAL  SEX  EDUCATION  MARRIAGE  AGE  PAY_0  PAY_2  PAY_3  PAY_4  \\\nID                                                                         \n1       20000    2          2         1   24      2      2     -1     -1   \n2      120000    2          2         2   26     -1      2      0      0   \n3       90000    2          2         2   34      0      0      0      0   \n4       50000    2          2         1   37      0      0      0      0   \n5       50000    1          2         1   57     -1      0     -1      0   \n\n    PAY_5  ...  BILL_AMT4  BILL_AMT5  BILL_AMT6  PAY_AMT1  PAY_AMT2  PAY_AMT3  \\\nID         ...                                                                  \n1      -2  ...          0          0          0         0       689         0   \n2       0  ...       3272       3455       3261         0      1000      1000   \n3       0  ...      14331      14948      15549      1518      1500      1000   \n4       0  ...      28314      28959      29547      2000      2019      1200   \n5       0  ...      20940      19146      19131      2000     36681     10000   \n\n    PAY_AMT4  PAY_AMT5  PAY_AMT6  default payment next month  \nID                                                            \n1          0         0         0                           1  \n2       1000         0      2000                           1  \n3       1000      1000      5000                           0  \n4       1100      1069      1000                           0  \n5       9000       689       679                           0  \n\n[5 rows x 24 columns]",
      "text/html": "<div>\n<style scoped>\n    .dataframe tbody tr th:only-of-type {\n        vertical-align: middle;\n    }\n\n    .dataframe tbody tr th {\n        vertical-align: top;\n    }\n\n    .dataframe thead th {\n        text-align: right;\n    }\n</style>\n<table border=\"1\" class=\"dataframe\">\n  <thead>\n    <tr style=\"text-align: right;\">\n      <th></th>\n      <th>LIMIT_BAL</th>\n      <th>SEX</th>\n      <th>EDUCATION</th>\n      <th>MARRIAGE</th>\n      <th>AGE</th>\n      <th>PAY_0</th>\n      <th>PAY_2</th>\n      <th>PAY_3</th>\n      <th>PAY_4</th>\n      <th>PAY_5</th>\n      <th>...</th>\n      <th>BILL_AMT4</th>\n      <th>BILL_AMT5</th>\n      <th>BILL_AMT6</th>\n      <th>PAY_AMT1</th>\n      <th>PAY_AMT2</th>\n      <th>PAY_AMT3</th>\n      <th>PAY_AMT4</th>\n      <th>PAY_AMT5</th>\n      <th>PAY_AMT6</th>\n      <th>default payment next month</th>\n    </tr>\n    <tr>\n      <th>ID</th>\n      <th></th>\n      <th></th>\n      <th></th>\n      <th></th>\n      <th></th>\n      <th></th>\n      <th></th>\n      <th></th>\n      <th></th>\n      <th></th>\n      <th></th>\n      <th></th>\n      <th></th>\n      <th></th>\n      <th></th>\n      <th></th>\n      <th></th>\n      <th></th>\n      <th></th>\n      <th></th>\n      <th></th>\n    </tr>\n  </thead>\n  <tbody>\n    <tr>\n      <th>1</th>\n      <td>20000</td>\n      <td>2</td>\n      <td>2</td>\n      <td>1</td>\n      <td>24</td>\n      <td>2</td>\n      <td>2</td>\n      <td>-1</td>\n      <td>-1</td>\n      <td>-2</td>\n      <td>...</td>\n      <td>0</td>\n      <td>0</td>\n      <td>0</td>\n      <td>0</td>\n      <td>689</td>\n      <td>0</td>\n      <td>0</td>\n      <td>0</td>\n      <td>0</td>\n      <td>1</td>\n    </tr>\n    <tr>\n      <th>2</th>\n      <td>120000</td>\n      <td>2</td>\n      <td>2</td>\n      <td>2</td>\n      <td>26</td>\n      <td>-1</td>\n      <td>2</td>\n      <td>0</td>\n      <td>0</td>\n      <td>0</td>\n      <td>...</td>\n      <td>3272</td>\n      <td>3455</td>\n      <td>3261</td>\n      <td>0</td>\n      <td>1000</td>\n      <td>1000</td>\n      <td>1000</td>\n      <td>0</td>\n      <td>2000</td>\n      <td>1</td>\n    </tr>\n    <tr>\n      <th>3</th>\n      <td>90000</td>\n      <td>2</td>\n      <td>2</td>\n      <td>2</td>\n      <td>34</td>\n      <td>0</td>\n      <td>0</td>\n      <td>0</td>\n      <td>0</td>\n      <td>0</td>\n      <td>...</td>\n      <td>14331</td>\n      <td>14948</td>\n      <td>15549</td>\n      <td>1518</td>\n      <td>1500</td>\n      <td>1000</td>\n      <td>1000</td>\n      <td>1000</td>\n      <td>5000</td>\n      <td>0</td>\n    </tr>\n    <tr>\n      <th>4</th>\n      <td>50000</td>\n      <td>2</td>\n      <td>2</td>\n      <td>1</td>\n      <td>37</td>\n      <td>0</td>\n      <td>0</td>\n      <td>0</td>\n      <td>0</td>\n      <td>0</td>\n      <td>...</td>\n      <td>28314</td>\n      <td>28959</td>\n      <td>29547</td>\n      <td>2000</td>\n      <td>2019</td>\n      <td>1200</td>\n      <td>1100</td>\n      <td>1069</td>\n      <td>1000</td>\n      <td>0</td>\n    </tr>\n    <tr>\n      <th>5</th>\n      <td>50000</td>\n      <td>1</td>\n      <td>2</td>\n      <td>1</td>\n      <td>57</td>\n      <td>-1</td>\n      <td>0</td>\n      <td>-1</td>\n      <td>0</td>\n      <td>0</td>\n      <td>...</td>\n      <td>20940</td>\n      <td>19146</td>\n      <td>19131</td>\n      <td>2000</td>\n      <td>36681</td>\n      <td>10000</td>\n      <td>9000</td>\n      <td>689</td>\n      <td>679</td>\n      <td>0</td>\n    </tr>\n  </tbody>\n</table>\n<p>5 rows × 24 columns</p>\n</div>"
     },
     "metadata": {}
    }
   ],
   "execution_count": null
  },
  {
   "cell_type": "code",
   "metadata": {
    "tags": [],
    "cell_id": "00003-ff49b55f-3206-4aba-8365-bdda516b250d",
    "deepnote_to_be_reexecuted": false,
    "source_hash": "dd2cd192",
    "execution_start": 1621086915569,
    "execution_millis": 70,
    "deepnote_cell_type": "code"
   },
   "source": "onehot_columns = ['SEX','EDUCATION','MARRIAGE']\ndf = pd.get_dummies(df, columns = onehot_columns)\ndefp = df[\"default payment next month\"]\ndf.drop(\"default payment next month\",1,inplace = True)\ndf[\"default payment next month\"] = defp\ndf.head()\n",
   "outputs": [
    {
     "output_type": "execute_result",
     "execution_count": 23,
     "data": {
      "application/vnd.deepnote.dataframe.v2+json": {
       "row_count": 5,
       "column_count": 34,
       "columns": [
        {
         "name": "LIMIT_BAL",
         "dtype": "int64",
         "stats": {
          "unique_count": 4,
          "nan_count": 0,
          "min": "20000",
          "max": "120000",
          "histogram": [
           {
            "bin_start": 20000,
            "bin_end": 30000,
            "count": 1
           },
           {
            "bin_start": 30000,
            "bin_end": 40000,
            "count": 0
           },
           {
            "bin_start": 40000,
            "bin_end": 50000,
            "count": 0
           },
           {
            "bin_start": 50000,
            "bin_end": 60000,
            "count": 2
           },
           {
            "bin_start": 60000,
            "bin_end": 70000,
            "count": 0
           },
           {
            "bin_start": 70000,
            "bin_end": 80000,
            "count": 0
           },
           {
            "bin_start": 80000,
            "bin_end": 90000,
            "count": 0
           },
           {
            "bin_start": 90000,
            "bin_end": 100000,
            "count": 1
           },
           {
            "bin_start": 100000,
            "bin_end": 110000,
            "count": 0
           },
           {
            "bin_start": 110000,
            "bin_end": 120000,
            "count": 1
           }
          ]
         }
        },
        {
         "name": "AGE",
         "dtype": "int64",
         "stats": {
          "unique_count": 5,
          "nan_count": 0,
          "min": "24",
          "max": "57",
          "histogram": [
           {
            "bin_start": 24,
            "bin_end": 27.3,
            "count": 2
           },
           {
            "bin_start": 27.3,
            "bin_end": 30.6,
            "count": 0
           },
           {
            "bin_start": 30.6,
            "bin_end": 33.9,
            "count": 0
           },
           {
            "bin_start": 33.9,
            "bin_end": 37.2,
            "count": 2
           },
           {
            "bin_start": 37.2,
            "bin_end": 40.5,
            "count": 0
           },
           {
            "bin_start": 40.5,
            "bin_end": 43.8,
            "count": 0
           },
           {
            "bin_start": 43.8,
            "bin_end": 47.099999999999994,
            "count": 0
           },
           {
            "bin_start": 47.099999999999994,
            "bin_end": 50.4,
            "count": 0
           },
           {
            "bin_start": 50.4,
            "bin_end": 53.7,
            "count": 0
           },
           {
            "bin_start": 53.7,
            "bin_end": 57,
            "count": 1
           }
          ]
         }
        },
        {
         "name": "PAY_0",
         "dtype": "int64",
         "stats": {
          "unique_count": 3,
          "nan_count": 0,
          "min": "-1",
          "max": "2",
          "histogram": [
           {
            "bin_start": -1,
            "bin_end": -0.7,
            "count": 2
           },
           {
            "bin_start": -0.7,
            "bin_end": -0.4,
            "count": 0
           },
           {
            "bin_start": -0.4,
            "bin_end": -0.10000000000000009,
            "count": 0
           },
           {
            "bin_start": -0.10000000000000009,
            "bin_end": 0.19999999999999996,
            "count": 2
           },
           {
            "bin_start": 0.19999999999999996,
            "bin_end": 0.5,
            "count": 0
           },
           {
            "bin_start": 0.5,
            "bin_end": 0.7999999999999998,
            "count": 0
           },
           {
            "bin_start": 0.7999999999999998,
            "bin_end": 1.1,
            "count": 0
           },
           {
            "bin_start": 1.1,
            "bin_end": 1.4,
            "count": 0
           },
           {
            "bin_start": 1.4,
            "bin_end": 1.6999999999999997,
            "count": 0
           },
           {
            "bin_start": 1.6999999999999997,
            "bin_end": 2,
            "count": 1
           }
          ]
         }
        },
        {
         "name": "PAY_2",
         "dtype": "int64",
         "stats": {
          "unique_count": 2,
          "nan_count": 0,
          "min": "0",
          "max": "2",
          "histogram": [
           {
            "bin_start": 0,
            "bin_end": 0.2,
            "count": 3
           },
           {
            "bin_start": 0.2,
            "bin_end": 0.4,
            "count": 0
           },
           {
            "bin_start": 0.4,
            "bin_end": 0.6000000000000001,
            "count": 0
           },
           {
            "bin_start": 0.6000000000000001,
            "bin_end": 0.8,
            "count": 0
           },
           {
            "bin_start": 0.8,
            "bin_end": 1,
            "count": 0
           },
           {
            "bin_start": 1,
            "bin_end": 1.2000000000000002,
            "count": 0
           },
           {
            "bin_start": 1.2000000000000002,
            "bin_end": 1.4000000000000001,
            "count": 0
           },
           {
            "bin_start": 1.4000000000000001,
            "bin_end": 1.6,
            "count": 0
           },
           {
            "bin_start": 1.6,
            "bin_end": 1.8,
            "count": 0
           },
           {
            "bin_start": 1.8,
            "bin_end": 2,
            "count": 2
           }
          ]
         }
        },
        {
         "name": "PAY_3",
         "dtype": "int64",
         "stats": {
          "unique_count": 2,
          "nan_count": 0,
          "min": "-1",
          "max": "0",
          "histogram": [
           {
            "bin_start": -1,
            "bin_end": -0.9,
            "count": 2
           },
           {
            "bin_start": -0.9,
            "bin_end": -0.8,
            "count": 0
           },
           {
            "bin_start": -0.8,
            "bin_end": -0.7,
            "count": 0
           },
           {
            "bin_start": -0.7,
            "bin_end": -0.6,
            "count": 0
           },
           {
            "bin_start": -0.6,
            "bin_end": -0.5,
            "count": 0
           },
           {
            "bin_start": -0.5,
            "bin_end": -0.3999999999999999,
            "count": 0
           },
           {
            "bin_start": -0.3999999999999999,
            "bin_end": -0.29999999999999993,
            "count": 0
           },
           {
            "bin_start": -0.29999999999999993,
            "bin_end": -0.19999999999999996,
            "count": 0
           },
           {
            "bin_start": -0.19999999999999996,
            "bin_end": -0.09999999999999998,
            "count": 0
           },
           {
            "bin_start": -0.09999999999999998,
            "bin_end": 0,
            "count": 3
           }
          ]
         }
        },
        {
         "name": "PAY_4",
         "dtype": "int64",
         "stats": {
          "unique_count": 2,
          "nan_count": 0,
          "min": "-1",
          "max": "0",
          "histogram": [
           {
            "bin_start": -1,
            "bin_end": -0.9,
            "count": 1
           },
           {
            "bin_start": -0.9,
            "bin_end": -0.8,
            "count": 0
           },
           {
            "bin_start": -0.8,
            "bin_end": -0.7,
            "count": 0
           },
           {
            "bin_start": -0.7,
            "bin_end": -0.6,
            "count": 0
           },
           {
            "bin_start": -0.6,
            "bin_end": -0.5,
            "count": 0
           },
           {
            "bin_start": -0.5,
            "bin_end": -0.3999999999999999,
            "count": 0
           },
           {
            "bin_start": -0.3999999999999999,
            "bin_end": -0.29999999999999993,
            "count": 0
           },
           {
            "bin_start": -0.29999999999999993,
            "bin_end": -0.19999999999999996,
            "count": 0
           },
           {
            "bin_start": -0.19999999999999996,
            "bin_end": -0.09999999999999998,
            "count": 0
           },
           {
            "bin_start": -0.09999999999999998,
            "bin_end": 0,
            "count": 4
           }
          ]
         }
        },
        {
         "name": "PAY_5",
         "dtype": "int64",
         "stats": {
          "unique_count": 2,
          "nan_count": 0,
          "min": "-2",
          "max": "0",
          "histogram": [
           {
            "bin_start": -2,
            "bin_end": -1.8,
            "count": 1
           },
           {
            "bin_start": -1.8,
            "bin_end": -1.6,
            "count": 0
           },
           {
            "bin_start": -1.6,
            "bin_end": -1.4,
            "count": 0
           },
           {
            "bin_start": -1.4,
            "bin_end": -1.2,
            "count": 0
           },
           {
            "bin_start": -1.2,
            "bin_end": -1,
            "count": 0
           },
           {
            "bin_start": -1,
            "bin_end": -0.7999999999999998,
            "count": 0
           },
           {
            "bin_start": -0.7999999999999998,
            "bin_end": -0.5999999999999999,
            "count": 0
           },
           {
            "bin_start": -0.5999999999999999,
            "bin_end": -0.3999999999999999,
            "count": 0
           },
           {
            "bin_start": -0.3999999999999999,
            "bin_end": -0.19999999999999996,
            "count": 0
           },
           {
            "bin_start": -0.19999999999999996,
            "bin_end": 0,
            "count": 4
           }
          ]
         }
        },
        {
         "name": "PAY_6",
         "dtype": "int64",
         "stats": {
          "unique_count": 3,
          "nan_count": 0,
          "min": "-2",
          "max": "2",
          "histogram": [
           {
            "bin_start": -2,
            "bin_end": -1.6,
            "count": 1
           },
           {
            "bin_start": -1.6,
            "bin_end": -1.2,
            "count": 0
           },
           {
            "bin_start": -1.2,
            "bin_end": -0.7999999999999998,
            "count": 0
           },
           {
            "bin_start": -0.7999999999999998,
            "bin_end": -0.3999999999999999,
            "count": 0
           },
           {
            "bin_start": -0.3999999999999999,
            "bin_end": 0,
            "count": 0
           },
           {
            "bin_start": 0,
            "bin_end": 0.40000000000000036,
            "count": 3
           },
           {
            "bin_start": 0.40000000000000036,
            "bin_end": 0.8000000000000003,
            "count": 0
           },
           {
            "bin_start": 0.8000000000000003,
            "bin_end": 1.2000000000000002,
            "count": 0
           },
           {
            "bin_start": 1.2000000000000002,
            "bin_end": 1.6,
            "count": 0
           },
           {
            "bin_start": 1.6,
            "bin_end": 2,
            "count": 1
           }
          ]
         }
        },
        {
         "name": "BILL_AMT1",
         "dtype": "int64",
         "stats": {
          "unique_count": 5,
          "nan_count": 0,
          "min": "2682",
          "max": "46990",
          "histogram": [
           {
            "bin_start": 2682,
            "bin_end": 7112.8,
            "count": 2
           },
           {
            "bin_start": 7112.8,
            "bin_end": 11543.6,
            "count": 1
           },
           {
            "bin_start": 11543.6,
            "bin_end": 15974.400000000001,
            "count": 0
           },
           {
            "bin_start": 15974.400000000001,
            "bin_end": 20405.2,
            "count": 0
           },
           {
            "bin_start": 20405.2,
            "bin_end": 24836,
            "count": 0
           },
           {
            "bin_start": 24836,
            "bin_end": 29266.800000000003,
            "count": 1
           },
           {
            "bin_start": 29266.800000000003,
            "bin_end": 33697.600000000006,
            "count": 0
           },
           {
            "bin_start": 33697.600000000006,
            "bin_end": 38128.4,
            "count": 0
           },
           {
            "bin_start": 38128.4,
            "bin_end": 42559.200000000004,
            "count": 0
           },
           {
            "bin_start": 42559.200000000004,
            "bin_end": 46990,
            "count": 1
           }
          ]
         }
        },
        {
         "name": "BILL_AMT2",
         "dtype": "int64",
         "stats": {
          "unique_count": 5,
          "nan_count": 0,
          "min": "1725",
          "max": "48233",
          "histogram": [
           {
            "bin_start": 1725,
            "bin_end": 6375.8,
            "count": 3
           },
           {
            "bin_start": 6375.8,
            "bin_end": 11026.6,
            "count": 0
           },
           {
            "bin_start": 11026.6,
            "bin_end": 15677.400000000001,
            "count": 1
           },
           {
            "bin_start": 15677.400000000001,
            "bin_end": 20328.2,
            "count": 0
           },
           {
            "bin_start": 20328.2,
            "bin_end": 24979,
            "count": 0
           },
           {
            "bin_start": 24979,
            "bin_end": 29629.800000000003,
            "count": 0
           },
           {
            "bin_start": 29629.800000000003,
            "bin_end": 34280.600000000006,
            "count": 0
           },
           {
            "bin_start": 34280.600000000006,
            "bin_end": 38931.4,
            "count": 0
           },
           {
            "bin_start": 38931.4,
            "bin_end": 43582.200000000004,
            "count": 0
           },
           {
            "bin_start": 43582.200000000004,
            "bin_end": 48233,
            "count": 1
           }
          ]
         }
        },
        {
         "name": "BILL_AMT3",
         "dtype": "int64",
         "stats": {
          "unique_count": 5,
          "nan_count": 0,
          "min": "689",
          "max": "49291",
          "histogram": [
           {
            "bin_start": 689,
            "bin_end": 5549.2,
            "count": 2
           },
           {
            "bin_start": 5549.2,
            "bin_end": 10409.4,
            "count": 0
           },
           {
            "bin_start": 10409.4,
            "bin_end": 15269.599999999999,
            "count": 1
           },
           {
            "bin_start": 15269.599999999999,
            "bin_end": 20129.8,
            "count": 0
           },
           {
            "bin_start": 20129.8,
            "bin_end": 24990,
            "count": 0
           },
           {
            "bin_start": 24990,
            "bin_end": 29850.199999999997,
            "count": 0
           },
           {
            "bin_start": 29850.199999999997,
            "bin_end": 34710.4,
            "count": 0
           },
           {
            "bin_start": 34710.4,
            "bin_end": 39570.6,
            "count": 1
           },
           {
            "bin_start": 39570.6,
            "bin_end": 44430.799999999996,
            "count": 0
           },
           {
            "bin_start": 44430.799999999996,
            "bin_end": 49291,
            "count": 1
           }
          ]
         }
        },
        {
         "name": "BILL_AMT4",
         "dtype": "int64",
         "stats": {
          "unique_count": 5,
          "nan_count": 0,
          "min": "0",
          "max": "28314",
          "histogram": [
           {
            "bin_start": 0,
            "bin_end": 2831.4,
            "count": 1
           },
           {
            "bin_start": 2831.4,
            "bin_end": 5662.8,
            "count": 1
           },
           {
            "bin_start": 5662.8,
            "bin_end": 8494.2,
            "count": 0
           },
           {
            "bin_start": 8494.2,
            "bin_end": 11325.6,
            "count": 0
           },
           {
            "bin_start": 11325.6,
            "bin_end": 14157,
            "count": 0
           },
           {
            "bin_start": 14157,
            "bin_end": 16988.4,
            "count": 1
           },
           {
            "bin_start": 16988.4,
            "bin_end": 19819.8,
            "count": 0
           },
           {
            "bin_start": 19819.8,
            "bin_end": 22651.2,
            "count": 1
           },
           {
            "bin_start": 22651.2,
            "bin_end": 25482.600000000002,
            "count": 0
           },
           {
            "bin_start": 25482.600000000002,
            "bin_end": 28314,
            "count": 1
           }
          ]
         }
        },
        {
         "name": "BILL_AMT5",
         "dtype": "int64",
         "stats": {
          "unique_count": 5,
          "nan_count": 0,
          "min": "0",
          "max": "28959",
          "histogram": [
           {
            "bin_start": 0,
            "bin_end": 2895.9,
            "count": 1
           },
           {
            "bin_start": 2895.9,
            "bin_end": 5791.8,
            "count": 1
           },
           {
            "bin_start": 5791.8,
            "bin_end": 8687.7,
            "count": 0
           },
           {
            "bin_start": 8687.7,
            "bin_end": 11583.6,
            "count": 0
           },
           {
            "bin_start": 11583.6,
            "bin_end": 14479.5,
            "count": 0
           },
           {
            "bin_start": 14479.5,
            "bin_end": 17375.4,
            "count": 1
           },
           {
            "bin_start": 17375.4,
            "bin_end": 20271.3,
            "count": 1
           },
           {
            "bin_start": 20271.3,
            "bin_end": 23167.2,
            "count": 0
           },
           {
            "bin_start": 23167.2,
            "bin_end": 26063.100000000002,
            "count": 0
           },
           {
            "bin_start": 26063.100000000002,
            "bin_end": 28959,
            "count": 1
           }
          ]
         }
        },
        {
         "name": "BILL_AMT6",
         "dtype": "int64",
         "stats": {
          "unique_count": 5,
          "nan_count": 0,
          "min": "0",
          "max": "29547",
          "histogram": [
           {
            "bin_start": 0,
            "bin_end": 2954.7,
            "count": 1
           },
           {
            "bin_start": 2954.7,
            "bin_end": 5909.4,
            "count": 1
           },
           {
            "bin_start": 5909.4,
            "bin_end": 8864.099999999999,
            "count": 0
           },
           {
            "bin_start": 8864.099999999999,
            "bin_end": 11818.8,
            "count": 0
           },
           {
            "bin_start": 11818.8,
            "bin_end": 14773.5,
            "count": 0
           },
           {
            "bin_start": 14773.5,
            "bin_end": 17728.199999999997,
            "count": 1
           },
           {
            "bin_start": 17728.199999999997,
            "bin_end": 20682.899999999998,
            "count": 1
           },
           {
            "bin_start": 20682.899999999998,
            "bin_end": 23637.6,
            "count": 0
           },
           {
            "bin_start": 23637.6,
            "bin_end": 26592.3,
            "count": 0
           },
           {
            "bin_start": 26592.3,
            "bin_end": 29547,
            "count": 1
           }
          ]
         }
        },
        {
         "name": "PAY_AMT1",
         "dtype": "int64",
         "stats": {
          "unique_count": 3,
          "nan_count": 0,
          "min": "0",
          "max": "2000",
          "histogram": [
           {
            "bin_start": 0,
            "bin_end": 200,
            "count": 2
           },
           {
            "bin_start": 200,
            "bin_end": 400,
            "count": 0
           },
           {
            "bin_start": 400,
            "bin_end": 600,
            "count": 0
           },
           {
            "bin_start": 600,
            "bin_end": 800,
            "count": 0
           },
           {
            "bin_start": 800,
            "bin_end": 1000,
            "count": 0
           },
           {
            "bin_start": 1000,
            "bin_end": 1200,
            "count": 0
           },
           {
            "bin_start": 1200,
            "bin_end": 1400,
            "count": 0
           },
           {
            "bin_start": 1400,
            "bin_end": 1600,
            "count": 1
           },
           {
            "bin_start": 1600,
            "bin_end": 1800,
            "count": 0
           },
           {
            "bin_start": 1800,
            "bin_end": 2000,
            "count": 2
           }
          ]
         }
        },
        {
         "name": "PAY_AMT2",
         "dtype": "int64",
         "stats": {
          "unique_count": 5,
          "nan_count": 0,
          "min": "689",
          "max": "36681",
          "histogram": [
           {
            "bin_start": 689,
            "bin_end": 4288.2,
            "count": 4
           },
           {
            "bin_start": 4288.2,
            "bin_end": 7887.4,
            "count": 0
           },
           {
            "bin_start": 7887.4,
            "bin_end": 11486.599999999999,
            "count": 0
           },
           {
            "bin_start": 11486.599999999999,
            "bin_end": 15085.8,
            "count": 0
           },
           {
            "bin_start": 15085.8,
            "bin_end": 18685,
            "count": 0
           },
           {
            "bin_start": 18685,
            "bin_end": 22284.199999999997,
            "count": 0
           },
           {
            "bin_start": 22284.199999999997,
            "bin_end": 25883.399999999998,
            "count": 0
           },
           {
            "bin_start": 25883.399999999998,
            "bin_end": 29482.6,
            "count": 0
           },
           {
            "bin_start": 29482.6,
            "bin_end": 33081.8,
            "count": 0
           },
           {
            "bin_start": 33081.8,
            "bin_end": 36681,
            "count": 1
           }
          ]
         }
        },
        {
         "name": "PAY_AMT3",
         "dtype": "int64",
         "stats": {
          "unique_count": 4,
          "nan_count": 0,
          "min": "0",
          "max": "10000",
          "histogram": [
           {
            "bin_start": 0,
            "bin_end": 1000,
            "count": 1
           },
           {
            "bin_start": 1000,
            "bin_end": 2000,
            "count": 3
           },
           {
            "bin_start": 2000,
            "bin_end": 3000,
            "count": 0
           },
           {
            "bin_start": 3000,
            "bin_end": 4000,
            "count": 0
           },
           {
            "bin_start": 4000,
            "bin_end": 5000,
            "count": 0
           },
           {
            "bin_start": 5000,
            "bin_end": 6000,
            "count": 0
           },
           {
            "bin_start": 6000,
            "bin_end": 7000,
            "count": 0
           },
           {
            "bin_start": 7000,
            "bin_end": 8000,
            "count": 0
           },
           {
            "bin_start": 8000,
            "bin_end": 9000,
            "count": 0
           },
           {
            "bin_start": 9000,
            "bin_end": 10000,
            "count": 1
           }
          ]
         }
        },
        {
         "name": "PAY_AMT4",
         "dtype": "int64",
         "stats": {
          "unique_count": 4,
          "nan_count": 0,
          "min": "0",
          "max": "9000",
          "histogram": [
           {
            "bin_start": 0,
            "bin_end": 900,
            "count": 1
           },
           {
            "bin_start": 900,
            "bin_end": 1800,
            "count": 3
           },
           {
            "bin_start": 1800,
            "bin_end": 2700,
            "count": 0
           },
           {
            "bin_start": 2700,
            "bin_end": 3600,
            "count": 0
           },
           {
            "bin_start": 3600,
            "bin_end": 4500,
            "count": 0
           },
           {
            "bin_start": 4500,
            "bin_end": 5400,
            "count": 0
           },
           {
            "bin_start": 5400,
            "bin_end": 6300,
            "count": 0
           },
           {
            "bin_start": 6300,
            "bin_end": 7200,
            "count": 0
           },
           {
            "bin_start": 7200,
            "bin_end": 8100,
            "count": 0
           },
           {
            "bin_start": 8100,
            "bin_end": 9000,
            "count": 1
           }
          ]
         }
        },
        {
         "name": "PAY_AMT5",
         "dtype": "int64",
         "stats": {
          "unique_count": 4,
          "nan_count": 0,
          "min": "0",
          "max": "1069",
          "histogram": [
           {
            "bin_start": 0,
            "bin_end": 106.9,
            "count": 2
           },
           {
            "bin_start": 106.9,
            "bin_end": 213.8,
            "count": 0
           },
           {
            "bin_start": 213.8,
            "bin_end": 320.70000000000005,
            "count": 0
           },
           {
            "bin_start": 320.70000000000005,
            "bin_end": 427.6,
            "count": 0
           },
           {
            "bin_start": 427.6,
            "bin_end": 534.5,
            "count": 0
           },
           {
            "bin_start": 534.5,
            "bin_end": 641.4000000000001,
            "count": 0
           },
           {
            "bin_start": 641.4000000000001,
            "bin_end": 748.3000000000001,
            "count": 1
           },
           {
            "bin_start": 748.3000000000001,
            "bin_end": 855.2,
            "count": 0
           },
           {
            "bin_start": 855.2,
            "bin_end": 962.1,
            "count": 0
           },
           {
            "bin_start": 962.1,
            "bin_end": 1069,
            "count": 2
           }
          ]
         }
        },
        {
         "name": "PAY_AMT6",
         "dtype": "int64",
         "stats": {
          "unique_count": 5,
          "nan_count": 0,
          "min": "0",
          "max": "5000",
          "histogram": [
           {
            "bin_start": 0,
            "bin_end": 500,
            "count": 1
           },
           {
            "bin_start": 500,
            "bin_end": 1000,
            "count": 1
           },
           {
            "bin_start": 1000,
            "bin_end": 1500,
            "count": 1
           },
           {
            "bin_start": 1500,
            "bin_end": 2000,
            "count": 0
           },
           {
            "bin_start": 2000,
            "bin_end": 2500,
            "count": 1
           },
           {
            "bin_start": 2500,
            "bin_end": 3000,
            "count": 0
           },
           {
            "bin_start": 3000,
            "bin_end": 3500,
            "count": 0
           },
           {
            "bin_start": 3500,
            "bin_end": 4000,
            "count": 0
           },
           {
            "bin_start": 4000,
            "bin_end": 4500,
            "count": 0
           },
           {
            "bin_start": 4500,
            "bin_end": 5000,
            "count": 1
           }
          ]
         }
        },
        {
         "name": "SEX_1",
         "dtype": "uint8",
         "stats": {
          "unique_count": 2,
          "nan_count": 0,
          "min": "0",
          "max": "1",
          "histogram": [
           {
            "bin_start": 0,
            "bin_end": 0.1,
            "count": 4
           },
           {
            "bin_start": 0.1,
            "bin_end": 0.2,
            "count": 0
           },
           {
            "bin_start": 0.2,
            "bin_end": 0.30000000000000004,
            "count": 0
           },
           {
            "bin_start": 0.30000000000000004,
            "bin_end": 0.4,
            "count": 0
           },
           {
            "bin_start": 0.4,
            "bin_end": 0.5,
            "count": 0
           },
           {
            "bin_start": 0.5,
            "bin_end": 0.6000000000000001,
            "count": 0
           },
           {
            "bin_start": 0.6000000000000001,
            "bin_end": 0.7000000000000001,
            "count": 0
           },
           {
            "bin_start": 0.7000000000000001,
            "bin_end": 0.8,
            "count": 0
           },
           {
            "bin_start": 0.8,
            "bin_end": 0.9,
            "count": 0
           },
           {
            "bin_start": 0.9,
            "bin_end": 1,
            "count": 1
           }
          ]
         }
        },
        {
         "name": "SEX_2",
         "dtype": "uint8",
         "stats": {
          "unique_count": 2,
          "nan_count": 0,
          "min": "0",
          "max": "1",
          "histogram": [
           {
            "bin_start": 0,
            "bin_end": 0.1,
            "count": 1
           },
           {
            "bin_start": 0.1,
            "bin_end": 0.2,
            "count": 0
           },
           {
            "bin_start": 0.2,
            "bin_end": 0.30000000000000004,
            "count": 0
           },
           {
            "bin_start": 0.30000000000000004,
            "bin_end": 0.4,
            "count": 0
           },
           {
            "bin_start": 0.4,
            "bin_end": 0.5,
            "count": 0
           },
           {
            "bin_start": 0.5,
            "bin_end": 0.6000000000000001,
            "count": 0
           },
           {
            "bin_start": 0.6000000000000001,
            "bin_end": 0.7000000000000001,
            "count": 0
           },
           {
            "bin_start": 0.7000000000000001,
            "bin_end": 0.8,
            "count": 0
           },
           {
            "bin_start": 0.8,
            "bin_end": 0.9,
            "count": 0
           },
           {
            "bin_start": 0.9,
            "bin_end": 1,
            "count": 4
           }
          ]
         }
        },
        {
         "name": "EDUCATION_0",
         "dtype": "uint8",
         "stats": {
          "unique_count": 1,
          "nan_count": 0,
          "min": "0",
          "max": "0",
          "histogram": [
           {
            "bin_start": -0.5,
            "bin_end": -0.4,
            "count": 0
           },
           {
            "bin_start": -0.4,
            "bin_end": -0.3,
            "count": 0
           },
           {
            "bin_start": -0.3,
            "bin_end": -0.19999999999999996,
            "count": 0
           },
           {
            "bin_start": -0.19999999999999996,
            "bin_end": -0.09999999999999998,
            "count": 0
           },
           {
            "bin_start": -0.09999999999999998,
            "bin_end": 0,
            "count": 0
           },
           {
            "bin_start": 0,
            "bin_end": 0.10000000000000009,
            "count": 5
           },
           {
            "bin_start": 0.10000000000000009,
            "bin_end": 0.20000000000000007,
            "count": 0
           },
           {
            "bin_start": 0.20000000000000007,
            "bin_end": 0.30000000000000004,
            "count": 0
           },
           {
            "bin_start": 0.30000000000000004,
            "bin_end": 0.4,
            "count": 0
           },
           {
            "bin_start": 0.4,
            "bin_end": 0.5,
            "count": 0
           }
          ]
         }
        },
        {
         "name": "EDUCATION_1",
         "dtype": "uint8",
         "stats": {
          "unique_count": 1,
          "nan_count": 0,
          "min": "0",
          "max": "0",
          "histogram": [
           {
            "bin_start": -0.5,
            "bin_end": -0.4,
            "count": 0
           },
           {
            "bin_start": -0.4,
            "bin_end": -0.3,
            "count": 0
           },
           {
            "bin_start": -0.3,
            "bin_end": -0.19999999999999996,
            "count": 0
           },
           {
            "bin_start": -0.19999999999999996,
            "bin_end": -0.09999999999999998,
            "count": 0
           },
           {
            "bin_start": -0.09999999999999998,
            "bin_end": 0,
            "count": 0
           },
           {
            "bin_start": 0,
            "bin_end": 0.10000000000000009,
            "count": 5
           },
           {
            "bin_start": 0.10000000000000009,
            "bin_end": 0.20000000000000007,
            "count": 0
           },
           {
            "bin_start": 0.20000000000000007,
            "bin_end": 0.30000000000000004,
            "count": 0
           },
           {
            "bin_start": 0.30000000000000004,
            "bin_end": 0.4,
            "count": 0
           },
           {
            "bin_start": 0.4,
            "bin_end": 0.5,
            "count": 0
           }
          ]
         }
        },
        {
         "name": "EDUCATION_2",
         "dtype": "uint8",
         "stats": {
          "unique_count": 1,
          "nan_count": 0,
          "min": "1",
          "max": "1",
          "histogram": [
           {
            "bin_start": 0.5,
            "bin_end": 0.6,
            "count": 0
           },
           {
            "bin_start": 0.6,
            "bin_end": 0.7,
            "count": 0
           },
           {
            "bin_start": 0.7,
            "bin_end": 0.8,
            "count": 0
           },
           {
            "bin_start": 0.8,
            "bin_end": 0.9,
            "count": 0
           },
           {
            "bin_start": 0.9,
            "bin_end": 1,
            "count": 0
           },
           {
            "bin_start": 1,
            "bin_end": 1.1,
            "count": 5
           },
           {
            "bin_start": 1.1,
            "bin_end": 1.2000000000000002,
            "count": 0
           },
           {
            "bin_start": 1.2000000000000002,
            "bin_end": 1.3,
            "count": 0
           },
           {
            "bin_start": 1.3,
            "bin_end": 1.4,
            "count": 0
           },
           {
            "bin_start": 1.4,
            "bin_end": 1.5,
            "count": 0
           }
          ]
         }
        },
        {
         "name": "EDUCATION_3",
         "dtype": "uint8",
         "stats": {
          "unique_count": 1,
          "nan_count": 0,
          "min": "0",
          "max": "0",
          "histogram": [
           {
            "bin_start": -0.5,
            "bin_end": -0.4,
            "count": 0
           },
           {
            "bin_start": -0.4,
            "bin_end": -0.3,
            "count": 0
           },
           {
            "bin_start": -0.3,
            "bin_end": -0.19999999999999996,
            "count": 0
           },
           {
            "bin_start": -0.19999999999999996,
            "bin_end": -0.09999999999999998,
            "count": 0
           },
           {
            "bin_start": -0.09999999999999998,
            "bin_end": 0,
            "count": 0
           },
           {
            "bin_start": 0,
            "bin_end": 0.10000000000000009,
            "count": 5
           },
           {
            "bin_start": 0.10000000000000009,
            "bin_end": 0.20000000000000007,
            "count": 0
           },
           {
            "bin_start": 0.20000000000000007,
            "bin_end": 0.30000000000000004,
            "count": 0
           },
           {
            "bin_start": 0.30000000000000004,
            "bin_end": 0.4,
            "count": 0
           },
           {
            "bin_start": 0.4,
            "bin_end": 0.5,
            "count": 0
           }
          ]
         }
        },
        {
         "name": "EDUCATION_4",
         "dtype": "uint8",
         "stats": {
          "unique_count": 1,
          "nan_count": 0,
          "min": "0",
          "max": "0",
          "histogram": [
           {
            "bin_start": -0.5,
            "bin_end": -0.4,
            "count": 0
           },
           {
            "bin_start": -0.4,
            "bin_end": -0.3,
            "count": 0
           },
           {
            "bin_start": -0.3,
            "bin_end": -0.19999999999999996,
            "count": 0
           },
           {
            "bin_start": -0.19999999999999996,
            "bin_end": -0.09999999999999998,
            "count": 0
           },
           {
            "bin_start": -0.09999999999999998,
            "bin_end": 0,
            "count": 0
           },
           {
            "bin_start": 0,
            "bin_end": 0.10000000000000009,
            "count": 5
           },
           {
            "bin_start": 0.10000000000000009,
            "bin_end": 0.20000000000000007,
            "count": 0
           },
           {
            "bin_start": 0.20000000000000007,
            "bin_end": 0.30000000000000004,
            "count": 0
           },
           {
            "bin_start": 0.30000000000000004,
            "bin_end": 0.4,
            "count": 0
           },
           {
            "bin_start": 0.4,
            "bin_end": 0.5,
            "count": 0
           }
          ]
         }
        },
        {
         "name": "EDUCATION_5",
         "dtype": "uint8",
         "stats": {
          "unique_count": 1,
          "nan_count": 0,
          "min": "0",
          "max": "0",
          "histogram": [
           {
            "bin_start": -0.5,
            "bin_end": -0.4,
            "count": 0
           },
           {
            "bin_start": -0.4,
            "bin_end": -0.3,
            "count": 0
           },
           {
            "bin_start": -0.3,
            "bin_end": -0.19999999999999996,
            "count": 0
           },
           {
            "bin_start": -0.19999999999999996,
            "bin_end": -0.09999999999999998,
            "count": 0
           },
           {
            "bin_start": -0.09999999999999998,
            "bin_end": 0,
            "count": 0
           },
           {
            "bin_start": 0,
            "bin_end": 0.10000000000000009,
            "count": 5
           },
           {
            "bin_start": 0.10000000000000009,
            "bin_end": 0.20000000000000007,
            "count": 0
           },
           {
            "bin_start": 0.20000000000000007,
            "bin_end": 0.30000000000000004,
            "count": 0
           },
           {
            "bin_start": 0.30000000000000004,
            "bin_end": 0.4,
            "count": 0
           },
           {
            "bin_start": 0.4,
            "bin_end": 0.5,
            "count": 0
           }
          ]
         }
        },
        {
         "name": "EDUCATION_6",
         "dtype": "uint8",
         "stats": {
          "unique_count": 1,
          "nan_count": 0,
          "min": "0",
          "max": "0",
          "histogram": [
           {
            "bin_start": -0.5,
            "bin_end": -0.4,
            "count": 0
           },
           {
            "bin_start": -0.4,
            "bin_end": -0.3,
            "count": 0
           },
           {
            "bin_start": -0.3,
            "bin_end": -0.19999999999999996,
            "count": 0
           },
           {
            "bin_start": -0.19999999999999996,
            "bin_end": -0.09999999999999998,
            "count": 0
           },
           {
            "bin_start": -0.09999999999999998,
            "bin_end": 0,
            "count": 0
           },
           {
            "bin_start": 0,
            "bin_end": 0.10000000000000009,
            "count": 5
           },
           {
            "bin_start": 0.10000000000000009,
            "bin_end": 0.20000000000000007,
            "count": 0
           },
           {
            "bin_start": 0.20000000000000007,
            "bin_end": 0.30000000000000004,
            "count": 0
           },
           {
            "bin_start": 0.30000000000000004,
            "bin_end": 0.4,
            "count": 0
           },
           {
            "bin_start": 0.4,
            "bin_end": 0.5,
            "count": 0
           }
          ]
         }
        },
        {
         "name": "MARRIAGE_0",
         "dtype": "uint8",
         "stats": {
          "unique_count": 1,
          "nan_count": 0,
          "min": "0",
          "max": "0",
          "histogram": [
           {
            "bin_start": -0.5,
            "bin_end": -0.4,
            "count": 0
           },
           {
            "bin_start": -0.4,
            "bin_end": -0.3,
            "count": 0
           },
           {
            "bin_start": -0.3,
            "bin_end": -0.19999999999999996,
            "count": 0
           },
           {
            "bin_start": -0.19999999999999996,
            "bin_end": -0.09999999999999998,
            "count": 0
           },
           {
            "bin_start": -0.09999999999999998,
            "bin_end": 0,
            "count": 0
           },
           {
            "bin_start": 0,
            "bin_end": 0.10000000000000009,
            "count": 5
           },
           {
            "bin_start": 0.10000000000000009,
            "bin_end": 0.20000000000000007,
            "count": 0
           },
           {
            "bin_start": 0.20000000000000007,
            "bin_end": 0.30000000000000004,
            "count": 0
           },
           {
            "bin_start": 0.30000000000000004,
            "bin_end": 0.4,
            "count": 0
           },
           {
            "bin_start": 0.4,
            "bin_end": 0.5,
            "count": 0
           }
          ]
         }
        },
        {
         "name": "MARRIAGE_1",
         "dtype": "uint8",
         "stats": {
          "unique_count": 2,
          "nan_count": 0,
          "min": "0",
          "max": "1",
          "histogram": [
           {
            "bin_start": 0,
            "bin_end": 0.1,
            "count": 2
           },
           {
            "bin_start": 0.1,
            "bin_end": 0.2,
            "count": 0
           },
           {
            "bin_start": 0.2,
            "bin_end": 0.30000000000000004,
            "count": 0
           },
           {
            "bin_start": 0.30000000000000004,
            "bin_end": 0.4,
            "count": 0
           },
           {
            "bin_start": 0.4,
            "bin_end": 0.5,
            "count": 0
           },
           {
            "bin_start": 0.5,
            "bin_end": 0.6000000000000001,
            "count": 0
           },
           {
            "bin_start": 0.6000000000000001,
            "bin_end": 0.7000000000000001,
            "count": 0
           },
           {
            "bin_start": 0.7000000000000001,
            "bin_end": 0.8,
            "count": 0
           },
           {
            "bin_start": 0.8,
            "bin_end": 0.9,
            "count": 0
           },
           {
            "bin_start": 0.9,
            "bin_end": 1,
            "count": 3
           }
          ]
         }
        },
        {
         "name": "MARRIAGE_2",
         "dtype": "uint8",
         "stats": {
          "unique_count": 2,
          "nan_count": 0,
          "min": "0",
          "max": "1",
          "histogram": [
           {
            "bin_start": 0,
            "bin_end": 0.1,
            "count": 3
           },
           {
            "bin_start": 0.1,
            "bin_end": 0.2,
            "count": 0
           },
           {
            "bin_start": 0.2,
            "bin_end": 0.30000000000000004,
            "count": 0
           },
           {
            "bin_start": 0.30000000000000004,
            "bin_end": 0.4,
            "count": 0
           },
           {
            "bin_start": 0.4,
            "bin_end": 0.5,
            "count": 0
           },
           {
            "bin_start": 0.5,
            "bin_end": 0.6000000000000001,
            "count": 0
           },
           {
            "bin_start": 0.6000000000000001,
            "bin_end": 0.7000000000000001,
            "count": 0
           },
           {
            "bin_start": 0.7000000000000001,
            "bin_end": 0.8,
            "count": 0
           },
           {
            "bin_start": 0.8,
            "bin_end": 0.9,
            "count": 0
           },
           {
            "bin_start": 0.9,
            "bin_end": 1,
            "count": 2
           }
          ]
         }
        },
        {
         "name": "MARRIAGE_3",
         "dtype": "uint8",
         "stats": {
          "unique_count": 1,
          "nan_count": 0,
          "min": "0",
          "max": "0",
          "histogram": [
           {
            "bin_start": -0.5,
            "bin_end": -0.4,
            "count": 0
           },
           {
            "bin_start": -0.4,
            "bin_end": -0.3,
            "count": 0
           },
           {
            "bin_start": -0.3,
            "bin_end": -0.19999999999999996,
            "count": 0
           },
           {
            "bin_start": -0.19999999999999996,
            "bin_end": -0.09999999999999998,
            "count": 0
           },
           {
            "bin_start": -0.09999999999999998,
            "bin_end": 0,
            "count": 0
           },
           {
            "bin_start": 0,
            "bin_end": 0.10000000000000009,
            "count": 5
           },
           {
            "bin_start": 0.10000000000000009,
            "bin_end": 0.20000000000000007,
            "count": 0
           },
           {
            "bin_start": 0.20000000000000007,
            "bin_end": 0.30000000000000004,
            "count": 0
           },
           {
            "bin_start": 0.30000000000000004,
            "bin_end": 0.4,
            "count": 0
           },
           {
            "bin_start": 0.4,
            "bin_end": 0.5,
            "count": 0
           }
          ]
         }
        },
        {
         "name": "default payment next month",
         "dtype": "int64",
         "stats": {
          "unique_count": 2,
          "nan_count": 0,
          "min": "0",
          "max": "1",
          "histogram": [
           {
            "bin_start": 0,
            "bin_end": 0.1,
            "count": 3
           },
           {
            "bin_start": 0.1,
            "bin_end": 0.2,
            "count": 0
           },
           {
            "bin_start": 0.2,
            "bin_end": 0.30000000000000004,
            "count": 0
           },
           {
            "bin_start": 0.30000000000000004,
            "bin_end": 0.4,
            "count": 0
           },
           {
            "bin_start": 0.4,
            "bin_end": 0.5,
            "count": 0
           },
           {
            "bin_start": 0.5,
            "bin_end": 0.6000000000000001,
            "count": 0
           },
           {
            "bin_start": 0.6000000000000001,
            "bin_end": 0.7000000000000001,
            "count": 0
           },
           {
            "bin_start": 0.7000000000000001,
            "bin_end": 0.8,
            "count": 0
           },
           {
            "bin_start": 0.8,
            "bin_end": 0.9,
            "count": 0
           },
           {
            "bin_start": 0.9,
            "bin_end": 1,
            "count": 2
           }
          ]
         }
        },
        {
         "name": "_deepnote_index_column",
         "dtype": "int64"
        }
       ],
       "rows_top": [
        {
         "LIMIT_BAL": 20000,
         "AGE": 24,
         "PAY_0": 2,
         "PAY_2": 2,
         "PAY_3": -1,
         "PAY_4": -1,
         "PAY_5": -2,
         "PAY_6": -2,
         "BILL_AMT1": 3913,
         "BILL_AMT2": 3102,
         "BILL_AMT3": 689,
         "BILL_AMT4": 0,
         "BILL_AMT5": 0,
         "BILL_AMT6": 0,
         "PAY_AMT1": 0,
         "PAY_AMT2": 689,
         "PAY_AMT3": 0,
         "PAY_AMT4": 0,
         "PAY_AMT5": 0,
         "PAY_AMT6": 0,
         "SEX_1": 0,
         "SEX_2": 1,
         "EDUCATION_0": 0,
         "EDUCATION_1": 0,
         "EDUCATION_2": 1,
         "EDUCATION_3": 0,
         "EDUCATION_4": 0,
         "EDUCATION_5": 0,
         "EDUCATION_6": 0,
         "MARRIAGE_0": 0,
         "MARRIAGE_1": 1,
         "MARRIAGE_2": 0,
         "MARRIAGE_3": 0,
         "default payment next month": 1,
         "_deepnote_index_column": 1
        },
        {
         "LIMIT_BAL": 120000,
         "AGE": 26,
         "PAY_0": -1,
         "PAY_2": 2,
         "PAY_3": 0,
         "PAY_4": 0,
         "PAY_5": 0,
         "PAY_6": 2,
         "BILL_AMT1": 2682,
         "BILL_AMT2": 1725,
         "BILL_AMT3": 2682,
         "BILL_AMT4": 3272,
         "BILL_AMT5": 3455,
         "BILL_AMT6": 3261,
         "PAY_AMT1": 0,
         "PAY_AMT2": 1000,
         "PAY_AMT3": 1000,
         "PAY_AMT4": 1000,
         "PAY_AMT5": 0,
         "PAY_AMT6": 2000,
         "SEX_1": 0,
         "SEX_2": 1,
         "EDUCATION_0": 0,
         "EDUCATION_1": 0,
         "EDUCATION_2": 1,
         "EDUCATION_3": 0,
         "EDUCATION_4": 0,
         "EDUCATION_5": 0,
         "EDUCATION_6": 0,
         "MARRIAGE_0": 0,
         "MARRIAGE_1": 0,
         "MARRIAGE_2": 1,
         "MARRIAGE_3": 0,
         "default payment next month": 1,
         "_deepnote_index_column": 2
        },
        {
         "LIMIT_BAL": 90000,
         "AGE": 34,
         "PAY_0": 0,
         "PAY_2": 0,
         "PAY_3": 0,
         "PAY_4": 0,
         "PAY_5": 0,
         "PAY_6": 0,
         "BILL_AMT1": 29239,
         "BILL_AMT2": 14027,
         "BILL_AMT3": 13559,
         "BILL_AMT4": 14331,
         "BILL_AMT5": 14948,
         "BILL_AMT6": 15549,
         "PAY_AMT1": 1518,
         "PAY_AMT2": 1500,
         "PAY_AMT3": 1000,
         "PAY_AMT4": 1000,
         "PAY_AMT5": 1000,
         "PAY_AMT6": 5000,
         "SEX_1": 0,
         "SEX_2": 1,
         "EDUCATION_0": 0,
         "EDUCATION_1": 0,
         "EDUCATION_2": 1,
         "EDUCATION_3": 0,
         "EDUCATION_4": 0,
         "EDUCATION_5": 0,
         "EDUCATION_6": 0,
         "MARRIAGE_0": 0,
         "MARRIAGE_1": 0,
         "MARRIAGE_2": 1,
         "MARRIAGE_3": 0,
         "default payment next month": 0,
         "_deepnote_index_column": 3
        },
        {
         "LIMIT_BAL": 50000,
         "AGE": 37,
         "PAY_0": 0,
         "PAY_2": 0,
         "PAY_3": 0,
         "PAY_4": 0,
         "PAY_5": 0,
         "PAY_6": 0,
         "BILL_AMT1": 46990,
         "BILL_AMT2": 48233,
         "BILL_AMT3": 49291,
         "BILL_AMT4": 28314,
         "BILL_AMT5": 28959,
         "BILL_AMT6": 29547,
         "PAY_AMT1": 2000,
         "PAY_AMT2": 2019,
         "PAY_AMT3": 1200,
         "PAY_AMT4": 1100,
         "PAY_AMT5": 1069,
         "PAY_AMT6": 1000,
         "SEX_1": 0,
         "SEX_2": 1,
         "EDUCATION_0": 0,
         "EDUCATION_1": 0,
         "EDUCATION_2": 1,
         "EDUCATION_3": 0,
         "EDUCATION_4": 0,
         "EDUCATION_5": 0,
         "EDUCATION_6": 0,
         "MARRIAGE_0": 0,
         "MARRIAGE_1": 1,
         "MARRIAGE_2": 0,
         "MARRIAGE_3": 0,
         "default payment next month": 0,
         "_deepnote_index_column": 4
        },
        {
         "LIMIT_BAL": 50000,
         "AGE": 57,
         "PAY_0": -1,
         "PAY_2": 0,
         "PAY_3": -1,
         "PAY_4": 0,
         "PAY_5": 0,
         "PAY_6": 0,
         "BILL_AMT1": 8617,
         "BILL_AMT2": 5670,
         "BILL_AMT3": 35835,
         "BILL_AMT4": 20940,
         "BILL_AMT5": 19146,
         "BILL_AMT6": 19131,
         "PAY_AMT1": 2000,
         "PAY_AMT2": 36681,
         "PAY_AMT3": 10000,
         "PAY_AMT4": 9000,
         "PAY_AMT5": 689,
         "PAY_AMT6": 679,
         "SEX_1": 1,
         "SEX_2": 0,
         "EDUCATION_0": 0,
         "EDUCATION_1": 0,
         "EDUCATION_2": 1,
         "EDUCATION_3": 0,
         "EDUCATION_4": 0,
         "EDUCATION_5": 0,
         "EDUCATION_6": 0,
         "MARRIAGE_0": 0,
         "MARRIAGE_1": 1,
         "MARRIAGE_2": 0,
         "MARRIAGE_3": 0,
         "default payment next month": 0,
         "_deepnote_index_column": 5
        }
       ],
       "rows_bottom": null
      },
      "text/plain": "    LIMIT_BAL  AGE  PAY_0  PAY_2  PAY_3  PAY_4  PAY_5  PAY_6  BILL_AMT1  \\\nID                                                                        \n1       20000   24      2      2     -1     -1     -2     -2       3913   \n2      120000   26     -1      2      0      0      0      2       2682   \n3       90000   34      0      0      0      0      0      0      29239   \n4       50000   37      0      0      0      0      0      0      46990   \n5       50000   57     -1      0     -1      0      0      0       8617   \n\n    BILL_AMT2  ...  EDUCATION_2  EDUCATION_3  EDUCATION_4  EDUCATION_5  \\\nID             ...                                                       \n1        3102  ...            1            0            0            0   \n2        1725  ...            1            0            0            0   \n3       14027  ...            1            0            0            0   \n4       48233  ...            1            0            0            0   \n5        5670  ...            1            0            0            0   \n\n    EDUCATION_6  MARRIAGE_0  MARRIAGE_1  MARRIAGE_2  MARRIAGE_3  \\\nID                                                                \n1             0           0           1           0           0   \n2             0           0           0           1           0   \n3             0           0           0           1           0   \n4             0           0           1           0           0   \n5             0           0           1           0           0   \n\n    default payment next month  \nID                              \n1                            1  \n2                            1  \n3                            0  \n4                            0  \n5                            0  \n\n[5 rows x 34 columns]",
      "text/html": "<div>\n<style scoped>\n    .dataframe tbody tr th:only-of-type {\n        vertical-align: middle;\n    }\n\n    .dataframe tbody tr th {\n        vertical-align: top;\n    }\n\n    .dataframe thead th {\n        text-align: right;\n    }\n</style>\n<table border=\"1\" class=\"dataframe\">\n  <thead>\n    <tr style=\"text-align: right;\">\n      <th></th>\n      <th>LIMIT_BAL</th>\n      <th>AGE</th>\n      <th>PAY_0</th>\n      <th>PAY_2</th>\n      <th>PAY_3</th>\n      <th>PAY_4</th>\n      <th>PAY_5</th>\n      <th>PAY_6</th>\n      <th>BILL_AMT1</th>\n      <th>BILL_AMT2</th>\n      <th>...</th>\n      <th>EDUCATION_2</th>\n      <th>EDUCATION_3</th>\n      <th>EDUCATION_4</th>\n      <th>EDUCATION_5</th>\n      <th>EDUCATION_6</th>\n      <th>MARRIAGE_0</th>\n      <th>MARRIAGE_1</th>\n      <th>MARRIAGE_2</th>\n      <th>MARRIAGE_3</th>\n      <th>default payment next month</th>\n    </tr>\n    <tr>\n      <th>ID</th>\n      <th></th>\n      <th></th>\n      <th></th>\n      <th></th>\n      <th></th>\n      <th></th>\n      <th></th>\n      <th></th>\n      <th></th>\n      <th></th>\n      <th></th>\n      <th></th>\n      <th></th>\n      <th></th>\n      <th></th>\n      <th></th>\n      <th></th>\n      <th></th>\n      <th></th>\n      <th></th>\n      <th></th>\n    </tr>\n  </thead>\n  <tbody>\n    <tr>\n      <th>1</th>\n      <td>20000</td>\n      <td>24</td>\n      <td>2</td>\n      <td>2</td>\n      <td>-1</td>\n      <td>-1</td>\n      <td>-2</td>\n      <td>-2</td>\n      <td>3913</td>\n      <td>3102</td>\n      <td>...</td>\n      <td>1</td>\n      <td>0</td>\n      <td>0</td>\n      <td>0</td>\n      <td>0</td>\n      <td>0</td>\n      <td>1</td>\n      <td>0</td>\n      <td>0</td>\n      <td>1</td>\n    </tr>\n    <tr>\n      <th>2</th>\n      <td>120000</td>\n      <td>26</td>\n      <td>-1</td>\n      <td>2</td>\n      <td>0</td>\n      <td>0</td>\n      <td>0</td>\n      <td>2</td>\n      <td>2682</td>\n      <td>1725</td>\n      <td>...</td>\n      <td>1</td>\n      <td>0</td>\n      <td>0</td>\n      <td>0</td>\n      <td>0</td>\n      <td>0</td>\n      <td>0</td>\n      <td>1</td>\n      <td>0</td>\n      <td>1</td>\n    </tr>\n    <tr>\n      <th>3</th>\n      <td>90000</td>\n      <td>34</td>\n      <td>0</td>\n      <td>0</td>\n      <td>0</td>\n      <td>0</td>\n      <td>0</td>\n      <td>0</td>\n      <td>29239</td>\n      <td>14027</td>\n      <td>...</td>\n      <td>1</td>\n      <td>0</td>\n      <td>0</td>\n      <td>0</td>\n      <td>0</td>\n      <td>0</td>\n      <td>0</td>\n      <td>1</td>\n      <td>0</td>\n      <td>0</td>\n    </tr>\n    <tr>\n      <th>4</th>\n      <td>50000</td>\n      <td>37</td>\n      <td>0</td>\n      <td>0</td>\n      <td>0</td>\n      <td>0</td>\n      <td>0</td>\n      <td>0</td>\n      <td>46990</td>\n      <td>48233</td>\n      <td>...</td>\n      <td>1</td>\n      <td>0</td>\n      <td>0</td>\n      <td>0</td>\n      <td>0</td>\n      <td>0</td>\n      <td>1</td>\n      <td>0</td>\n      <td>0</td>\n      <td>0</td>\n    </tr>\n    <tr>\n      <th>5</th>\n      <td>50000</td>\n      <td>57</td>\n      <td>-1</td>\n      <td>0</td>\n      <td>-1</td>\n      <td>0</td>\n      <td>0</td>\n      <td>0</td>\n      <td>8617</td>\n      <td>5670</td>\n      <td>...</td>\n      <td>1</td>\n      <td>0</td>\n      <td>0</td>\n      <td>0</td>\n      <td>0</td>\n      <td>0</td>\n      <td>1</td>\n      <td>0</td>\n      <td>0</td>\n      <td>0</td>\n    </tr>\n  </tbody>\n</table>\n<p>5 rows × 34 columns</p>\n</div>"
     },
     "metadata": {}
    }
   ],
   "execution_count": null
  },
  {
   "cell_type": "code",
   "metadata": {
    "tags": [],
    "cell_id": "00004-8219ac2b-f36a-4c7c-a3a7-c1aa40525317",
    "deepnote_to_be_reexecuted": false,
    "source_hash": "f8453a83",
    "execution_start": 1621086918781,
    "execution_millis": 224,
    "deepnote_cell_type": "code"
   },
   "source": "df.corr()",
   "outputs": [
    {
     "output_type": "execute_result",
     "execution_count": 24,
     "data": {
      "application/vnd.deepnote.dataframe.v2+json": {
       "row_count": 34,
       "column_count": 34,
       "columns": [
        {
         "name": "LIMIT_BAL",
         "dtype": "float64",
         "stats": {
          "unique_count": 34,
          "nan_count": 0,
          "min": "-0.29638210099648243",
          "max": "1.0",
          "histogram": [
           {
            "bin_start": -0.29638210099648243,
            "bin_end": -0.1667438908968342,
            "count": 6
           },
           {
            "bin_start": -0.1667438908968342,
            "bin_end": -0.03710568079718596,
            "count": 5
           },
           {
            "bin_start": -0.03710568079718596,
            "bin_end": 0.09253252930246225,
            "count": 7
           },
           {
            "bin_start": 0.09253252930246225,
            "bin_end": 0.22217073940211052,
            "count": 8
           },
           {
            "bin_start": 0.22217073940211052,
            "bin_end": 0.3518089495017588,
            "count": 7
           },
           {
            "bin_start": 0.3518089495017588,
            "bin_end": 0.48144715960140694,
            "count": 0
           },
           {
            "bin_start": 0.48144715960140694,
            "bin_end": 0.6110853697010552,
            "count": 0
           },
           {
            "bin_start": 0.6110853697010552,
            "bin_end": 0.7407235798007035,
            "count": 0
           },
           {
            "bin_start": 0.7407235798007035,
            "bin_end": 0.8703617899003517,
            "count": 0
           },
           {
            "bin_start": 0.8703617899003517,
            "bin_end": 1,
            "count": 1
           }
          ]
         }
        },
        {
         "name": "AGE",
         "dtype": "float64",
         "stats": {
          "unique_count": 34,
          "nan_count": 0,
          "min": "-0.46658445213842936",
          "max": "1.0",
          "histogram": [
           {
            "bin_start": -0.46658445213842936,
            "bin_end": -0.3199260069245864,
            "count": 1
           },
           {
            "bin_start": -0.3199260069245864,
            "bin_end": -0.17326756171074348,
            "count": 0
           },
           {
            "bin_start": -0.17326756171074348,
            "bin_end": -0.026609116496900564,
            "count": 9
           },
           {
            "bin_start": -0.026609116496900564,
            "bin_end": 0.1200493287169424,
            "count": 20
           },
           {
            "bin_start": 0.1200493287169424,
            "bin_end": 0.2667077739307854,
            "count": 2
           },
           {
            "bin_start": 0.2667077739307854,
            "bin_end": 0.41336621914462823,
            "count": 0
           },
           {
            "bin_start": 0.41336621914462823,
            "bin_end": 0.5600246643584713,
            "count": 1
           },
           {
            "bin_start": 0.5600246643584713,
            "bin_end": 0.7066831095723142,
            "count": 0
           },
           {
            "bin_start": 0.7066831095723142,
            "bin_end": 0.853341554786157,
            "count": 0
           },
           {
            "bin_start": 0.853341554786157,
            "bin_end": 1,
            "count": 1
           }
          ]
         }
        },
        {
         "name": "PAY_0",
         "dtype": "float64",
         "stats": {
          "unique_count": 34,
          "nan_count": 0,
          "min": "-0.2712143321347179",
          "max": "1.0",
          "histogram": [
           {
            "bin_start": -0.2712143321347179,
            "bin_end": -0.1440928989212461,
            "count": 1
           },
           {
            "bin_start": -0.1440928989212461,
            "bin_end": -0.016971465707774303,
            "count": 10
           },
           {
            "bin_start": -0.016971465707774303,
            "bin_end": 0.1101499675056975,
            "count": 10
           },
           {
            "bin_start": 0.1101499675056975,
            "bin_end": 0.2372714007191693,
            "count": 6
           },
           {
            "bin_start": 0.2372714007191693,
            "bin_end": 0.3643928339326411,
            "count": 1
           },
           {
            "bin_start": 0.3643928339326411,
            "bin_end": 0.4915142671461129,
            "count": 1
           },
           {
            "bin_start": 0.4915142671461129,
            "bin_end": 0.6186357003595847,
            "count": 3
           },
           {
            "bin_start": 0.6186357003595847,
            "bin_end": 0.7457571335730565,
            "count": 1
           },
           {
            "bin_start": 0.7457571335730565,
            "bin_end": 0.8728785667865283,
            "count": 0
           },
           {
            "bin_start": 0.8728785667865283,
            "bin_end": 1,
            "count": 1
           }
          ]
         }
        },
        {
         "name": "PAY_2",
         "dtype": "float64",
         "stats": {
          "unique_count": 34,
          "nan_count": 0,
          "min": "-0.29638210099648243",
          "max": "1.0",
          "histogram": [
           {
            "bin_start": -0.29638210099648243,
            "bin_end": -0.1667438908968342,
            "count": 2
           },
           {
            "bin_start": -0.1667438908968342,
            "bin_end": -0.03710568079718596,
            "count": 6
           },
           {
            "bin_start": -0.03710568079718596,
            "bin_end": 0.09253252930246225,
            "count": 12
           },
           {
            "bin_start": 0.09253252930246225,
            "bin_end": 0.22217073940211052,
            "count": 3
           },
           {
            "bin_start": 0.22217073940211052,
            "bin_end": 0.3518089495017588,
            "count": 5
           },
           {
            "bin_start": 0.3518089495017588,
            "bin_end": 0.48144715960140694,
            "count": 0
           },
           {
            "bin_start": 0.48144715960140694,
            "bin_end": 0.6110853697010552,
            "count": 1
           },
           {
            "bin_start": 0.6110853697010552,
            "bin_end": 0.7407235798007035,
            "count": 3
           },
           {
            "bin_start": 0.7407235798007035,
            "bin_end": 0.8703617899003517,
            "count": 1
           },
           {
            "bin_start": 0.8703617899003517,
            "bin_end": 1,
            "count": 1
           }
          ]
         }
        },
        {
         "name": "PAY_3",
         "dtype": "float64",
         "stats": {
          "unique_count": 34,
          "nan_count": 0,
          "min": "-0.2861229539031144",
          "max": "1.0",
          "histogram": [
           {
            "bin_start": -0.2861229539031144,
            "bin_end": -0.15751065851280294,
            "count": 2
           },
           {
            "bin_start": -0.15751065851280294,
            "bin_end": -0.0288983631224915,
            "count": 9
           },
           {
            "bin_start": -0.0288983631224915,
            "bin_end": 0.09971393226781994,
            "count": 9
           },
           {
            "bin_start": 0.09971393226781994,
            "bin_end": 0.22832622765813138,
            "count": 6
           },
           {
            "bin_start": 0.22832622765813138,
            "bin_end": 0.35693852304844287,
            "count": 2
           },
           {
            "bin_start": 0.35693852304844287,
            "bin_end": 0.48555081843875425,
            "count": 0
           },
           {
            "bin_start": 0.48555081843875425,
            "bin_end": 0.6141631138290656,
            "count": 1
           },
           {
            "bin_start": 0.6141631138290656,
            "bin_end": 0.7427754092193771,
            "count": 2
           },
           {
            "bin_start": 0.7427754092193771,
            "bin_end": 0.8713877046096886,
            "count": 2
           },
           {
            "bin_start": 0.8713877046096886,
            "bin_end": 1,
            "count": 1
           }
          ]
         }
        },
        {
         "name": "PAY_4",
         "dtype": "float64",
         "stats": {
          "unique_count": 34,
          "nan_count": 0,
          "min": "-0.267460009639393",
          "max": "1.0",
          "histogram": [
           {
            "bin_start": -0.267460009639393,
            "bin_end": -0.14071400867545367,
            "count": 2
           },
           {
            "bin_start": -0.14071400867545367,
            "bin_end": -0.013968007711514352,
            "count": 8
           },
           {
            "bin_start": -0.013968007711514352,
            "bin_end": 0.11277799325242499,
            "count": 11
           },
           {
            "bin_start": 0.11277799325242499,
            "bin_end": 0.23952399421636428,
            "count": 4
           },
           {
            "bin_start": 0.23952399421636428,
            "bin_end": 0.36626999518030356,
            "count": 3
           },
           {
            "bin_start": 0.36626999518030356,
            "bin_end": 0.49301599614424296,
            "count": 0
           },
           {
            "bin_start": 0.49301599614424296,
            "bin_end": 0.6197619971081822,
            "count": 1
           },
           {
            "bin_start": 0.6197619971081822,
            "bin_end": 0.7465079980721215,
            "count": 2
           },
           {
            "bin_start": 0.7465079980721215,
            "bin_end": 0.8732539990360609,
            "count": 2
           },
           {
            "bin_start": 0.8732539990360609,
            "bin_end": 1,
            "count": 1
           }
          ]
         }
        },
        {
         "name": "PAY_5",
         "dtype": "float64",
         "stats": {
          "unique_count": 34,
          "nan_count": 0,
          "min": "-0.2494113948241093",
          "max": "1.0",
          "histogram": [
           {
            "bin_start": -0.2494113948241093,
            "bin_end": -0.12447025534169837,
            "count": 2
           },
           {
            "bin_start": -0.12447025534169837,
            "bin_end": 0.00047088414071255746,
            "count": 13
           },
           {
            "bin_start": 0.00047088414071255746,
            "bin_end": 0.12541202362312348,
            "count": 6
           },
           {
            "bin_start": 0.12541202362312348,
            "bin_end": 0.2503531631055344,
            "count": 4
           },
           {
            "bin_start": 0.2503531631055344,
            "bin_end": 0.3752943025879453,
            "count": 3
           },
           {
            "bin_start": 0.3752943025879453,
            "bin_end": 0.5002354420703563,
            "count": 0
           },
           {
            "bin_start": 0.5002354420703563,
            "bin_end": 0.6251765815527672,
            "count": 2
           },
           {
            "bin_start": 0.6251765815527672,
            "bin_end": 0.7501177210351782,
            "count": 1
           },
           {
            "bin_start": 0.7501177210351782,
            "bin_end": 0.8750588605175891,
            "count": 2
           },
           {
            "bin_start": 0.8750588605175891,
            "bin_end": 1,
            "count": 1
           }
          ]
         }
        },
        {
         "name": "PAY_6",
         "dtype": "float64",
         "stats": {
          "unique_count": 34,
          "nan_count": 0,
          "min": "-0.23519539948542492",
          "max": "1.0",
          "histogram": [
           {
            "bin_start": -0.23519539948542492,
            "bin_end": -0.11167585953688242,
            "count": 2
           },
           {
            "bin_start": -0.11167585953688242,
            "bin_end": 0.01184368041166009,
            "count": 13
           },
           {
            "bin_start": 0.01184368041166009,
            "bin_end": 0.13536322036020262,
            "count": 6
           },
           {
            "bin_start": 0.13536322036020262,
            "bin_end": 0.25888276030874513,
            "count": 4
           },
           {
            "bin_start": 0.25888276030874513,
            "bin_end": 0.3824023002572876,
            "count": 3
           },
           {
            "bin_start": 0.3824023002572876,
            "bin_end": 0.5059218402058302,
            "count": 1
           },
           {
            "bin_start": 0.5059218402058302,
            "bin_end": 0.6294413801543727,
            "count": 1
           },
           {
            "bin_start": 0.6294413801543727,
            "bin_end": 0.7529609201029152,
            "count": 2
           },
           {
            "bin_start": 0.7529609201029152,
            "bin_end": 0.8764804600514576,
            "count": 1
           },
           {
            "bin_start": 0.8764804600514576,
            "bin_end": 1,
            "count": 1
           }
          ]
         }
        },
        {
         "name": "BILL_AMT1",
         "dtype": "float64",
         "stats": {
          "unique_count": 34,
          "nan_count": 0,
          "min": "-0.03364186958914931",
          "max": "1.0",
          "histogram": [
           {
            "bin_start": -0.03364186958914931,
            "bin_end": 0.06972231736976564,
            "count": 15
           },
           {
            "bin_start": 0.06972231736976564,
            "bin_end": 0.17308650432868058,
            "count": 5
           },
           {
            "bin_start": 0.17308650432868058,
            "bin_end": 0.27645069128759553,
            "count": 7
           },
           {
            "bin_start": 0.27645069128759553,
            "bin_end": 0.37981487824651045,
            "count": 1
           },
           {
            "bin_start": 0.37981487824651045,
            "bin_end": 0.48317906520542536,
            "count": 0
           },
           {
            "bin_start": 0.48317906520542536,
            "bin_end": 0.5865432521643404,
            "count": 0
           },
           {
            "bin_start": 0.5865432521643404,
            "bin_end": 0.6899074391232554,
            "count": 0
           },
           {
            "bin_start": 0.6899074391232554,
            "bin_end": 0.7932716260821703,
            "count": 0
           },
           {
            "bin_start": 0.7932716260821703,
            "bin_end": 0.8966358130410852,
            "count": 4
           },
           {
            "bin_start": 0.8966358130410852,
            "bin_end": 1,
            "count": 2
           }
          ]
         }
        },
        {
         "name": "BILL_AMT2",
         "dtype": "float64",
         "stats": {
          "unique_count": 34,
          "nan_count": 0,
          "min": "-0.031183472229667403",
          "max": "1.0",
          "histogram": [
           {
            "bin_start": -0.031183472229667403,
            "bin_end": 0.07193487499329933,
            "count": 15
           },
           {
            "bin_start": 0.07193487499329933,
            "bin_end": 0.17505322221626604,
            "count": 5
           },
           {
            "bin_start": 0.17505322221626604,
            "bin_end": 0.27817156943923277,
            "count": 6
           },
           {
            "bin_start": 0.27817156943923277,
            "bin_end": 0.3812899166621995,
            "count": 2
           },
           {
            "bin_start": 0.3812899166621995,
            "bin_end": 0.4844082638851663,
            "count": 0
           },
           {
            "bin_start": 0.4844082638851663,
            "bin_end": 0.5875266111081329,
            "count": 0
           },
           {
            "bin_start": 0.5875266111081329,
            "bin_end": 0.6906449583310996,
            "count": 0
           },
           {
            "bin_start": 0.6906449583310996,
            "bin_end": 0.7937633055540664,
            "count": 0
           },
           {
            "bin_start": 0.7937633055540664,
            "bin_end": 0.8968816527770331,
            "count": 3
           },
           {
            "bin_start": 0.8968816527770331,
            "bin_end": 1,
            "count": 3
           }
          ]
         }
        },
        {
         "name": "BILL_AMT3",
         "dtype": "float64",
         "stats": {
          "unique_count": 34,
          "nan_count": 0,
          "min": "-0.024563311681403296",
          "max": "1.0",
          "histogram": [
           {
            "bin_start": -0.024563311681403296,
            "bin_end": 0.07789301948673702,
            "count": 15
           },
           {
            "bin_start": 0.07789301948673702,
            "bin_end": 0.18034935065487734,
            "count": 4
           },
           {
            "bin_start": 0.18034935065487734,
            "bin_end": 0.28280568182301763,
            "count": 7
           },
           {
            "bin_start": 0.28280568182301763,
            "bin_end": 0.385262012991158,
            "count": 2
           },
           {
            "bin_start": 0.385262012991158,
            "bin_end": 0.4877183441592983,
            "count": 0
           },
           {
            "bin_start": 0.4877183441592983,
            "bin_end": 0.5901746753274386,
            "count": 0
           },
           {
            "bin_start": 0.5901746753274386,
            "bin_end": 0.692631006495579,
            "count": 0
           },
           {
            "bin_start": 0.692631006495579,
            "bin_end": 0.7950873376637193,
            "count": 0
           },
           {
            "bin_start": 0.7950873376637193,
            "bin_end": 0.8975436688318597,
            "count": 3
           },
           {
            "bin_start": 0.8975436688318597,
            "bin_end": 1,
            "count": 3
           }
          ]
         }
        },
        {
         "name": "BILL_AMT4",
         "dtype": "float64",
         "stats": {
          "unique_count": 34,
          "nan_count": 0,
          "min": "-0.03127577927287707",
          "max": "1.0",
          "histogram": [
           {
            "bin_start": -0.03127577927287707,
            "bin_end": 0.07185179865441063,
            "count": 15
           },
           {
            "bin_start": 0.07185179865441063,
            "bin_end": 0.17497937658169832,
            "count": 2
           },
           {
            "bin_start": 0.17497937658169832,
            "bin_end": 0.27810695450898604,
            "count": 9
           },
           {
            "bin_start": 0.27810695450898604,
            "bin_end": 0.38123453243627375,
            "count": 2
           },
           {
            "bin_start": 0.38123453243627375,
            "bin_end": 0.48436211036356147,
            "count": 0
           },
           {
            "bin_start": 0.48436211036356147,
            "bin_end": 0.5874896882908491,
            "count": 0
           },
           {
            "bin_start": 0.5874896882908491,
            "bin_end": 0.6906172662181369,
            "count": 0
           },
           {
            "bin_start": 0.6906172662181369,
            "bin_end": 0.7937448441454246,
            "count": 0
           },
           {
            "bin_start": 0.7937448441454246,
            "bin_end": 0.8968724220727122,
            "count": 2
           },
           {
            "bin_start": 0.8968724220727122,
            "bin_end": 1,
            "count": 4
           }
          ]
         }
        },
        {
         "name": "BILL_AMT5",
         "dtype": "float64",
         "stats": {
          "unique_count": 34,
          "nan_count": 0,
          "min": "-0.03170778760990184",
          "max": "1.0",
          "histogram": [
           {
            "bin_start": -0.03170778760990184,
            "bin_end": 0.07146299115108835,
            "count": 15
           },
           {
            "bin_start": 0.07146299115108835,
            "bin_end": 0.17463376991207855,
            "count": 2
           },
           {
            "bin_start": 0.17463376991207855,
            "bin_end": 0.27780454867306875,
            "count": 8
           },
           {
            "bin_start": 0.27780454867306875,
            "bin_end": 0.38097532743405893,
            "count": 3
           },
           {
            "bin_start": 0.38097532743405893,
            "bin_end": 0.4841461061950491,
            "count": 0
           },
           {
            "bin_start": 0.4841461061950491,
            "bin_end": 0.5873168849560393,
            "count": 0
           },
           {
            "bin_start": 0.5873168849560393,
            "bin_end": 0.6904876637170294,
            "count": 0
           },
           {
            "bin_start": 0.6904876637170294,
            "bin_end": 0.7936584424780198,
            "count": 0
           },
           {
            "bin_start": 0.7936584424780198,
            "bin_end": 0.8968292212390099,
            "count": 3
           },
           {
            "bin_start": 0.8968292212390099,
            "bin_end": 1,
            "count": 3
           }
          ]
         }
        },
        {
         "name": "BILL_AMT6",
         "dtype": "float64",
         "stats": {
          "unique_count": 34,
          "nan_count": 0,
          "min": "-0.03098106763204839",
          "max": "1.0",
          "histogram": [
           {
            "bin_start": -0.03098106763204839,
            "bin_end": 0.07211703913115644,
            "count": 15
           },
           {
            "bin_start": 0.07211703913115644,
            "bin_end": 0.17521514589436127,
            "count": 2
           },
           {
            "bin_start": 0.17521514589436127,
            "bin_end": 0.27831325265756607,
            "count": 8
           },
           {
            "bin_start": 0.27831325265756607,
            "bin_end": 0.3814113594207709,
            "count": 3
           },
           {
            "bin_start": 0.3814113594207709,
            "bin_end": 0.4845094661839758,
            "count": 0
           },
           {
            "bin_start": 0.4845094661839758,
            "bin_end": 0.5876075729471805,
            "count": 0
           },
           {
            "bin_start": 0.5876075729471805,
            "bin_end": 0.6907056797103853,
            "count": 0
           },
           {
            "bin_start": 0.6907056797103853,
            "bin_end": 0.7938037864735902,
            "count": 0
           },
           {
            "bin_start": 0.7938037864735902,
            "bin_end": 0.896901893236795,
            "count": 3
           },
           {
            "bin_start": 0.896901893236795,
            "bin_end": 1,
            "count": 3
           }
          ]
         }
        },
        {
         "name": "PAY_AMT1",
         "dtype": "float64",
         "stats": {
          "unique_count": 34,
          "nan_count": 0,
          "min": "-0.08070070981016696",
          "max": "1.0",
          "histogram": [
           {
            "bin_start": -0.08070070981016696,
            "bin_end": 0.027369361170849732,
            "count": 20
           },
           {
            "bin_start": 0.027369361170849732,
            "bin_end": 0.13543943215186643,
            "count": 1
           },
           {
            "bin_start": 0.13543943215186643,
            "bin_end": 0.2435095031328831,
            "count": 8
           },
           {
            "bin_start": 0.2435095031328831,
            "bin_end": 0.3515795741138998,
            "count": 4
           },
           {
            "bin_start": 0.3515795741138998,
            "bin_end": 0.45964964509491646,
            "count": 0
           },
           {
            "bin_start": 0.45964964509491646,
            "bin_end": 0.5677197160759332,
            "count": 0
           },
           {
            "bin_start": 0.5677197160759332,
            "bin_end": 0.6757897870569498,
            "count": 0
           },
           {
            "bin_start": 0.6757897870569498,
            "bin_end": 0.7838598580379665,
            "count": 0
           },
           {
            "bin_start": 0.7838598580379665,
            "bin_end": 0.8919299290189833,
            "count": 0
           },
           {
            "bin_start": 0.8919299290189833,
            "bin_end": 1,
            "count": 1
           }
          ]
         }
        },
        {
         "name": "PAY_AMT2",
         "dtype": "float64",
         "stats": {
          "unique_count": 34,
          "nan_count": 0,
          "min": "-0.0701005211939387",
          "max": "1.0",
          "histogram": [
           {
            "bin_start": -0.0701005211939387,
            "bin_end": 0.03690953092545518,
            "count": 20
           },
           {
            "bin_start": 0.03690953092545518,
            "bin_end": 0.14391958304484906,
            "count": 3
           },
           {
            "bin_start": 0.14391958304484906,
            "bin_end": 0.25092963516424294,
            "count": 8
           },
           {
            "bin_start": 0.25092963516424294,
            "bin_end": 0.3579396872836368,
            "count": 2
           },
           {
            "bin_start": 0.3579396872836368,
            "bin_end": 0.46494973940303064,
            "count": 0
           },
           {
            "bin_start": 0.46494973940303064,
            "bin_end": 0.5719597915224246,
            "count": 0
           },
           {
            "bin_start": 0.5719597915224246,
            "bin_end": 0.6789698436418184,
            "count": 0
           },
           {
            "bin_start": 0.6789698436418184,
            "bin_end": 0.7859798957612123,
            "count": 0
           },
           {
            "bin_start": 0.7859798957612123,
            "bin_end": 0.8929899478806061,
            "count": 0
           },
           {
            "bin_start": 0.8929899478806061,
            "bin_end": 1,
            "count": 1
           }
          ]
         }
        },
        {
         "name": "PAY_AMT3",
         "dtype": "float64",
         "stats": {
          "unique_count": 34,
          "nan_count": 0,
          "min": "-0.07056083767035479",
          "max": "1.0",
          "histogram": [
           {
            "bin_start": -0.07056083767035479,
            "bin_end": 0.0364952460966807,
            "count": 20
           },
           {
            "bin_start": 0.0364952460966807,
            "bin_end": 0.1435513298637162,
            "count": 2
           },
           {
            "bin_start": 0.1435513298637162,
            "bin_end": 0.2506074136307517,
            "count": 8
           },
           {
            "bin_start": 0.2506074136307517,
            "bin_end": 0.35766349739778713,
            "count": 3
           },
           {
            "bin_start": 0.35766349739778713,
            "bin_end": 0.4647195811648226,
            "count": 0
           },
           {
            "bin_start": 0.4647195811648226,
            "bin_end": 0.5717756649318582,
            "count": 0
           },
           {
            "bin_start": 0.5717756649318582,
            "bin_end": 0.6788317486988936,
            "count": 0
           },
           {
            "bin_start": 0.6788317486988936,
            "bin_end": 0.7858878324659291,
            "count": 0
           },
           {
            "bin_start": 0.7858878324659291,
            "bin_end": 0.8929439162329645,
            "count": 0
           },
           {
            "bin_start": 0.8929439162329645,
            "bin_end": 1,
            "count": 1
           }
          ]
         }
        },
        {
         "name": "PAY_AMT4",
         "dtype": "float64",
         "stats": {
          "unique_count": 34,
          "nan_count": 0,
          "min": "-0.06400488888773119",
          "max": "1.0",
          "histogram": [
           {
            "bin_start": -0.06400488888773119,
            "bin_end": 0.04239560000104192,
            "count": 20
           },
           {
            "bin_start": 0.04239560000104192,
            "bin_end": 0.14879608888981505,
            "count": 4
           },
           {
            "bin_start": 0.14879608888981505,
            "bin_end": 0.2551965777785881,
            "count": 8
           },
           {
            "bin_start": 0.2551965777785881,
            "bin_end": 0.36159706666736124,
            "count": 1
           },
           {
            "bin_start": 0.36159706666736124,
            "bin_end": 0.46799755555613437,
            "count": 0
           },
           {
            "bin_start": 0.46799755555613437,
            "bin_end": 0.5743980444449075,
            "count": 0
           },
           {
            "bin_start": 0.5743980444449075,
            "bin_end": 0.6807985333336807,
            "count": 0
           },
           {
            "bin_start": 0.6807985333336807,
            "bin_end": 0.7871990222224537,
            "count": 0
           },
           {
            "bin_start": 0.7871990222224537,
            "bin_end": 0.8935995111112268,
            "count": 0
           },
           {
            "bin_start": 0.8935995111112268,
            "bin_end": 1,
            "count": 1
           }
          ]
         }
        },
        {
         "name": "PAY_AMT5",
         "dtype": "float64",
         "stats": {
          "unique_count": 34,
          "nan_count": 0,
          "min": "-0.058189885949777295",
          "max": "1.0",
          "histogram": [
           {
            "bin_start": -0.058189885949777295,
            "bin_end": 0.04762910264520044,
            "count": 21
           },
           {
            "bin_start": 0.04762910264520044,
            "bin_end": 0.15344809124017816,
            "count": 3
           },
           {
            "bin_start": 0.15344809124017816,
            "bin_end": 0.2592670798351559,
            "count": 8
           },
           {
            "bin_start": 0.2592670798351559,
            "bin_end": 0.36508606843013364,
            "count": 1
           },
           {
            "bin_start": 0.36508606843013364,
            "bin_end": 0.4709050570251114,
            "count": 0
           },
           {
            "bin_start": 0.4709050570251114,
            "bin_end": 0.5767240456200892,
            "count": 0
           },
           {
            "bin_start": 0.5767240456200892,
            "bin_end": 0.6825430342150669,
            "count": 0
           },
           {
            "bin_start": 0.6825430342150669,
            "bin_end": 0.7883620228100446,
            "count": 0
           },
           {
            "bin_start": 0.7883620228100446,
            "bin_end": 0.8941810114050224,
            "count": 0
           },
           {
            "bin_start": 0.8941810114050224,
            "bin_end": 1,
            "count": 1
           }
          ]
         }
        },
        {
         "name": "PAY_AMT6",
         "dtype": "float64",
         "stats": {
          "unique_count": 34,
          "nan_count": 0,
          "min": "-0.058673214376070426",
          "max": "1.0",
          "histogram": [
           {
            "bin_start": -0.058673214376070426,
            "bin_end": 0.04719410706153662,
            "count": 20
           },
           {
            "bin_start": 0.04719410706153662,
            "bin_end": 0.15306142849914367,
            "count": 2
           },
           {
            "bin_start": 0.15306142849914367,
            "bin_end": 0.25892874993675075,
            "count": 11
           },
           {
            "bin_start": 0.25892874993675075,
            "bin_end": 0.36479607137435777,
            "count": 0
           },
           {
            "bin_start": 0.36479607137435777,
            "bin_end": 0.4706633928119648,
            "count": 0
           },
           {
            "bin_start": 0.4706633928119648,
            "bin_end": 0.5765307142495719,
            "count": 0
           },
           {
            "bin_start": 0.5765307142495719,
            "bin_end": 0.6823980356871789,
            "count": 0
           },
           {
            "bin_start": 0.6823980356871789,
            "bin_end": 0.788265357124786,
            "count": 0
           },
           {
            "bin_start": 0.788265357124786,
            "bin_end": 0.894132678562393,
            "count": 0
           },
           {
            "bin_start": 0.894132678562393,
            "bin_end": 1,
            "count": 1
           }
          ]
         }
        },
        {
         "name": "SEX_1",
         "dtype": "float64",
         "stats": {
          "unique_count": 34,
          "nan_count": 0,
          "min": "-1.0000000000000009",
          "max": "1.0",
          "histogram": [
           {
            "bin_start": -1.0000000000000009,
            "bin_end": -0.8000000000000008,
            "count": 1
           },
           {
            "bin_start": -0.8000000000000008,
            "bin_end": -0.6000000000000008,
            "count": 0
           },
           {
            "bin_start": -0.6000000000000008,
            "bin_end": -0.4000000000000006,
            "count": 0
           },
           {
            "bin_start": -0.4000000000000006,
            "bin_end": -0.2000000000000005,
            "count": 0
           },
           {
            "bin_start": -0.2000000000000005,
            "bin_end": -4.440892098500626e-16,
            "count": 6
           },
           {
            "bin_start": -4.440892098500626e-16,
            "bin_end": 0.19999999999999973,
            "count": 26
           },
           {
            "bin_start": 0.19999999999999973,
            "bin_end": 0.3999999999999997,
            "count": 0
           },
           {
            "bin_start": 0.3999999999999997,
            "bin_end": 0.5999999999999999,
            "count": 0
           },
           {
            "bin_start": 0.5999999999999999,
            "bin_end": 0.8,
            "count": 0
           },
           {
            "bin_start": 0.8,
            "bin_end": 1,
            "count": 1
           }
          ]
         }
        },
        {
         "name": "SEX_2",
         "dtype": "float64",
         "stats": {
          "unique_count": 34,
          "nan_count": 0,
          "min": "-1.0000000000000009",
          "max": "1.0",
          "histogram": [
           {
            "bin_start": -1.0000000000000009,
            "bin_end": -0.8000000000000008,
            "count": 1
           },
           {
            "bin_start": -0.8000000000000008,
            "bin_end": -0.6000000000000008,
            "count": 0
           },
           {
            "bin_start": -0.6000000000000008,
            "bin_end": -0.4000000000000006,
            "count": 0
           },
           {
            "bin_start": -0.4000000000000006,
            "bin_end": -0.2000000000000005,
            "count": 0
           },
           {
            "bin_start": -0.2000000000000005,
            "bin_end": -4.440892098500626e-16,
            "count": 26
           },
           {
            "bin_start": -4.440892098500626e-16,
            "bin_end": 0.19999999999999973,
            "count": 6
           },
           {
            "bin_start": 0.19999999999999973,
            "bin_end": 0.3999999999999997,
            "count": 0
           },
           {
            "bin_start": 0.3999999999999997,
            "bin_end": 0.5999999999999999,
            "count": 0
           },
           {
            "bin_start": 0.5999999999999999,
            "bin_end": 0.8,
            "count": 0
           },
           {
            "bin_start": 0.8,
            "bin_end": 1,
            "count": 1
           }
          ]
         }
        },
        {
         "name": "EDUCATION_0",
         "dtype": "float64",
         "stats": {
          "unique_count": 34,
          "nan_count": 0,
          "min": "-0.020252615935435245",
          "max": "1.0",
          "histogram": [
           {
            "bin_start": -0.020252615935435245,
            "bin_end": 0.08177264565810828,
            "count": 33
           },
           {
            "bin_start": 0.08177264565810828,
            "bin_end": 0.1837979072516518,
            "count": 0
           },
           {
            "bin_start": 0.1837979072516518,
            "bin_end": 0.2858231688451953,
            "count": 0
           },
           {
            "bin_start": 0.2858231688451953,
            "bin_end": 0.38784843043873884,
            "count": 0
           },
           {
            "bin_start": 0.38784843043873884,
            "bin_end": 0.48987369203228237,
            "count": 0
           },
           {
            "bin_start": 0.48987369203228237,
            "bin_end": 0.5918989536258259,
            "count": 0
           },
           {
            "bin_start": 0.5918989536258259,
            "bin_end": 0.6939242152193694,
            "count": 0
           },
           {
            "bin_start": 0.6939242152193694,
            "bin_end": 0.795949476812913,
            "count": 0
           },
           {
            "bin_start": 0.795949476812913,
            "bin_end": 0.8979747384064565,
            "count": 0
           },
           {
            "bin_start": 0.8979747384064565,
            "bin_end": 1,
            "count": 1
           }
          ]
         }
        },
        {
         "name": "EDUCATION_1",
         "dtype": "float64",
         "stats": {
          "unique_count": 34,
          "nan_count": 0,
          "min": "-0.6920749199821219",
          "max": "1.0",
          "histogram": [
           {
            "bin_start": -0.6920749199821219,
            "bin_end": -0.5228674279839097,
            "count": 1
           },
           {
            "bin_start": -0.5228674279839097,
            "bin_end": -0.3536599359856975,
            "count": 0
           },
           {
            "bin_start": -0.3536599359856975,
            "bin_end": -0.18445244398748528,
            "count": 1
           },
           {
            "bin_start": -0.18445244398748528,
            "bin_end": -0.015244951989273114,
            "count": 18
           },
           {
            "bin_start": -0.015244951989273114,
            "bin_end": 0.15396254000893905,
            "count": 11
           },
           {
            "bin_start": 0.15396254000893905,
            "bin_end": 0.32317003200715133,
            "count": 2
           },
           {
            "bin_start": 0.32317003200715133,
            "bin_end": 0.4923775240053634,
            "count": 0
           },
           {
            "bin_start": 0.4923775240053634,
            "bin_end": 0.6615850160035757,
            "count": 0
           },
           {
            "bin_start": 0.6615850160035757,
            "bin_end": 0.8307925080017879,
            "count": 0
           },
           {
            "bin_start": 0.8307925080017879,
            "bin_end": 1,
            "count": 1
           }
          ]
         }
        },
        {
         "name": "EDUCATION_2",
         "dtype": "float64",
         "stats": {
          "unique_count": 34,
          "nan_count": 0,
          "min": "-0.6920749199821219",
          "max": "1.0",
          "histogram": [
           {
            "bin_start": -0.6920749199821219,
            "bin_end": -0.5228674279839097,
            "count": 1
           },
           {
            "bin_start": -0.5228674279839097,
            "bin_end": -0.3536599359856975,
            "count": 1
           },
           {
            "bin_start": -0.3536599359856975,
            "bin_end": -0.18445244398748528,
            "count": 0
           },
           {
            "bin_start": -0.18445244398748528,
            "bin_end": -0.015244951989273114,
            "count": 15
           },
           {
            "bin_start": -0.015244951989273114,
            "bin_end": 0.15396254000893905,
            "count": 16
           },
           {
            "bin_start": 0.15396254000893905,
            "bin_end": 0.32317003200715133,
            "count": 0
           },
           {
            "bin_start": 0.32317003200715133,
            "bin_end": 0.4923775240053634,
            "count": 0
           },
           {
            "bin_start": 0.4923775240053634,
            "bin_end": 0.6615850160035757,
            "count": 0
           },
           {
            "bin_start": 0.6615850160035757,
            "bin_end": 0.8307925080017879,
            "count": 0
           },
           {
            "bin_start": 0.8307925080017879,
            "bin_end": 1,
            "count": 1
           }
          ]
         }
        },
        {
         "name": "EDUCATION_3",
         "dtype": "float64",
         "stats": {
          "unique_count": 34,
          "nan_count": 0,
          "min": "-0.4149891503785324",
          "max": "1.0",
          "histogram": [
           {
            "bin_start": -0.4149891503785324,
            "bin_end": -0.2734902353406792,
            "count": 2
           },
           {
            "bin_start": -0.2734902353406792,
            "bin_end": -0.13199132030282595,
            "count": 1
           },
           {
            "bin_start": -0.13199132030282595,
            "bin_end": 0.00950759473502727,
            "count": 19
           },
           {
            "bin_start": 0.00950759473502727,
            "bin_end": 0.1510065097728805,
            "count": 10
           },
           {
            "bin_start": 0.1510065097728805,
            "bin_end": 0.29250542481073366,
            "count": 1
           },
           {
            "bin_start": 0.29250542481073366,
            "bin_end": 0.43400433984858694,
            "count": 0
           },
           {
            "bin_start": 0.43400433984858694,
            "bin_end": 0.5755032548864403,
            "count": 0
           },
           {
            "bin_start": 0.5755032548864403,
            "bin_end": 0.7170021699242934,
            "count": 0
           },
           {
            "bin_start": 0.7170021699242934,
            "bin_end": 0.8585010849621466,
            "count": 0
           },
           {
            "bin_start": 0.8585010849621466,
            "bin_end": 1,
            "count": 1
           }
          ]
         }
        },
        {
         "name": "EDUCATION_4",
         "dtype": "float64",
         "stats": {
          "unique_count": 34,
          "nan_count": 0,
          "min": "-0.06013958676455356",
          "max": "1.0",
          "histogram": [
           {
            "bin_start": -0.06013958676455356,
            "bin_end": 0.045874371911901794,
            "count": 33
           },
           {
            "bin_start": 0.045874371911901794,
            "bin_end": 0.15188833058835716,
            "count": 0
           },
           {
            "bin_start": 0.15188833058835716,
            "bin_end": 0.2579022892648125,
            "count": 0
           },
           {
            "bin_start": 0.2579022892648125,
            "bin_end": 0.36391624794126787,
            "count": 0
           },
           {
            "bin_start": 0.36391624794126787,
            "bin_end": 0.4699302066177232,
            "count": 0
           },
           {
            "bin_start": 0.4699302066177232,
            "bin_end": 0.5759441652941786,
            "count": 0
           },
           {
            "bin_start": 0.5759441652941786,
            "bin_end": 0.6819581239706339,
            "count": 0
           },
           {
            "bin_start": 0.6819581239706339,
            "bin_end": 0.7879720826470893,
            "count": 0
           },
           {
            "bin_start": 0.7879720826470893,
            "bin_end": 0.8939860413235446,
            "count": 0
           },
           {
            "bin_start": 0.8939860413235446,
            "bin_end": 1,
            "count": 1
           }
          ]
         }
        },
        {
         "name": "EDUCATION_5",
         "dtype": "float64",
         "stats": {
          "unique_count": 34,
          "nan_count": 0,
          "min": "-0.09097686988264989",
          "max": "1.0",
          "histogram": [
           {
            "bin_start": -0.09097686988264989,
            "bin_end": 0.018120817105615097,
            "count": 28
           },
           {
            "bin_start": 0.018120817105615097,
            "bin_end": 0.12721850409388008,
            "count": 5
           },
           {
            "bin_start": 0.12721850409388008,
            "bin_end": 0.23631619108214505,
            "count": 0
           },
           {
            "bin_start": 0.23631619108214505,
            "bin_end": 0.34541387807041,
            "count": 0
           },
           {
            "bin_start": 0.34541387807041,
            "bin_end": 0.45451156505867507,
            "count": 0
           },
           {
            "bin_start": 0.45451156505867507,
            "bin_end": 0.56360925204694,
            "count": 0
           },
           {
            "bin_start": 0.56360925204694,
            "bin_end": 0.6727069390352051,
            "count": 0
           },
           {
            "bin_start": 0.6727069390352051,
            "bin_end": 0.78180462602347,
            "count": 0
           },
           {
            "bin_start": 0.78180462602347,
            "bin_end": 0.890902313011735,
            "count": 0
           },
           {
            "bin_start": 0.890902313011735,
            "bin_end": 1,
            "count": 1
           }
          ]
         }
        },
        {
         "name": "EDUCATION_6",
         "dtype": "float64",
         "stats": {
          "unique_count": 34,
          "nan_count": 0,
          "min": "-0.038678560500328335",
          "max": "1.0",
          "histogram": [
           {
            "bin_start": -0.038678560500328335,
            "bin_end": 0.0651892955497045,
            "count": 33
           },
           {
            "bin_start": 0.0651892955497045,
            "bin_end": 0.16905715159973733,
            "count": 0
           },
           {
            "bin_start": 0.16905715159973733,
            "bin_end": 0.2729250076497701,
            "count": 0
           },
           {
            "bin_start": 0.2729250076497701,
            "bin_end": 0.376792863699803,
            "count": 0
           },
           {
            "bin_start": 0.376792863699803,
            "bin_end": 0.4806607197498358,
            "count": 0
           },
           {
            "bin_start": 0.4806607197498358,
            "bin_end": 0.5845285757998686,
            "count": 0
           },
           {
            "bin_start": 0.5845285757998686,
            "bin_end": 0.6883964318499015,
            "count": 0
           },
           {
            "bin_start": 0.6883964318499015,
            "bin_end": 0.7922642878999343,
            "count": 0
           },
           {
            "bin_start": 0.7922642878999343,
            "bin_end": 0.8961321439499671,
            "count": 0
           },
           {
            "bin_start": 0.8961321439499671,
            "bin_end": 1,
            "count": 1
           }
          ]
         }
        },
        {
         "name": "MARRIAGE_0",
         "dtype": "float64",
         "stats": {
          "unique_count": 34,
          "nan_count": 0,
          "min": "-0.04528732299084638",
          "max": "1.0",
          "histogram": [
           {
            "bin_start": -0.04528732299084638,
            "bin_end": 0.05924140930823825,
            "count": 32
           },
           {
            "bin_start": 0.05924140930823825,
            "bin_end": 0.1637701416073229,
            "count": 1
           },
           {
            "bin_start": 0.1637701416073229,
            "bin_end": 0.2682988739064075,
            "count": 0
           },
           {
            "bin_start": 0.2682988739064075,
            "bin_end": 0.37282760620549216,
            "count": 0
           },
           {
            "bin_start": 0.37282760620549216,
            "bin_end": 0.4773563385045768,
            "count": 0
           },
           {
            "bin_start": 0.4773563385045768,
            "bin_end": 0.5818850708036614,
            "count": 0
           },
           {
            "bin_start": 0.5818850708036614,
            "bin_end": 0.686413803102746,
            "count": 0
           },
           {
            "bin_start": 0.686413803102746,
            "bin_end": 0.7909425354018307,
            "count": 0
           },
           {
            "bin_start": 0.7909425354018307,
            "bin_end": 0.8954712677009153,
            "count": 0
           },
           {
            "bin_start": 0.8954712677009153,
            "bin_end": 1,
            "count": 1
           }
          ]
         }
        },
        {
         "name": "MARRIAGE_1",
         "dtype": "float64",
         "stats": {
          "unique_count": 34,
          "nan_count": 0,
          "min": "-0.9750330059589444",
          "max": "1.0",
          "histogram": [
           {
            "bin_start": -0.9750330059589444,
            "bin_end": -0.7775297053630499,
            "count": 1
           },
           {
            "bin_start": -0.7775297053630499,
            "bin_end": -0.5800264047671555,
            "count": 0
           },
           {
            "bin_start": -0.5800264047671555,
            "bin_end": -0.382523104171261,
            "count": 0
           },
           {
            "bin_start": -0.382523104171261,
            "bin_end": -0.18501980357536663,
            "count": 0
           },
           {
            "bin_start": -0.18501980357536663,
            "bin_end": 0.012483497020527756,
            "count": 18
           },
           {
            "bin_start": 0.012483497020527756,
            "bin_end": 0.20998679761642236,
            "count": 13
           },
           {
            "bin_start": 0.20998679761642236,
            "bin_end": 0.40749009821231674,
            "count": 0
           },
           {
            "bin_start": 0.40749009821231674,
            "bin_end": 0.6049933988082111,
            "count": 1
           },
           {
            "bin_start": 0.6049933988082111,
            "bin_end": 0.8024966994041055,
            "count": 0
           },
           {
            "bin_start": 0.8024966994041055,
            "bin_end": 1,
            "count": 1
           }
          ]
         }
        },
        {
         "name": "MARRIAGE_2",
         "dtype": "float64",
         "stats": {
          "unique_count": 34,
          "nan_count": 0,
          "min": "-0.9750330059589444",
          "max": "1.0",
          "histogram": [
           {
            "bin_start": -0.9750330059589444,
            "bin_end": -0.7775297053630499,
            "count": 1
           },
           {
            "bin_start": -0.7775297053630499,
            "bin_end": -0.5800264047671555,
            "count": 0
           },
           {
            "bin_start": -0.5800264047671555,
            "bin_end": -0.382523104171261,
            "count": 1
           },
           {
            "bin_start": -0.382523104171261,
            "bin_end": -0.18501980357536663,
            "count": 0
           },
           {
            "bin_start": -0.18501980357536663,
            "bin_end": 0.012483497020527756,
            "count": 23
           },
           {
            "bin_start": 0.012483497020527756,
            "bin_end": 0.20998679761642236,
            "count": 8
           },
           {
            "bin_start": 0.20998679761642236,
            "bin_end": 0.40749009821231674,
            "count": 0
           },
           {
            "bin_start": 0.40749009821231674,
            "bin_end": 0.6049933988082111,
            "count": 0
           },
           {
            "bin_start": 0.6049933988082111,
            "bin_end": 0.8024966994041055,
            "count": 0
           },
           {
            "bin_start": 0.8024966994041055,
            "bin_end": 1,
            "count": 1
           }
          ]
         }
        },
        {
         "name": "MARRIAGE_3",
         "dtype": "float64",
         "stats": {
          "unique_count": 34,
          "nan_count": 0,
          "min": "-0.11126035532899746",
          "max": "1.0",
          "histogram": [
           {
            "bin_start": -0.11126035532899746,
            "bin_end": -0.0001343197960977094,
            "count": 15
           },
           {
            "bin_start": -0.0001343197960977094,
            "bin_end": 0.11099171573680204,
            "count": 18
           },
           {
            "bin_start": 0.11099171573680204,
            "bin_end": 0.2221177512697018,
            "count": 0
           },
           {
            "bin_start": 0.2221177512697018,
            "bin_end": 0.3332437868026015,
            "count": 0
           },
           {
            "bin_start": 0.3332437868026015,
            "bin_end": 0.44436982233550126,
            "count": 0
           },
           {
            "bin_start": 0.44436982233550126,
            "bin_end": 0.555495857868401,
            "count": 0
           },
           {
            "bin_start": 0.555495857868401,
            "bin_end": 0.6666218934013007,
            "count": 0
           },
           {
            "bin_start": 0.6666218934013007,
            "bin_end": 0.7777479289342005,
            "count": 0
           },
           {
            "bin_start": 0.7777479289342005,
            "bin_end": 0.8888739644671002,
            "count": 0
           },
           {
            "bin_start": 0.8888739644671002,
            "bin_end": 1,
            "count": 1
           }
          ]
         }
        },
        {
         "name": "default payment next month",
         "dtype": "float64",
         "stats": {
          "unique_count": 34,
          "nan_count": 0,
          "min": "-0.1535198763935072",
          "max": "1.0",
          "histogram": [
           {
            "bin_start": -0.1535198763935072,
            "bin_end": -0.03816788875415647,
            "count": 9
           },
           {
            "bin_start": -0.03816788875415647,
            "bin_end": 0.07718409888519426,
            "count": 18
           },
           {
            "bin_start": 0.07718409888519426,
            "bin_end": 0.19253608652454499,
            "count": 1
           },
           {
            "bin_start": 0.19253608652454499,
            "bin_end": 0.30788807416389574,
            "count": 4
           },
           {
            "bin_start": 0.30788807416389574,
            "bin_end": 0.42324006180324647,
            "count": 1
           },
           {
            "bin_start": 0.42324006180324647,
            "bin_end": 0.5385920494425972,
            "count": 0
           },
           {
            "bin_start": 0.5385920494425972,
            "bin_end": 0.6539440370819479,
            "count": 0
           },
           {
            "bin_start": 0.6539440370819479,
            "bin_end": 0.7692960247212987,
            "count": 0
           },
           {
            "bin_start": 0.7692960247212987,
            "bin_end": 0.8846480123606494,
            "count": 0
           },
           {
            "bin_start": 0.8846480123606494,
            "bin_end": 1,
            "count": 1
           }
          ]
         }
        },
        {
         "name": "_deepnote_index_column",
         "dtype": "object"
        }
       ],
       "rows_top": [
        {
         "LIMIT_BAL": 1,
         "AGE": 0.14471279755733674,
         "PAY_0": -0.2712143321347179,
         "PAY_2": -0.29638210099648243,
         "PAY_3": -0.2861229539031144,
         "PAY_4": -0.267460009639393,
         "PAY_5": -0.2494113948241093,
         "PAY_6": -0.23519539948542492,
         "BILL_AMT1": 0.28542986496498995,
         "BILL_AMT2": 0.27831436399776105,
         "BILL_AMT3": 0.28323578358168416,
         "BILL_AMT4": 0.29398762371598486,
         "BILL_AMT5": 0.29556233765823164,
         "BILL_AMT6": 0.29038895064794745,
         "PAY_AMT1": 0.1952359152322094,
         "PAY_AMT2": 0.17840795368370507,
         "PAY_AMT3": 0.21016674772338803,
         "PAY_AMT4": 0.20324241022458292,
         "PAY_AMT5": 0.21720243239549614,
         "PAY_AMT6": 0.21959536860441753,
         "SEX_1": -0.02475523511164423,
         "SEX_2": 0.024755235111643653,
         "EDUCATION_0": 0.008270015947747768,
         "EDUCATION_1": 0.2587772390528128,
         "EDUCATION_2": -0.14752985087870465,
         "EDUCATION_3": -0.13968597480829734,
         "EDUCATION_4": 0.026412786907195143,
         "EDUCATION_5": 0.0005086834685071908,
         "EDUCATION_6": -0.00612224127251419,
         "MARRIAGE_0": -0.011298559106476822,
         "MARRIAGE_1": 0.10370136007405631,
         "MARRIAGE_2": -0.09099771089989181,
         "MARRIAGE_3": -0.055806191154122775,
         "default payment next month": -0.1535198763935072,
         "_deepnote_index_column": "LIMIT_BAL"
        },
        {
         "LIMIT_BAL": 0.14471279755733674,
         "AGE": 1,
         "PAY_0": -0.03944737618411981,
         "PAY_2": -0.05014777620685522,
         "PAY_3": -0.05304843725816334,
         "PAY_4": -0.049721673995377226,
         "PAY_5": -0.05382597641308578,
         "PAY_6": -0.04877342642832421,
         "BILL_AMT1": 0.05623853326056659,
         "BILL_AMT2": 0.05428307435034244,
         "BILL_AMT3": 0.053709705178660236,
         "BILL_AMT4": 0.051353093243321435,
         "BILL_AMT5": 0.04934504811261178,
         "BILL_AMT6": 0.047612677990511255,
         "PAY_AMT1": 0.026146679056989194,
         "PAY_AMT2": 0.021784893392614194,
         "PAY_AMT3": 0.029247353045011425,
         "PAY_AMT4": 0.021379005615589863,
         "PAY_AMT5": 0.02284997355855876,
         "PAY_AMT6": 0.0194781529698698,
         "SEX_1": 0.09087364652739194,
         "SEX_2": -0.09087364652739185,
         "EDUCATION_0": 0.007903534790696817,
         "EDUCATION_1": -0.10042282197400018,
         "EDUCATION_2": -0.07762580946075033,
         "EDUCATION_3": 0.23125161576230996,
         "EDUCATION_4": -0.011358921034177204,
         "EDUCATION_5": 0.001205688598644484,
         "EDUCATION_6": 0.037678923265620515,
         "MARRIAGE_0": 0.010730765713987287,
         "MARRIAGE_1": 0.4494254734520255,
         "MARRIAGE_2": -0.46658445213842936,
         "MARRIAGE_3": 0.08277085214888356,
         "default payment next month": 0.013889834301962887,
         "_deepnote_index_column": "AGE"
        },
        {
         "LIMIT_BAL": -0.2712143321347179,
         "AGE": -0.03944737618411981,
         "PAY_0": 1,
         "PAY_2": 0.6721643825483142,
         "PAY_3": 0.5742450926204379,
         "PAY_4": 0.5388406268712334,
         "PAY_5": 0.5094260636654446,
         "PAY_6": 0.4745530860641517,
         "BILL_AMT1": 0.18706843147380112,
         "BILL_AMT2": 0.18985910889354435,
         "BILL_AMT3": 0.17978528216681916,
         "BILL_AMT4": 0.1791247706258787,
         "BILL_AMT5": 0.18063462540120856,
         "BILL_AMT6": 0.1769802956414379,
         "PAY_AMT1": -0.0792687111854195,
         "PAY_AMT2": -0.0701005211939387,
         "PAY_AMT3": -0.07056083767035479,
         "PAY_AMT4": -0.06400488888773119,
         "PAY_AMT5": -0.058189885949777295,
         "PAY_AMT6": -0.058673214376070426,
         "SEX_1": 0.05764287886698673,
         "SEX_2": -0.05764287886698631,
         "EDUCATION_0": -0.009292641112527391,
         "EDUCATION_1": -0.14272038328688466,
         "EDUCATION_2": 0.09917694734823398,
         "EDUCATION_3": 0.05890232147039018,
         "EDUCATION_4": -0.02782633797567837,
         "EDUCATION_5": -0.00904560069907428,
         "EDUCATION_6": -0.005866895860449538,
         "MARRIAGE_0": -0.005666825354274842,
         "MARRIAGE_1": -0.016313700357146344,
         "MARRIAGE_2": 0.013173236385992056,
         "MARRIAGE_3": 0.01735804757444859,
         "default payment next month": 0.32479372847862237,
         "_deepnote_index_column": "PAY_0"
        },
        {
         "LIMIT_BAL": -0.29638210099648243,
         "AGE": -0.05014777620685522,
         "PAY_0": 0.6721643825483142,
         "PAY_2": 1,
         "PAY_3": 0.7665516829341017,
         "PAY_4": 0.6620671310239591,
         "PAY_5": 0.6227802453768703,
         "PAY_6": 0.5755008617793054,
         "BILL_AMT1": 0.23488652660358378,
         "BILL_AMT2": 0.23525694274352654,
         "BILL_AMT3": 0.22414585503162604,
         "BILL_AMT4": 0.22223651161283825,
         "BILL_AMT5": 0.22134837303342783,
         "BILL_AMT6": 0.2194033512866795,
         "PAY_AMT1": -0.08070070981016696,
         "PAY_AMT2": -0.05898999903461283,
         "PAY_AMT3": -0.055901231300968315,
         "PAY_AMT4": -0.04685841151354558,
         "PAY_AMT5": -0.037093079770128594,
         "PAY_AMT6": -0.03650037552721859,
         "SEX_1": 0.0707710031668225,
         "SEX_2": -0.07077100316682207,
         "EDUCATION_0": -0.01563454546843855,
         "EDUCATION_1": -0.16921546081822994,
         "EDUCATION_2": 0.12236373322292372,
         "EDUCATION_3": 0.06458962525460793,
         "EDUCATION_4": -0.03422571369027711,
         "EDUCATION_5": -0.013767341870004508,
         "EDUCATION_6": -0.0062031557990667365,
         "MARRIAGE_0": -0.002480734676447885,
         "MARRIAGE_1": -0.022525463978044034,
         "MARRIAGE_2": 0.020281451209224633,
         "MARRIAGE_3": 0.011656946048832108,
         "default payment next month": 0.2635512016721678,
         "_deepnote_index_column": "PAY_2"
        },
        {
         "LIMIT_BAL": -0.2861229539031144,
         "AGE": -0.05304843725816334,
         "PAY_0": 0.5742450926204379,
         "PAY_2": 0.7665516829341017,
         "PAY_3": 1,
         "PAY_4": 0.7773588733012726,
         "PAY_5": 0.6867745109947853,
         "PAY_6": 0.6326835927184455,
         "BILL_AMT1": 0.20847288868976013,
         "BILL_AMT2": 0.23729453440292753,
         "BILL_AMT3": 0.2274943266955615,
         "BILL_AMT4": 0.22720228070078952,
         "BILL_AMT5": 0.22514519307202235,
         "BILL_AMT6": 0.2223267374363066,
         "PAY_AMT1": 0.0012948143319480216,
         "PAY_AMT2": -0.06679339566551329,
         "PAY_AMT3": -0.05331077958610196,
         "PAY_AMT4": -0.04606653388796151,
         "PAY_AMT5": -0.03586307056136118,
         "PAY_AMT6": -0.035861083718773175,
         "SEX_1": 0.06609605640043056,
         "SEX_2": -0.0660960564004303,
         "EDUCATION_0": -0.013763614517732331,
         "EDUCATION_1": -0.16020862275064432,
         "EDUCATION_2": 0.11564443529316419,
         "EDUCATION_3": 0.06246070041627334,
         "EDUCATION_4": -0.03206021718599286,
         "EDUCATION_5": -0.016933481076779406,
         "EDUCATION_6": -0.007114714449474895,
         "MARRIAGE_0": -0.0013306467206435598,
         "MARRIAGE_1": -0.030584388863413595,
         "MARRIAGE_2": 0.027195112205137085,
         "MARRIAGE_3": 0.016646101993125734,
         "default payment next month": 0.23525251372491712,
         "_deepnote_index_column": "PAY_3"
        },
        {
         "LIMIT_BAL": -0.267460009639393,
         "AGE": -0.049721673995377226,
         "PAY_0": 0.5388406268712334,
         "PAY_2": 0.6620671310239591,
         "PAY_3": 0.7773588733012726,
         "PAY_4": 1,
         "PAY_5": 0.8198353114868158,
         "PAY_6": 0.7164494815807845,
         "BILL_AMT1": 0.20281206938744922,
         "BILL_AMT2": 0.2258163160680882,
         "BILL_AMT3": 0.24498313796206864,
         "BILL_AMT4": 0.2459172041984382,
         "BILL_AMT5": 0.24290205842488452,
         "BILL_AMT6": 0.2391541296058393,
         "PAY_AMT1": -0.009362135754402232,
         "PAY_AMT2": -0.001943656607903994,
         "PAY_AMT3": -0.0692352035676869,
         "PAY_AMT4": -0.04346142965539442,
         "PAY_AMT5": -0.033589534748121486,
         "PAY_AMT6": -0.026565087967650867,
         "SEX_1": 0.060173238366203495,
         "SEX_2": -0.06017323836620332,
         "EDUCATION_0": -0.011763272082470466,
         "EDUCATION_1": -0.1524015453054597,
         "EDUCATION_2": 0.11033967874227171,
         "EDUCATION_3": 0.058382260456078014,
         "EDUCATION_4": -0.03250853712930118,
         "EDUCATION_5": -0.01281314025835346,
         "EDUCATION_6": -0.006745146501818633,
         "MARRIAGE_0": -0.005437524734833867,
         "MARRIAGE_1": -0.030167005402011216,
         "MARRIAGE_2": 0.026954757955061734,
         "MARRIAGE_3": 0.01748092513626112,
         "default payment next month": 0.21661363684242388,
         "_deepnote_index_column": "PAY_4"
        },
        {
         "LIMIT_BAL": -0.2494113948241093,
         "AGE": -0.05382597641308578,
         "PAY_0": 0.5094260636654446,
         "PAY_2": 0.6227802453768703,
         "PAY_3": 0.6867745109947853,
         "PAY_4": 0.8198353114868158,
         "PAY_5": 1,
         "PAY_6": 0.8169001604176753,
         "BILL_AMT1": 0.2066839642440959,
         "BILL_AMT2": 0.22691326699152847,
         "BILL_AMT3": 0.24333468092023638,
         "BILL_AMT4": 0.271915006998107,
         "BILL_AMT5": 0.2697830901511351,
         "BILL_AMT6": 0.26250925166841726,
         "PAY_AMT1": -0.006088757138842231,
         "PAY_AMT2": -0.003191332307052815,
         "PAY_AMT3": 0.009062362681555539,
         "PAY_AMT4": -0.05829886530946838,
         "PAY_AMT5": -0.03333650421280087,
         "PAY_AMT6": -0.023027450987595774,
         "SEX_1": 0.05506388503522637,
         "SEX_2": -0.05506388503522608,
         "EDUCATION_0": -0.015354278897849875,
         "EDUCATION_1": -0.13870917327589202,
         "EDUCATION_2": 0.10321843516972086,
         "EDUCATION_3": 0.049577474571296,
         "EDUCATION_4": -0.029120296156830337,
         "EDUCATION_5": -0.010543086326973124,
         "EDUCATION_6": -0.008871227150283103,
         "MARRIAGE_0": -0.005291641920712058,
         "MARRIAGE_1": -0.034081062465807443,
         "MARRIAGE_2": 0.03210731537033639,
         "MARRIAGE_3": 0.011396336698613018,
         "default payment next month": 0.2041489138761645,
         "_deepnote_index_column": "PAY_5"
        },
        {
         "LIMIT_BAL": -0.23519539948542492,
         "AGE": -0.04877342642832421,
         "PAY_0": 0.4745530860641517,
         "PAY_2": 0.5755008617793054,
         "PAY_3": 0.6326835927184455,
         "PAY_4": 0.7164494815807845,
         "PAY_5": 0.8169001604176753,
         "PAY_6": 1,
         "BILL_AMT1": 0.20737313129566123,
         "BILL_AMT2": 0.22692443093066755,
         "BILL_AMT3": 0.24118114604232158,
         "BILL_AMT4": 0.2663560690339078,
         "BILL_AMT5": 0.29089374494860704,
         "BILL_AMT6": 0.28509099069256866,
         "PAY_AMT1": -0.0014962890433180716,
         "PAY_AMT2": -0.005223268144054586,
         "PAY_AMT3": 0.005833774192896976,
         "PAY_AMT4": 0.019017863282441618,
         "PAY_AMT5": -0.04643364107299659,
         "PAY_AMT6": -0.025299338462285336,
         "SEX_1": 0.04400778818765785,
         "SEX_2": -0.044007788187657534,
         "EDUCATION_0": -0.020030578178040444,
         "EDUCATION_1": -0.12512306656550648,
         "EDUCATION_2": 0.09801264239787147,
         "EDUCATION_3": 0.04137010767310692,
         "EDUCATION_4": -0.025037467530211015,
         "EDUCATION_5": -0.01944090590603652,
         "EDUCATION_6": -0.012773436667625137,
         "MARRIAGE_0": -0.004978688473985744,
         "MARRIAGE_1": -0.031772444676816905,
         "MARRIAGE_2": 0.028762878875625408,
         "MARRIAGE_3": 0.016297470596925472,
         "default payment next month": 0.18686636165354611,
         "_deepnote_index_column": "PAY_6"
        },
        {
         "LIMIT_BAL": 0.28542986496498995,
         "AGE": 0.05623853326056659,
         "PAY_0": 0.18706843147380112,
         "PAY_2": 0.23488652660358378,
         "PAY_3": 0.20847288868976013,
         "PAY_4": 0.20281206938744922,
         "PAY_5": 0.2066839642440959,
         "PAY_6": 0.20737313129566123,
         "BILL_AMT1": 1,
         "BILL_AMT2": 0.9514836727518136,
         "BILL_AMT3": 0.8922785291271761,
         "BILL_AMT4": 0.8602721890293095,
         "BILL_AMT5": 0.8297786058330013,
         "BILL_AMT6": 0.8026501885528455,
         "PAY_AMT1": 0.14027727757532418,
         "PAY_AMT2": 0.0993550349727683,
         "PAY_AMT3": 0.15688713847568506,
         "PAY_AMT4": 0.15830253328354005,
         "PAY_AMT5": 0.16702571208291594,
         "PAY_AMT6": 0.17934112200688435,
         "SEX_1": 0.03364186958914899,
         "SEX_2": -0.03364186958914931,
         "EDUCATION_0": -0.011574066675089246,
         "EDUCATION_1": -0.024044983124924764,
         "EDUCATION_2": 0.03032306062874296,
         "EDUCATION_3": -0.02200562916118858,
         "EDUCATION_4": 0.0029701224002695566,
         "EDUCATION_5": 0.040060472193771374,
         "EDUCATION_6": 0.017340432985577532,
         "MARRIAGE_0": -0.017775273817896384,
         "MARRIAGE_1": 0.02526442090255085,
         "MARRIAGE_2": -0.02134714648325524,
         "MARRIAGE_3": -0.01140145626435907,
         "default payment next month": -0.019644197143221562,
         "_deepnote_index_column": "BILL_AMT1"
        },
        {
         "LIMIT_BAL": 0.27831436399776105,
         "AGE": 0.05428307435034244,
         "PAY_0": 0.18985910889354435,
         "PAY_2": 0.23525694274352654,
         "PAY_3": 0.23729453440292753,
         "PAY_4": 0.2258163160680882,
         "PAY_5": 0.22691326699152847,
         "PAY_6": 0.22692443093066755,
         "BILL_AMT1": 0.9514836727518136,
         "BILL_AMT2": 1,
         "BILL_AMT3": 0.9283262592714855,
         "BILL_AMT4": 0.8924822912577209,
         "BILL_AMT5": 0.859778307271445,
         "BILL_AMT6": 0.8315935591018213,
         "PAY_AMT1": 0.28036535701409987,
         "PAY_AMT2": 0.10085087751752875,
         "PAY_AMT3": 0.1507181937016751,
         "PAY_AMT4": 0.14739810422001154,
         "PAY_AMT5": 0.1579574116239642,
         "PAY_AMT6": 0.17425616563434326,
         "SEX_1": 0.0311834722296673,
         "SEX_2": -0.031183472229667403,
         "EDUCATION_0": -0.011877282318666277,
         "EDUCATION_1": -0.020333601880298476,
         "EDUCATION_2": 0.02871619945163558,
         "EDUCATION_3": -0.022760583392646454,
         "EDUCATION_4": -0.0016859238434275513,
         "EDUCATION_5": 0.03622850083746712,
         "EDUCATION_6": 0.016861600076160364,
         "MARRIAGE_0": -0.015043940802349371,
         "MARRIAGE_1": 0.02242874022147558,
         "MARRIAGE_2": -0.0183390906249532,
         "MARRIAGE_3": -0.013383308659770011,
         "default payment next month": -0.014193218088215756,
         "_deepnote_index_column": "BILL_AMT2"
        },
        {
         "LIMIT_BAL": 0.28323578358168416,
         "AGE": 0.053709705178660236,
         "PAY_0": 0.17978528216681916,
         "PAY_2": 0.22414585503162604,
         "PAY_3": 0.2274943266955615,
         "PAY_4": 0.24498313796206864,
         "PAY_5": 0.24333468092023638,
         "PAY_6": 0.24118114604232158,
         "BILL_AMT1": 0.8922785291271761,
         "BILL_AMT2": 0.9283262592714855,
         "BILL_AMT3": 1,
         "BILL_AMT4": 0.9239694565909823,
         "BILL_AMT5": 0.8839096973620155,
         "BILL_AMT6": 0.8533200905940468,
         "PAY_AMT1": 0.24433523760815992,
         "PAY_AMT2": 0.3169359771796906,
         "PAY_AMT3": 0.1300111816244208,
         "PAY_AMT4": 0.14340460499244426,
         "PAY_AMT5": 0.17971235040649314,
         "PAY_AMT6": 0.18232596615205338,
         "SEX_1": 0.024563311681403095,
         "SEX_2": -0.024563311681403296,
         "EDUCATION_0": -0.009189027523020102,
         "EDUCATION_1": -0.013111839775808345,
         "EDUCATION_2": 0.022287606346926284,
         "EDUCATION_3": -0.022806854009967306,
         "EDUCATION_4": -0.001877610954655127,
         "EDUCATION_5": 0.034613609677948215,
         "EDUCATION_6": 0.014027372127245901,
         "MARRIAGE_0": -0.016998404833106086,
         "MARRIAGE_1": 0.025946354377426956,
         "MARRIAGE_2": -0.021402453817586518,
         "MARRIAGE_3": -0.014743770557239421,
         "default payment next month": -0.014075518043214726,
         "_deepnote_index_column": "BILL_AMT3"
        },
        {
         "LIMIT_BAL": 0.29398762371598486,
         "AGE": 0.051353093243321435,
         "PAY_0": 0.1791247706258787,
         "PAY_2": 0.22223651161283825,
         "PAY_3": 0.22720228070078952,
         "PAY_4": 0.2459172041984382,
         "PAY_5": 0.271915006998107,
         "PAY_6": 0.2663560690339078,
         "BILL_AMT1": 0.8602721890293095,
         "BILL_AMT2": 0.8924822912577209,
         "BILL_AMT3": 0.9239694565909823,
         "BILL_AMT4": 1,
         "BILL_AMT5": 0.9401344040880004,
         "BILL_AMT6": 0.9009409547978421,
         "PAY_AMT1": 0.23301185215343712,
         "PAY_AMT2": 0.20756372904207548,
         "PAY_AMT3": 0.3000225291116479,
         "PAY_AMT4": 0.13019140778780797,
         "PAY_AMT5": 0.16043303762900443,
         "PAY_AMT6": 0.1776369941867446,
         "SEX_1": 0.02187967907348485,
         "SEX_2": -0.021879679073485304,
         "EDUCATION_0": -0.010046973897023076,
         "EDUCATION_1": -0.0038092297474670057,
         "EDUCATION_2": 0.021648117524580953,
         "EDUCATION_3": -0.03127577927287707,
         "EDUCATION_4": -0.00368298729906175,
         "EDUCATION_5": 0.02868636565534179,
         "EDUCATION_6": 0.0070538210460622695,
         "MARRIAGE_0": -0.016010915544627136,
         "MARRIAGE_1": 0.02314893425857433,
         "MARRIAGE_2": -0.017707894540977633,
         "MARRIAGE_3": -0.019513128485098938,
         "default payment next month": -0.010156495880289674,
         "_deepnote_index_column": "BILL_AMT4"
        },
        {
         "LIMIT_BAL": 0.29556233765823164,
         "AGE": 0.04934504811261178,
         "PAY_0": 0.18063462540120856,
         "PAY_2": 0.22134837303342783,
         "PAY_3": 0.22514519307202235,
         "PAY_4": 0.24290205842488452,
         "PAY_5": 0.2697830901511351,
         "PAY_6": 0.29089374494860704,
         "BILL_AMT1": 0.8297786058330013,
         "BILL_AMT2": 0.859778307271445,
         "BILL_AMT3": 0.8839096973620155,
         "BILL_AMT4": 0.9401344040880004,
         "BILL_AMT5": 1,
         "BILL_AMT6": 0.9461968070521957,
         "PAY_AMT1": 0.2170308237780502,
         "PAY_AMT2": 0.1812464910522769,
         "PAY_AMT3": 0.25230486173062916,
         "PAY_AMT4": 0.2931184631844312,
         "PAY_AMT5": 0.1415741799596068,
         "PAY_AMT6": 0.16418445035361773,
         "SEX_1": 0.017005180187325834,
         "SEX_2": -0.01700518018732598,
         "EDUCATION_0": -0.011693792229442609,
         "EDUCATION_1": 0.0009411265411921569,
         "EDUCATION_2": 0.019690079541265667,
         "EDUCATION_3": -0.03170778760990184,
         "EDUCATION_4": -0.006829654105114199,
         "EDUCATION_5": 0.021164654223270307,
         "EDUCATION_6": 0.002850357717741163,
         "MARRIAGE_0": -0.015780106033621434,
         "MARRIAGE_1": 0.02501926659106925,
         "MARRIAGE_2": -0.019356118675476992,
         "MARRIAGE_3": -0.0206642324366993,
         "default payment next month": -0.006760463841014779,
         "_deepnote_index_column": "BILL_AMT5"
        },
        {
         "LIMIT_BAL": 0.29038895064794745,
         "AGE": 0.047612677990511255,
         "PAY_0": 0.1769802956414379,
         "PAY_2": 0.2194033512866795,
         "PAY_3": 0.2223267374363066,
         "PAY_4": 0.2391541296058393,
         "PAY_5": 0.26250925166841726,
         "PAY_6": 0.28509099069256866,
         "BILL_AMT1": 0.8026501885528455,
         "BILL_AMT2": 0.8315935591018213,
         "BILL_AMT3": 0.8533200905940468,
         "BILL_AMT4": 0.9009409547978421,
         "BILL_AMT5": 0.9461968070521957,
         "BILL_AMT6": 1,
         "PAY_AMT1": 0.199965006163385,
         "PAY_AMT2": 0.1726629374180296,
         "PAY_AMT3": 0.23376979332693368,
         "PAY_AMT4": 0.2502368249334362,
         "PAY_AMT5": 0.3077288895011546,
         "PAY_AMT6": 0.11549416685164447,
         "SEX_1": 0.016733126348159003,
         "SEX_2": -0.01673312634815911,
         "EDUCATION_0": -0.01219058213980731,
         "EDUCATION_1": -0.0025253984558671247,
         "EDUCATION_2": 0.02455543078062067,
         "EDUCATION_3": -0.03098106763204839,
         "EDUCATION_4": -0.007257011693447955,
         "EDUCATION_5": 0.011754709196825624,
         "EDUCATION_6": 0.0004897279528999645,
         "MARRIAGE_0": -0.01572737805069299,
         "MARRIAGE_1": 0.021169314136265157,
         "MARRIAGE_2": -0.01606410562073082,
         "MARRIAGE_3": -0.01802447570339879,
         "default payment next month": -0.005372314914815558,
         "_deepnote_index_column": "BILL_AMT6"
        }
       ],
       "rows_bottom": [
        {
         "LIMIT_BAL": 0.21959536860441753,
         "AGE": 0.0194781529698698,
         "PAY_0": -0.058673214376070426,
         "PAY_2": -0.03650037552721859,
         "PAY_3": -0.035861083718773175,
         "PAY_4": -0.026565087967650867,
         "PAY_5": -0.023027450987595774,
         "PAY_6": -0.025299338462285336,
         "BILL_AMT1": 0.17934112200688435,
         "BILL_AMT2": 0.17425616563434326,
         "BILL_AMT3": 0.18232596615205338,
         "BILL_AMT4": 0.1776369941867446,
         "BILL_AMT5": 0.16418445035361773,
         "BILL_AMT6": 0.11549416685164447,
         "PAY_AMT1": 0.1857352554457264,
         "PAY_AMT2": 0.1576339162723367,
         "PAY_AMT3": 0.16274003329183245,
         "PAY_AMT4": 0.15783391560137267,
         "PAY_AMT5": 0.15489552525961545,
         "PAY_AMT6": 1,
         "SEX_1": 0.002766022282891708,
         "SEX_2": -0.002766022282891736,
         "EDUCATION_0": -0.0026840951317806745,
         "EDUCATION_1": 0.05013490540297303,
         "EDUCATION_2": -0.026310423213146302,
         "EDUCATION_3": -0.03461270483505557,
         "EDUCATION_4": -0.0033585684403475502,
         "EDUCATION_5": 0.013959079336691441,
         "EDUCATION_6": 0.022187914601522953,
         "MARRIAGE_0": -0.00711148461692773,
         "MARRIAGE_1": 0.00597410173134087,
         "MARRIAGE_2": -0.003165622093877041,
         "MARRIAGE_3": -0.010601570605584457,
         "default payment next month": -0.05318334032612796,
         "_deepnote_index_column": "PAY_AMT6"
        },
        {
         "LIMIT_BAL": -0.02475523511164423,
         "AGE": 0.09087364652739194,
         "PAY_0": 0.05764287886698673,
         "PAY_2": 0.0707710031668225,
         "PAY_3": 0.06609605640043056,
         "PAY_4": 0.060173238366203495,
         "PAY_5": 0.05506388503522637,
         "PAY_6": 0.04400778818765785,
         "BILL_AMT1": 0.03364186958914899,
         "BILL_AMT2": 0.0311834722296673,
         "BILL_AMT3": 0.024563311681403095,
         "BILL_AMT4": 0.02187967907348485,
         "BILL_AMT5": 0.017005180187325834,
         "BILL_AMT6": 0.016733126348159003,
         "PAY_AMT1": 0.00024245456294140903,
         "PAY_AMT2": 0.0013909096590867672,
         "PAY_AMT3": 0.008596624911743673,
         "PAY_AMT4": 0.0022289715070058424,
         "PAY_AMT5": 0.0016671618004741164,
         "PAY_AMT6": 0.002766022282891708,
         "SEX_1": 1,
         "SEX_2": -1.0000000000000009,
         "EDUCATION_0": 0.00773798815275532,
         "EDUCATION_1": 0.02274979062449084,
         "EDUCATION_2": -0.025353051936647848,
         "EDUCATION_3": 0.007650431073172063,
         "EDUCATION_4": -0.0071890920478335715,
         "EDUCATION_5": -0.011307535728313285,
         "EDUCATION_6": 0.0079246333802411,
         "MARRIAGE_0": -0.011894745924040061,
         "MARRIAGE_1": -0.030462990182695746,
         "MARRIAGE_2": 0.031003800157830802,
         "MARRIAGE_3": 0.0019849158725342405,
         "default payment next month": 0.039960577705441876,
         "_deepnote_index_column": "SEX_1"
        },
        {
         "LIMIT_BAL": 0.024755235111643653,
         "AGE": -0.09087364652739185,
         "PAY_0": -0.05764287886698631,
         "PAY_2": -0.07077100316682207,
         "PAY_3": -0.0660960564004303,
         "PAY_4": -0.06017323836620332,
         "PAY_5": -0.05506388503522608,
         "PAY_6": -0.044007788187657534,
         "BILL_AMT1": -0.03364186958914931,
         "BILL_AMT2": -0.031183472229667403,
         "BILL_AMT3": -0.024563311681403296,
         "BILL_AMT4": -0.021879679073485304,
         "BILL_AMT5": -0.01700518018732598,
         "BILL_AMT6": -0.01673312634815911,
         "PAY_AMT1": -0.00024245456294150428,
         "PAY_AMT2": -0.0013909096590868167,
         "PAY_AMT3": -0.00859662491174404,
         "PAY_AMT4": -0.0022289715070058958,
         "PAY_AMT5": -0.0016671618004741417,
         "PAY_AMT6": -0.002766022282891736,
         "SEX_1": -1.0000000000000009,
         "SEX_2": 1,
         "EDUCATION_0": -0.007737988152755361,
         "EDUCATION_1": -0.02274979062449092,
         "EDUCATION_2": 0.025353051936647886,
         "EDUCATION_3": -0.007650431073172262,
         "EDUCATION_4": 0.007189092047833361,
         "EDUCATION_5": 0.01130753572831309,
         "EDUCATION_6": -0.007924633380241195,
         "MARRIAGE_0": 0.011894745924039982,
         "MARRIAGE_1": 0.030462990182695403,
         "MARRIAGE_2": -0.031003800157830833,
         "MARRIAGE_3": -0.001984915872534138,
         "default payment next month": -0.0399605777054416,
         "_deepnote_index_column": "SEX_2"
        },
        {
         "LIMIT_BAL": 0.008270015947747768,
         "AGE": 0.007903534790696817,
         "PAY_0": -0.009292641112527391,
         "PAY_2": -0.01563454546843855,
         "PAY_3": -0.013763614517732331,
         "PAY_4": -0.011763272082470466,
         "PAY_5": -0.015354278897849875,
         "PAY_6": -0.020030578178040444,
         "BILL_AMT1": -0.011574066675089246,
         "BILL_AMT2": -0.011877282318666277,
         "BILL_AMT3": -0.009189027523020102,
         "BILL_AMT4": -0.010046973897023076,
         "BILL_AMT5": -0.011693792229442609,
         "BILL_AMT6": -0.01219058213980731,
         "PAY_AMT1": 0.00036815497100073667,
         "PAY_AMT2": 0.0066675818735866315,
         "PAY_AMT3": 0.00441738334574677,
         "PAY_AMT4": -0.0016627180488515455,
         "PAY_AMT5": -0.0031929925045876733,
         "PAY_AMT6": -0.0026840951317806745,
         "SEX_1": 0.00773798815275532,
         "SEX_2": -0.007737988152755361,
         "EDUCATION_0": 1,
         "EDUCATION_1": -0.015954436993623006,
         "EDUCATION_2": -0.020252615935435245,
         "EDUCATION_3": -0.009566765189124898,
         "EDUCATION_4": -0.0013864008363175145,
         "EDUCATION_5": -0.002097294232909452,
         "EDUCATION_6": -0.0008916587477587854,
         "MARRIAGE_0": -0.0009175552390613117,
         "MARRIAGE_1": -0.007358113823391975,
         "MARRIAGE_2": 0.007888025706562742,
         "MARRIAGE_3": -0.0022542185139222755,
         "default payment next month": -0.011515540826935957,
         "_deepnote_index_column": "EDUCATION_0"
        },
        {
         "LIMIT_BAL": 0.2587772390528128,
         "AGE": -0.10042282197400018,
         "PAY_0": -0.14272038328688466,
         "PAY_2": -0.16921546081822994,
         "PAY_3": -0.16020862275064432,
         "PAY_4": -0.1524015453054597,
         "PAY_5": -0.13870917327589202,
         "PAY_6": -0.12512306656550648,
         "BILL_AMT1": -0.024044983124924764,
         "BILL_AMT2": -0.020333601880298476,
         "BILL_AMT3": -0.013111839775808345,
         "BILL_AMT4": -0.0038092297474670057,
         "BILL_AMT5": 0.0009411265411921569,
         "BILL_AMT6": -0.0025253984558671247,
         "PAY_AMT1": 0.049811320118364165,
         "PAY_AMT2": 0.04439956094116395,
         "PAY_AMT3": 0.05598216229663688,
         "PAY_AMT4": 0.046118721156723975,
         "PAY_AMT5": 0.04722597543147661,
         "PAY_AMT6": 0.05013490540297303,
         "SEX_1": 0.02274979062449084,
         "SEX_2": -0.02274979062449092,
         "EDUCATION_0": -0.015954436993623006,
         "EDUCATION_1": 1,
         "EDUCATION_2": -0.6920749199821219,
         "EDUCATION_3": -0.3269166943104362,
         "EDUCATION_4": -0.04737626245006723,
         "EDUCATION_5": -0.07166900034282334,
         "EDUCATION_6": -0.030469874038682468,
         "MARRIAGE_0": -0.02477216121498256,
         "MARRIAGE_1": -0.1537105669583492,
         "MARRIAGE_2": 0.16445914763466926,
         "MARRIAGE_3": -0.043235392147111314,
         "default payment next month": -0.051327748638740844,
         "_deepnote_index_column": "EDUCATION_1"
        },
        {
         "LIMIT_BAL": -0.14752985087870465,
         "AGE": -0.07762580946075033,
         "PAY_0": 0.09917694734823398,
         "PAY_2": 0.12236373322292372,
         "PAY_3": 0.11564443529316419,
         "PAY_4": 0.11033967874227171,
         "PAY_5": 0.10321843516972086,
         "PAY_6": 0.09801264239787147,
         "BILL_AMT1": 0.03032306062874296,
         "BILL_AMT2": 0.02871619945163558,
         "BILL_AMT3": 0.022287606346926284,
         "BILL_AMT4": 0.021648117524580953,
         "BILL_AMT5": 0.019690079541265667,
         "BILL_AMT6": 0.02455543078062067,
         "PAY_AMT1": -0.03299841803368626,
         "PAY_AMT2": -0.0331322033262895,
         "PAY_AMT3": -0.035608066005616716,
         "PAY_AMT4": -0.026964884050017915,
         "PAY_AMT5": -0.021270292744616864,
         "PAY_AMT6": -0.026310423213146302,
         "SEX_1": -0.025353051936647848,
         "SEX_2": 0.025353051936647886,
         "EDUCATION_0": -0.020252615935435245,
         "EDUCATION_1": -0.6920749199821219,
         "EDUCATION_2": 1,
         "EDUCATION_3": -0.4149891503785324,
         "EDUCATION_4": -0.06013958676455356,
         "EDUCATION_5": -0.09097686988264989,
         "EDUCATION_6": -0.038678560500328335,
         "MARRIAGE_0": -0.030345523817199085,
         "MARRIAGE_1": 0.06092308762143121,
         "MARRIAGE_2": -0.05969216903272125,
         "MARRIAGE_3": 0.00708421214252242,
         "default payment next month": 0.0364673392507714,
         "_deepnote_index_column": "EDUCATION_2"
        },
        {
         "LIMIT_BAL": -0.13968597480829734,
         "AGE": 0.23125161576230996,
         "PAY_0": 0.05890232147039018,
         "PAY_2": 0.06458962525460793,
         "PAY_3": 0.06246070041627334,
         "PAY_4": 0.058382260456078014,
         "PAY_5": 0.049577474571296,
         "PAY_6": 0.04137010767310692,
         "BILL_AMT1": -0.02200562916118858,
         "BILL_AMT2": -0.022760583392646454,
         "BILL_AMT3": -0.022806854009967306,
         "BILL_AMT4": -0.03127577927287707,
         "BILL_AMT5": -0.03170778760990184,
         "BILL_AMT6": -0.03098106763204839,
         "PAY_AMT1": -0.02130979812551141,
         "PAY_AMT2": -0.016674123165402947,
         "PAY_AMT3": -0.03172585920565958,
         "PAY_AMT4": -0.02355418617399647,
         "PAY_AMT5": -0.03476765943825381,
         "PAY_AMT6": -0.03461270483505557,
         "SEX_1": 0.007650431073172063,
         "SEX_2": -0.007650431073172262,
         "EDUCATION_0": -0.009566765189124898,
         "EDUCATION_1": -0.3269166943104362,
         "EDUCATION_2": -0.4149891503785324,
         "EDUCATION_3": 1,
         "EDUCATION_4": -0.028408246469575113,
         "EDUCATION_5": -0.0429749102330064,
         "EDUCATION_6": -0.018270662285782915,
         "MARRIAGE_0": 0.07466774531682888,
         "MARRIAGE_1": 0.11251887887788117,
         "MARRIAGE_2": -0.1276777059327923,
         "MARRIAGE_3": 0.04367808608282858,
         "default payment next month": 0.03240318989212752,
         "_deepnote_index_column": "EDUCATION_3"
        },
        {
         "LIMIT_BAL": 0.026412786907195143,
         "AGE": -0.011358921034177204,
         "PAY_0": -0.02782633797567837,
         "PAY_2": -0.03422571369027711,
         "PAY_3": -0.03206021718599286,
         "PAY_4": -0.03250853712930118,
         "PAY_5": -0.029120296156830337,
         "PAY_6": -0.025037467530211015,
         "BILL_AMT1": 0.0029701224002695566,
         "BILL_AMT2": -0.0016859238434275513,
         "BILL_AMT3": -0.001877610954655127,
         "BILL_AMT4": -0.00368298729906175,
         "BILL_AMT5": -0.006829654105114199,
         "BILL_AMT6": -0.007257011693447955,
         "PAY_AMT1": -0.0008253987339400037,
         "PAY_AMT2": 0.0017651240598654818,
         "PAY_AMT3": 0.017364598043833692,
         "PAY_AMT4": 0.0011418210133074744,
         "PAY_AMT5": 0.0050070868913744526,
         "PAY_AMT6": -0.0033585684403475502,
         "SEX_1": -0.0071890920478335715,
         "SEX_2": 0.007189092047833361,
         "EDUCATION_0": -0.0013864008363175145,
         "EDUCATION_1": -0.04737626245006723,
         "EDUCATION_2": -0.06013958676455356,
         "EDUCATION_3": -0.028408246469575113,
         "EDUCATION_4": 1,
         "EDUCATION_5": -0.006227857620613406,
         "EDUCATION_6": -0.00264775616128627,
         "MARRIAGE_0": -0.0027246550809394473,
         "MARRIAGE_1": -0.004191965214665791,
         "MARRIAGE_2": 0.0026634153988476083,
         "MARRIAGE_3": 0.008470035208057877,
         "default payment next month": -0.025397335416931375,
         "_deepnote_index_column": "EDUCATION_4"
        },
        {
         "LIMIT_BAL": 0.0005086834685071908,
         "AGE": 0.001205688598644484,
         "PAY_0": -0.00904560069907428,
         "PAY_2": -0.013767341870004508,
         "PAY_3": -0.016933481076779406,
         "PAY_4": -0.01281314025835346,
         "PAY_5": -0.010543086326973124,
         "PAY_6": -0.01944090590603652,
         "BILL_AMT1": 0.040060472193771374,
         "BILL_AMT2": 0.03622850083746712,
         "BILL_AMT3": 0.034613609677948215,
         "BILL_AMT4": 0.02868636565534179,
         "BILL_AMT5": 0.021164654223270307,
         "BILL_AMT6": 0.011754709196825624,
         "PAY_AMT1": 0.001799878094819546,
         "PAY_AMT2": 0.012603449366360814,
         "PAY_AMT3": 0.013742633461460485,
         "PAY_AMT4": 0.0006273602000958416,
         "PAY_AMT5": -0.001055514033979345,
         "PAY_AMT6": 0.013959079336691441,
         "SEX_1": -0.011307535728313285,
         "SEX_2": 0.01130753572831309,
         "EDUCATION_0": -0.002097294232909452,
         "EDUCATION_1": -0.07166900034282334,
         "EDUCATION_2": -0.09097686988264989,
         "EDUCATION_3": -0.0429749102330064,
         "EDUCATION_4": -0.006227857620613406,
         "EDUCATION_5": 1,
         "EDUCATION_6": -0.004005424392245791,
         "MARRIAGE_0": -0.004121754140815438,
         "MARRIAGE_1": 0.015673295039611533,
         "MARRIAGE_2": -0.015282532676460035,
         "MARRIAGE_3": -0.000049264944600888205,
         "default payment next month": -0.03669539480286655,
         "_deepnote_index_column": "EDUCATION_5"
        },
        {
         "LIMIT_BAL": -0.00612224127251419,
         "AGE": 0.037678923265620515,
         "PAY_0": -0.005866895860449538,
         "PAY_2": -0.0062031557990667365,
         "PAY_3": -0.007114714449474895,
         "PAY_4": -0.006745146501818633,
         "PAY_5": -0.008871227150283103,
         "PAY_6": -0.012773436667625137,
         "BILL_AMT1": 0.017340432985577532,
         "BILL_AMT2": 0.016861600076160364,
         "BILL_AMT3": 0.014027372127245901,
         "BILL_AMT4": 0.0070538210460622695,
         "BILL_AMT5": 0.002850357717741163,
         "BILL_AMT6": 0.0004897279528999645,
         "PAY_AMT1": 0.010257039183838005,
         "PAY_AMT2": 0.00045719180922510405,
         "PAY_AMT3": 0.00567021121258115,
         "PAY_AMT4": 0.0009309396722822521,
         "PAY_AMT5": 0.018614675066851643,
         "PAY_AMT6": 0.022187914601522953,
         "SEX_1": 0.0079246333802411,
         "SEX_2": -0.007924633380241195,
         "EDUCATION_0": -0.0008916587477587854,
         "EDUCATION_1": -0.030469874038682468,
         "EDUCATION_2": -0.038678560500328335,
         "EDUCATION_3": -0.018270662285782915,
         "EDUCATION_4": -0.00264775616128627,
         "EDUCATION_5": -0.004005424392245791,
         "EDUCATION_6": 1,
         "MARRIAGE_0": -0.001752352186975084,
         "MARRIAGE_1": 0.007765990859055943,
         "MARRIAGE_2": -0.009954878157805136,
         "MARRIAGE_3": 0.011375519125331418,
         "default payment next month": -0.006396625413555812,
         "_deepnote_index_column": "EDUCATION_6"
        },
        {
         "LIMIT_BAL": -0.011298559106476822,
         "AGE": 0.010730765713987287,
         "PAY_0": -0.005666825354274842,
         "PAY_2": -0.002480734676447885,
         "PAY_3": -0.0013306467206435598,
         "PAY_4": -0.005437524734833867,
         "PAY_5": -0.005291641920712058,
         "PAY_6": -0.004978688473985744,
         "BILL_AMT1": -0.017775273817896384,
         "BILL_AMT2": -0.015043940802349371,
         "BILL_AMT3": -0.016998404833106086,
         "BILL_AMT4": -0.016010915544627136,
         "BILL_AMT5": -0.015780106033621434,
         "BILL_AMT6": -0.01572737805069299,
         "PAY_AMT1": 0.005464871182178691,
         "PAY_AMT2": -0.005785720490241352,
         "PAY_AMT3": -0.0028887621176928546,
         "PAY_AMT4": -0.00531788552746825,
         "PAY_AMT5": -0.007434676044330947,
         "PAY_AMT6": -0.00711148461692773,
         "SEX_1": -0.011894745924040061,
         "SEX_2": 0.011894745924039982,
         "EDUCATION_0": -0.0009175552390613117,
         "EDUCATION_1": -0.02477216121498256,
         "EDUCATION_2": -0.030345523817199085,
         "EDUCATION_3": 0.07466774531682888,
         "EDUCATION_4": -0.0027246550809394473,
         "EDUCATION_5": -0.004121754140815438,
         "EDUCATION_6": -0.001752352186975084,
         "MARRIAGE_0": 1,
         "MARRIAGE_1": -0.03882376122490675,
         "MARRIAGE_2": -0.04528732299084638,
         "MARRIAGE_3": -0.004430153074503363,
         "default payment next month": -0.013157940567972535,
         "_deepnote_index_column": "MARRIAGE_0"
        },
        {
         "LIMIT_BAL": 0.10370136007405631,
         "AGE": 0.4494254734520255,
         "PAY_0": -0.016313700357146344,
         "PAY_2": -0.022525463978044034,
         "PAY_3": -0.030584388863413595,
         "PAY_4": -0.030167005402011216,
         "PAY_5": -0.034081062465807443,
         "PAY_6": -0.031772444676816905,
         "BILL_AMT1": 0.02526442090255085,
         "BILL_AMT2": 0.02242874022147558,
         "BILL_AMT3": 0.025946354377426956,
         "BILL_AMT4": 0.02314893425857433,
         "BILL_AMT5": 0.02501926659106925,
         "BILL_AMT6": 0.021169314136265157,
         "PAY_AMT1": 0.006963961481233258,
         "PAY_AMT2": 0.011291157345123648,
         "PAY_AMT3": 0.005338636640177712,
         "PAY_AMT4": 0.014580973959032312,
         "PAY_AMT5": 0.0021951564766760786,
         "PAY_AMT6": 0.00597410173134087,
         "SEX_1": -0.030462990182695746,
         "SEX_2": 0.030462990182695403,
         "EDUCATION_0": -0.007358113823391975,
         "EDUCATION_1": -0.1537105669583492,
         "EDUCATION_2": 0.06092308762143121,
         "EDUCATION_3": 0.11251887887788117,
         "EDUCATION_4": -0.004191965214665791,
         "EDUCATION_5": 0.015673295039611533,
         "EDUCATION_6": 0.007765990859055943,
         "MARRIAGE_0": -0.03882376122490675,
         "MARRIAGE_1": 1,
         "MARRIAGE_2": -0.9750330059589444,
         "MARRIAGE_3": -0.09538089654723762,
         "default payment next month": 0.029774610412466974,
         "_deepnote_index_column": "MARRIAGE_1"
        },
        {
         "LIMIT_BAL": -0.09099771089989181,
         "AGE": -0.46658445213842936,
         "PAY_0": 0.013173236385992056,
         "PAY_2": 0.020281451209224633,
         "PAY_3": 0.027195112205137085,
         "PAY_4": 0.026954757955061734,
         "PAY_5": 0.03210731537033639,
         "PAY_6": 0.028762878875625408,
         "BILL_AMT1": -0.02134714648325524,
         "BILL_AMT2": -0.0183390906249532,
         "BILL_AMT3": -0.021402453817586518,
         "BILL_AMT4": -0.017707894540977633,
         "BILL_AMT5": -0.019356118675476992,
         "BILL_AMT6": -0.01606410562073082,
         "PAY_AMT1": -0.009039107095936805,
         "PAY_AMT2": -0.012598307571376898,
         "PAY_AMT3": -0.0062157777078700495,
         "PAY_AMT4": -0.014507376959242035,
         "PAY_AMT5": -0.0012267417601629868,
         "PAY_AMT6": -0.003165622093877041,
         "SEX_1": 0.031003800157830802,
         "SEX_2": -0.031003800157830833,
         "EDUCATION_0": 0.007888025706562742,
         "EDUCATION_1": 0.16445914763466926,
         "EDUCATION_2": -0.05969216903272125,
         "EDUCATION_3": -0.1276777059327923,
         "EDUCATION_4": 0.0026634153988476083,
         "EDUCATION_5": -0.015282532676460035,
         "EDUCATION_6": -0.009954878157805136,
         "MARRIAGE_0": -0.04528732299084638,
         "MARRIAGE_1": -0.9750330059589444,
         "MARRIAGE_2": 1,
         "MARRIAGE_3": -0.11126035532899746,
         "default payment next month": -0.030619384748382692,
         "_deepnote_index_column": "MARRIAGE_2"
        },
        {
         "LIMIT_BAL": -0.055806191154122775,
         "AGE": 0.08277085214888356,
         "PAY_0": 0.01735804757444859,
         "PAY_2": 0.011656946048832108,
         "PAY_3": 0.016646101993125734,
         "PAY_4": 0.01748092513626112,
         "PAY_5": 0.011396336698613018,
         "PAY_6": 0.016297470596925472,
         "BILL_AMT1": -0.01140145626435907,
         "BILL_AMT2": -0.013383308659770011,
         "BILL_AMT3": -0.014743770557239421,
         "BILL_AMT4": -0.019513128485098938,
         "BILL_AMT5": -0.0206642324366993,
         "BILL_AMT6": -0.01802447570339879,
         "PAY_AMT1": 0.007853750238844536,
         "PAY_AMT2": 0.008802170704827571,
         "PAY_AMT3": 0.005477425271482944,
         "PAY_AMT4": 0.001965210760451215,
         "PAY_AMT5": -0.0016078866845736664,
         "PAY_AMT6": -0.010601570605584457,
         "SEX_1": 0.0019849158725342405,
         "SEX_2": -0.001984915872534138,
         "EDUCATION_0": -0.0022542185139222755,
         "EDUCATION_1": -0.043235392147111314,
         "EDUCATION_2": 0.00708421214252242,
         "EDUCATION_3": 0.04367808608282858,
         "EDUCATION_4": 0.008470035208057877,
         "EDUCATION_5": -0.000049264944600888205,
         "EDUCATION_6": 0.011375519125331418,
         "MARRIAGE_0": -0.004430153074503363,
         "MARRIAGE_1": -0.09538089654723762,
         "MARRIAGE_2": -0.11126035532899746,
         "MARRIAGE_3": 1,
         "default payment next month": 0.009768097322225394,
         "_deepnote_index_column": "MARRIAGE_3"
        },
        {
         "LIMIT_BAL": -0.1535198763935072,
         "AGE": 0.013889834301962887,
         "PAY_0": 0.32479372847862237,
         "PAY_2": 0.2635512016721678,
         "PAY_3": 0.23525251372491712,
         "PAY_4": 0.21661363684242388,
         "PAY_5": 0.2041489138761645,
         "PAY_6": 0.18686636165354611,
         "BILL_AMT1": -0.019644197143221562,
         "BILL_AMT2": -0.014193218088215756,
         "BILL_AMT3": -0.014075518043214726,
         "BILL_AMT4": -0.010156495880289674,
         "BILL_AMT5": -0.006760463841014779,
         "BILL_AMT6": -0.005372314914815558,
         "PAY_AMT1": -0.07292948777785163,
         "PAY_AMT2": -0.058578706582901575,
         "PAY_AMT3": -0.056250350990331634,
         "PAY_AMT4": -0.05682740089288691,
         "PAY_AMT5": -0.05512351562108876,
         "PAY_AMT6": -0.05318334032612796,
         "SEX_1": 0.039960577705441876,
         "SEX_2": -0.0399605777054416,
         "EDUCATION_0": -0.011515540826935957,
         "EDUCATION_1": -0.051327748638740844,
         "EDUCATION_2": 0.0364673392507714,
         "EDUCATION_3": 0.03240318989212752,
         "EDUCATION_4": -0.025397335416931375,
         "EDUCATION_5": -0.03669539480286655,
         "EDUCATION_6": -0.006396625413555812,
         "MARRIAGE_0": -0.013157940567972535,
         "MARRIAGE_1": 0.029774610412466974,
         "MARRIAGE_2": -0.030619384748382692,
         "MARRIAGE_3": 0.009768097322225394,
         "default payment next month": 1,
         "_deepnote_index_column": "default payment next month"
        }
       ]
      },
      "text/plain": "                            LIMIT_BAL       AGE     PAY_0     PAY_2     PAY_3  \\\nLIMIT_BAL                    1.000000  0.144713 -0.271214 -0.296382 -0.286123   \nAGE                          0.144713  1.000000 -0.039447 -0.050148 -0.053048   \nPAY_0                       -0.271214 -0.039447  1.000000  0.672164  0.574245   \nPAY_2                       -0.296382 -0.050148  0.672164  1.000000  0.766552   \nPAY_3                       -0.286123 -0.053048  0.574245  0.766552  1.000000   \nPAY_4                       -0.267460 -0.049722  0.538841  0.662067  0.777359   \nPAY_5                       -0.249411 -0.053826  0.509426  0.622780  0.686775   \nPAY_6                       -0.235195 -0.048773  0.474553  0.575501  0.632684   \nBILL_AMT1                    0.285430  0.056239  0.187068  0.234887  0.208473   \nBILL_AMT2                    0.278314  0.054283  0.189859  0.235257  0.237295   \nBILL_AMT3                    0.283236  0.053710  0.179785  0.224146  0.227494   \nBILL_AMT4                    0.293988  0.051353  0.179125  0.222237  0.227202   \nBILL_AMT5                    0.295562  0.049345  0.180635  0.221348  0.225145   \nBILL_AMT6                    0.290389  0.047613  0.176980  0.219403  0.222327   \nPAY_AMT1                     0.195236  0.026147 -0.079269 -0.080701  0.001295   \nPAY_AMT2                     0.178408  0.021785 -0.070101 -0.058990 -0.066793   \nPAY_AMT3                     0.210167  0.029247 -0.070561 -0.055901 -0.053311   \nPAY_AMT4                     0.203242  0.021379 -0.064005 -0.046858 -0.046067   \nPAY_AMT5                     0.217202  0.022850 -0.058190 -0.037093 -0.035863   \nPAY_AMT6                     0.219595  0.019478 -0.058673 -0.036500 -0.035861   \nSEX_1                       -0.024755  0.090874  0.057643  0.070771  0.066096   \nSEX_2                        0.024755 -0.090874 -0.057643 -0.070771 -0.066096   \nEDUCATION_0                  0.008270  0.007904 -0.009293 -0.015635 -0.013764   \nEDUCATION_1                  0.258777 -0.100423 -0.142720 -0.169215 -0.160209   \nEDUCATION_2                 -0.147530 -0.077626  0.099177  0.122364  0.115644   \nEDUCATION_3                 -0.139686  0.231252  0.058902  0.064590  0.062461   \nEDUCATION_4                  0.026413 -0.011359 -0.027826 -0.034226 -0.032060   \nEDUCATION_5                  0.000509  0.001206 -0.009046 -0.013767 -0.016933   \nEDUCATION_6                 -0.006122  0.037679 -0.005867 -0.006203 -0.007115   \nMARRIAGE_0                  -0.011299  0.010731 -0.005667 -0.002481 -0.001331   \nMARRIAGE_1                   0.103701  0.449425 -0.016314 -0.022525 -0.030584   \nMARRIAGE_2                  -0.090998 -0.466584  0.013173  0.020281  0.027195   \nMARRIAGE_3                  -0.055806  0.082771  0.017358  0.011657  0.016646   \ndefault payment next month  -0.153520  0.013890  0.324794  0.263551  0.235253   \n\n                               PAY_4     PAY_5     PAY_6  BILL_AMT1  \\\nLIMIT_BAL                  -0.267460 -0.249411 -0.235195   0.285430   \nAGE                        -0.049722 -0.053826 -0.048773   0.056239   \nPAY_0                       0.538841  0.509426  0.474553   0.187068   \nPAY_2                       0.662067  0.622780  0.575501   0.234887   \nPAY_3                       0.777359  0.686775  0.632684   0.208473   \nPAY_4                       1.000000  0.819835  0.716449   0.202812   \nPAY_5                       0.819835  1.000000  0.816900   0.206684   \nPAY_6                       0.716449  0.816900  1.000000   0.207373   \nBILL_AMT1                   0.202812  0.206684  0.207373   1.000000   \nBILL_AMT2                   0.225816  0.226913  0.226924   0.951484   \nBILL_AMT3                   0.244983  0.243335  0.241181   0.892279   \nBILL_AMT4                   0.245917  0.271915  0.266356   0.860272   \nBILL_AMT5                   0.242902  0.269783  0.290894   0.829779   \nBILL_AMT6                   0.239154  0.262509  0.285091   0.802650   \nPAY_AMT1                   -0.009362 -0.006089 -0.001496   0.140277   \nPAY_AMT2                   -0.001944 -0.003191 -0.005223   0.099355   \nPAY_AMT3                   -0.069235  0.009062  0.005834   0.156887   \nPAY_AMT4                   -0.043461 -0.058299  0.019018   0.158303   \nPAY_AMT5                   -0.033590 -0.033337 -0.046434   0.167026   \nPAY_AMT6                   -0.026565 -0.023027 -0.025299   0.179341   \nSEX_1                       0.060173  0.055064  0.044008   0.033642   \nSEX_2                      -0.060173 -0.055064 -0.044008  -0.033642   \nEDUCATION_0                -0.011763 -0.015354 -0.020031  -0.011574   \nEDUCATION_1                -0.152402 -0.138709 -0.125123  -0.024045   \nEDUCATION_2                 0.110340  0.103218  0.098013   0.030323   \nEDUCATION_3                 0.058382  0.049577  0.041370  -0.022006   \nEDUCATION_4                -0.032509 -0.029120 -0.025037   0.002970   \nEDUCATION_5                -0.012813 -0.010543 -0.019441   0.040060   \nEDUCATION_6                -0.006745 -0.008871 -0.012773   0.017340   \nMARRIAGE_0                 -0.005438 -0.005292 -0.004979  -0.017775   \nMARRIAGE_1                 -0.030167 -0.034081 -0.031772   0.025264   \nMARRIAGE_2                  0.026955  0.032107  0.028763  -0.021347   \nMARRIAGE_3                  0.017481  0.011396  0.016297  -0.011401   \ndefault payment next month  0.216614  0.204149  0.186866  -0.019644   \n\n                            BILL_AMT2  ...  EDUCATION_2  EDUCATION_3  \\\nLIMIT_BAL                    0.278314  ...    -0.147530    -0.139686   \nAGE                          0.054283  ...    -0.077626     0.231252   \nPAY_0                        0.189859  ...     0.099177     0.058902   \nPAY_2                        0.235257  ...     0.122364     0.064590   \nPAY_3                        0.237295  ...     0.115644     0.062461   \nPAY_4                        0.225816  ...     0.110340     0.058382   \nPAY_5                        0.226913  ...     0.103218     0.049577   \nPAY_6                        0.226924  ...     0.098013     0.041370   \nBILL_AMT1                    0.951484  ...     0.030323    -0.022006   \nBILL_AMT2                    1.000000  ...     0.028716    -0.022761   \nBILL_AMT3                    0.928326  ...     0.022288    -0.022807   \nBILL_AMT4                    0.892482  ...     0.021648    -0.031276   \nBILL_AMT5                    0.859778  ...     0.019690    -0.031708   \nBILL_AMT6                    0.831594  ...     0.024555    -0.030981   \nPAY_AMT1                     0.280365  ...    -0.032998    -0.021310   \nPAY_AMT2                     0.100851  ...    -0.033132    -0.016674   \nPAY_AMT3                     0.150718  ...    -0.035608    -0.031726   \nPAY_AMT4                     0.147398  ...    -0.026965    -0.023554   \nPAY_AMT5                     0.157957  ...    -0.021270    -0.034768   \nPAY_AMT6                     0.174256  ...    -0.026310    -0.034613   \nSEX_1                        0.031183  ...    -0.025353     0.007650   \nSEX_2                       -0.031183  ...     0.025353    -0.007650   \nEDUCATION_0                 -0.011877  ...    -0.020253    -0.009567   \nEDUCATION_1                 -0.020334  ...    -0.692075    -0.326917   \nEDUCATION_2                  0.028716  ...     1.000000    -0.414989   \nEDUCATION_3                 -0.022761  ...    -0.414989     1.000000   \nEDUCATION_4                 -0.001686  ...    -0.060140    -0.028408   \nEDUCATION_5                  0.036229  ...    -0.090977    -0.042975   \nEDUCATION_6                  0.016862  ...    -0.038679    -0.018271   \nMARRIAGE_0                  -0.015044  ...    -0.030346     0.074668   \nMARRIAGE_1                   0.022429  ...     0.060923     0.112519   \nMARRIAGE_2                  -0.018339  ...    -0.059692    -0.127678   \nMARRIAGE_3                  -0.013383  ...     0.007084     0.043678   \ndefault payment next month  -0.014193  ...     0.036467     0.032403   \n\n                            EDUCATION_4  EDUCATION_5  EDUCATION_6  MARRIAGE_0  \\\nLIMIT_BAL                      0.026413     0.000509    -0.006122   -0.011299   \nAGE                           -0.011359     0.001206     0.037679    0.010731   \nPAY_0                         -0.027826    -0.009046    -0.005867   -0.005667   \nPAY_2                         -0.034226    -0.013767    -0.006203   -0.002481   \nPAY_3                         -0.032060    -0.016933    -0.007115   -0.001331   \nPAY_4                         -0.032509    -0.012813    -0.006745   -0.005438   \nPAY_5                         -0.029120    -0.010543    -0.008871   -0.005292   \nPAY_6                         -0.025037    -0.019441    -0.012773   -0.004979   \nBILL_AMT1                      0.002970     0.040060     0.017340   -0.017775   \nBILL_AMT2                     -0.001686     0.036229     0.016862   -0.015044   \nBILL_AMT3                     -0.001878     0.034614     0.014027   -0.016998   \nBILL_AMT4                     -0.003683     0.028686     0.007054   -0.016011   \nBILL_AMT5                     -0.006830     0.021165     0.002850   -0.015780   \nBILL_AMT6                     -0.007257     0.011755     0.000490   -0.015727   \nPAY_AMT1                      -0.000825     0.001800     0.010257    0.005465   \nPAY_AMT2                       0.001765     0.012603     0.000457   -0.005786   \nPAY_AMT3                       0.017365     0.013743     0.005670   -0.002889   \nPAY_AMT4                       0.001142     0.000627     0.000931   -0.005318   \nPAY_AMT5                       0.005007    -0.001056     0.018615   -0.007435   \nPAY_AMT6                      -0.003359     0.013959     0.022188   -0.007111   \nSEX_1                         -0.007189    -0.011308     0.007925   -0.011895   \nSEX_2                          0.007189     0.011308    -0.007925    0.011895   \nEDUCATION_0                   -0.001386    -0.002097    -0.000892   -0.000918   \nEDUCATION_1                   -0.047376    -0.071669    -0.030470   -0.024772   \nEDUCATION_2                   -0.060140    -0.090977    -0.038679   -0.030346   \nEDUCATION_3                   -0.028408    -0.042975    -0.018271    0.074668   \nEDUCATION_4                    1.000000    -0.006228    -0.002648   -0.002725   \nEDUCATION_5                   -0.006228     1.000000    -0.004005   -0.004122   \nEDUCATION_6                   -0.002648    -0.004005     1.000000   -0.001752   \nMARRIAGE_0                    -0.002725    -0.004122    -0.001752    1.000000   \nMARRIAGE_1                    -0.004192     0.015673     0.007766   -0.038824   \nMARRIAGE_2                     0.002663    -0.015283    -0.009955   -0.045287   \nMARRIAGE_3                     0.008470    -0.000049     0.011376   -0.004430   \ndefault payment next month    -0.025397    -0.036695    -0.006397   -0.013158   \n\n                            MARRIAGE_1  MARRIAGE_2  MARRIAGE_3  \\\nLIMIT_BAL                     0.103701   -0.090998   -0.055806   \nAGE                           0.449425   -0.466584    0.082771   \nPAY_0                        -0.016314    0.013173    0.017358   \nPAY_2                        -0.022525    0.020281    0.011657   \nPAY_3                        -0.030584    0.027195    0.016646   \nPAY_4                        -0.030167    0.026955    0.017481   \nPAY_5                        -0.034081    0.032107    0.011396   \nPAY_6                        -0.031772    0.028763    0.016297   \nBILL_AMT1                     0.025264   -0.021347   -0.011401   \nBILL_AMT2                     0.022429   -0.018339   -0.013383   \nBILL_AMT3                     0.025946   -0.021402   -0.014744   \nBILL_AMT4                     0.023149   -0.017708   -0.019513   \nBILL_AMT5                     0.025019   -0.019356   -0.020664   \nBILL_AMT6                     0.021169   -0.016064   -0.018024   \nPAY_AMT1                      0.006964   -0.009039    0.007854   \nPAY_AMT2                      0.011291   -0.012598    0.008802   \nPAY_AMT3                      0.005339   -0.006216    0.005477   \nPAY_AMT4                      0.014581   -0.014507    0.001965   \nPAY_AMT5                      0.002195   -0.001227   -0.001608   \nPAY_AMT6                      0.005974   -0.003166   -0.010602   \nSEX_1                        -0.030463    0.031004    0.001985   \nSEX_2                         0.030463   -0.031004   -0.001985   \nEDUCATION_0                  -0.007358    0.007888   -0.002254   \nEDUCATION_1                  -0.153711    0.164459   -0.043235   \nEDUCATION_2                   0.060923   -0.059692    0.007084   \nEDUCATION_3                   0.112519   -0.127678    0.043678   \nEDUCATION_4                  -0.004192    0.002663    0.008470   \nEDUCATION_5                   0.015673   -0.015283   -0.000049   \nEDUCATION_6                   0.007766   -0.009955    0.011376   \nMARRIAGE_0                   -0.038824   -0.045287   -0.004430   \nMARRIAGE_1                    1.000000   -0.975033   -0.095381   \nMARRIAGE_2                   -0.975033    1.000000   -0.111260   \nMARRIAGE_3                   -0.095381   -0.111260    1.000000   \ndefault payment next month    0.029775   -0.030619    0.009768   \n\n                            default payment next month  \nLIMIT_BAL                                    -0.153520  \nAGE                                           0.013890  \nPAY_0                                         0.324794  \nPAY_2                                         0.263551  \nPAY_3                                         0.235253  \nPAY_4                                         0.216614  \nPAY_5                                         0.204149  \nPAY_6                                         0.186866  \nBILL_AMT1                                    -0.019644  \nBILL_AMT2                                    -0.014193  \nBILL_AMT3                                    -0.014076  \nBILL_AMT4                                    -0.010156  \nBILL_AMT5                                    -0.006760  \nBILL_AMT6                                    -0.005372  \nPAY_AMT1                                     -0.072929  \nPAY_AMT2                                     -0.058579  \nPAY_AMT3                                     -0.056250  \nPAY_AMT4                                     -0.056827  \nPAY_AMT5                                     -0.055124  \nPAY_AMT6                                     -0.053183  \nSEX_1                                         0.039961  \nSEX_2                                        -0.039961  \nEDUCATION_0                                  -0.011516  \nEDUCATION_1                                  -0.051328  \nEDUCATION_2                                   0.036467  \nEDUCATION_3                                   0.032403  \nEDUCATION_4                                  -0.025397  \nEDUCATION_5                                  -0.036695  \nEDUCATION_6                                  -0.006397  \nMARRIAGE_0                                   -0.013158  \nMARRIAGE_1                                    0.029775  \nMARRIAGE_2                                   -0.030619  \nMARRIAGE_3                                    0.009768  \ndefault payment next month                    1.000000  \n\n[34 rows x 34 columns]",
      "text/html": "<div>\n<style scoped>\n    .dataframe tbody tr th:only-of-type {\n        vertical-align: middle;\n    }\n\n    .dataframe tbody tr th {\n        vertical-align: top;\n    }\n\n    .dataframe thead th {\n        text-align: right;\n    }\n</style>\n<table border=\"1\" class=\"dataframe\">\n  <thead>\n    <tr style=\"text-align: right;\">\n      <th></th>\n      <th>LIMIT_BAL</th>\n      <th>AGE</th>\n      <th>PAY_0</th>\n      <th>PAY_2</th>\n      <th>PAY_3</th>\n      <th>PAY_4</th>\n      <th>PAY_5</th>\n      <th>PAY_6</th>\n      <th>BILL_AMT1</th>\n      <th>BILL_AMT2</th>\n      <th>...</th>\n      <th>EDUCATION_2</th>\n      <th>EDUCATION_3</th>\n      <th>EDUCATION_4</th>\n      <th>EDUCATION_5</th>\n      <th>EDUCATION_6</th>\n      <th>MARRIAGE_0</th>\n      <th>MARRIAGE_1</th>\n      <th>MARRIAGE_2</th>\n      <th>MARRIAGE_3</th>\n      <th>default payment next month</th>\n    </tr>\n  </thead>\n  <tbody>\n    <tr>\n      <th>LIMIT_BAL</th>\n      <td>1.000000</td>\n      <td>0.144713</td>\n      <td>-0.271214</td>\n      <td>-0.296382</td>\n      <td>-0.286123</td>\n      <td>-0.267460</td>\n      <td>-0.249411</td>\n      <td>-0.235195</td>\n      <td>0.285430</td>\n      <td>0.278314</td>\n      <td>...</td>\n      <td>-0.147530</td>\n      <td>-0.139686</td>\n      <td>0.026413</td>\n      <td>0.000509</td>\n      <td>-0.006122</td>\n      <td>-0.011299</td>\n      <td>0.103701</td>\n      <td>-0.090998</td>\n      <td>-0.055806</td>\n      <td>-0.153520</td>\n    </tr>\n    <tr>\n      <th>AGE</th>\n      <td>0.144713</td>\n      <td>1.000000</td>\n      <td>-0.039447</td>\n      <td>-0.050148</td>\n      <td>-0.053048</td>\n      <td>-0.049722</td>\n      <td>-0.053826</td>\n      <td>-0.048773</td>\n      <td>0.056239</td>\n      <td>0.054283</td>\n      <td>...</td>\n      <td>-0.077626</td>\n      <td>0.231252</td>\n      <td>-0.011359</td>\n      <td>0.001206</td>\n      <td>0.037679</td>\n      <td>0.010731</td>\n      <td>0.449425</td>\n      <td>-0.466584</td>\n      <td>0.082771</td>\n      <td>0.013890</td>\n    </tr>\n    <tr>\n      <th>PAY_0</th>\n      <td>-0.271214</td>\n      <td>-0.039447</td>\n      <td>1.000000</td>\n      <td>0.672164</td>\n      <td>0.574245</td>\n      <td>0.538841</td>\n      <td>0.509426</td>\n      <td>0.474553</td>\n      <td>0.187068</td>\n      <td>0.189859</td>\n      <td>...</td>\n      <td>0.099177</td>\n      <td>0.058902</td>\n      <td>-0.027826</td>\n      <td>-0.009046</td>\n      <td>-0.005867</td>\n      <td>-0.005667</td>\n      <td>-0.016314</td>\n      <td>0.013173</td>\n      <td>0.017358</td>\n      <td>0.324794</td>\n    </tr>\n    <tr>\n      <th>PAY_2</th>\n      <td>-0.296382</td>\n      <td>-0.050148</td>\n      <td>0.672164</td>\n      <td>1.000000</td>\n      <td>0.766552</td>\n      <td>0.662067</td>\n      <td>0.622780</td>\n      <td>0.575501</td>\n      <td>0.234887</td>\n      <td>0.235257</td>\n      <td>...</td>\n      <td>0.122364</td>\n      <td>0.064590</td>\n      <td>-0.034226</td>\n      <td>-0.013767</td>\n      <td>-0.006203</td>\n      <td>-0.002481</td>\n      <td>-0.022525</td>\n      <td>0.020281</td>\n      <td>0.011657</td>\n      <td>0.263551</td>\n    </tr>\n    <tr>\n      <th>PAY_3</th>\n      <td>-0.286123</td>\n      <td>-0.053048</td>\n      <td>0.574245</td>\n      <td>0.766552</td>\n      <td>1.000000</td>\n      <td>0.777359</td>\n      <td>0.686775</td>\n      <td>0.632684</td>\n      <td>0.208473</td>\n      <td>0.237295</td>\n      <td>...</td>\n      <td>0.115644</td>\n      <td>0.062461</td>\n      <td>-0.032060</td>\n      <td>-0.016933</td>\n      <td>-0.007115</td>\n      <td>-0.001331</td>\n      <td>-0.030584</td>\n      <td>0.027195</td>\n      <td>0.016646</td>\n      <td>0.235253</td>\n    </tr>\n    <tr>\n      <th>PAY_4</th>\n      <td>-0.267460</td>\n      <td>-0.049722</td>\n      <td>0.538841</td>\n      <td>0.662067</td>\n      <td>0.777359</td>\n      <td>1.000000</td>\n      <td>0.819835</td>\n      <td>0.716449</td>\n      <td>0.202812</td>\n      <td>0.225816</td>\n      <td>...</td>\n      <td>0.110340</td>\n      <td>0.058382</td>\n      <td>-0.032509</td>\n      <td>-0.012813</td>\n      <td>-0.006745</td>\n      <td>-0.005438</td>\n      <td>-0.030167</td>\n      <td>0.026955</td>\n      <td>0.017481</td>\n      <td>0.216614</td>\n    </tr>\n    <tr>\n      <th>PAY_5</th>\n      <td>-0.249411</td>\n      <td>-0.053826</td>\n      <td>0.509426</td>\n      <td>0.622780</td>\n      <td>0.686775</td>\n      <td>0.819835</td>\n      <td>1.000000</td>\n      <td>0.816900</td>\n      <td>0.206684</td>\n      <td>0.226913</td>\n      <td>...</td>\n      <td>0.103218</td>\n      <td>0.049577</td>\n      <td>-0.029120</td>\n      <td>-0.010543</td>\n      <td>-0.008871</td>\n      <td>-0.005292</td>\n      <td>-0.034081</td>\n      <td>0.032107</td>\n      <td>0.011396</td>\n      <td>0.204149</td>\n    </tr>\n    <tr>\n      <th>PAY_6</th>\n      <td>-0.235195</td>\n      <td>-0.048773</td>\n      <td>0.474553</td>\n      <td>0.575501</td>\n      <td>0.632684</td>\n      <td>0.716449</td>\n      <td>0.816900</td>\n      <td>1.000000</td>\n      <td>0.207373</td>\n      <td>0.226924</td>\n      <td>...</td>\n      <td>0.098013</td>\n      <td>0.041370</td>\n      <td>-0.025037</td>\n      <td>-0.019441</td>\n      <td>-0.012773</td>\n      <td>-0.004979</td>\n      <td>-0.031772</td>\n      <td>0.028763</td>\n      <td>0.016297</td>\n      <td>0.186866</td>\n    </tr>\n    <tr>\n      <th>BILL_AMT1</th>\n      <td>0.285430</td>\n      <td>0.056239</td>\n      <td>0.187068</td>\n      <td>0.234887</td>\n      <td>0.208473</td>\n      <td>0.202812</td>\n      <td>0.206684</td>\n      <td>0.207373</td>\n      <td>1.000000</td>\n      <td>0.951484</td>\n      <td>...</td>\n      <td>0.030323</td>\n      <td>-0.022006</td>\n      <td>0.002970</td>\n      <td>0.040060</td>\n      <td>0.017340</td>\n      <td>-0.017775</td>\n      <td>0.025264</td>\n      <td>-0.021347</td>\n      <td>-0.011401</td>\n      <td>-0.019644</td>\n    </tr>\n    <tr>\n      <th>BILL_AMT2</th>\n      <td>0.278314</td>\n      <td>0.054283</td>\n      <td>0.189859</td>\n      <td>0.235257</td>\n      <td>0.237295</td>\n      <td>0.225816</td>\n      <td>0.226913</td>\n      <td>0.226924</td>\n      <td>0.951484</td>\n      <td>1.000000</td>\n      <td>...</td>\n      <td>0.028716</td>\n      <td>-0.022761</td>\n      <td>-0.001686</td>\n      <td>0.036229</td>\n      <td>0.016862</td>\n      <td>-0.015044</td>\n      <td>0.022429</td>\n      <td>-0.018339</td>\n      <td>-0.013383</td>\n      <td>-0.014193</td>\n    </tr>\n    <tr>\n      <th>BILL_AMT3</th>\n      <td>0.283236</td>\n      <td>0.053710</td>\n      <td>0.179785</td>\n      <td>0.224146</td>\n      <td>0.227494</td>\n      <td>0.244983</td>\n      <td>0.243335</td>\n      <td>0.241181</td>\n      <td>0.892279</td>\n      <td>0.928326</td>\n      <td>...</td>\n      <td>0.022288</td>\n      <td>-0.022807</td>\n      <td>-0.001878</td>\n      <td>0.034614</td>\n      <td>0.014027</td>\n      <td>-0.016998</td>\n      <td>0.025946</td>\n      <td>-0.021402</td>\n      <td>-0.014744</td>\n      <td>-0.014076</td>\n    </tr>\n    <tr>\n      <th>BILL_AMT4</th>\n      <td>0.293988</td>\n      <td>0.051353</td>\n      <td>0.179125</td>\n      <td>0.222237</td>\n      <td>0.227202</td>\n      <td>0.245917</td>\n      <td>0.271915</td>\n      <td>0.266356</td>\n      <td>0.860272</td>\n      <td>0.892482</td>\n      <td>...</td>\n      <td>0.021648</td>\n      <td>-0.031276</td>\n      <td>-0.003683</td>\n      <td>0.028686</td>\n      <td>0.007054</td>\n      <td>-0.016011</td>\n      <td>0.023149</td>\n      <td>-0.017708</td>\n      <td>-0.019513</td>\n      <td>-0.010156</td>\n    </tr>\n    <tr>\n      <th>BILL_AMT5</th>\n      <td>0.295562</td>\n      <td>0.049345</td>\n      <td>0.180635</td>\n      <td>0.221348</td>\n      <td>0.225145</td>\n      <td>0.242902</td>\n      <td>0.269783</td>\n      <td>0.290894</td>\n      <td>0.829779</td>\n      <td>0.859778</td>\n      <td>...</td>\n      <td>0.019690</td>\n      <td>-0.031708</td>\n      <td>-0.006830</td>\n      <td>0.021165</td>\n      <td>0.002850</td>\n      <td>-0.015780</td>\n      <td>0.025019</td>\n      <td>-0.019356</td>\n      <td>-0.020664</td>\n      <td>-0.006760</td>\n    </tr>\n    <tr>\n      <th>BILL_AMT6</th>\n      <td>0.290389</td>\n      <td>0.047613</td>\n      <td>0.176980</td>\n      <td>0.219403</td>\n      <td>0.222327</td>\n      <td>0.239154</td>\n      <td>0.262509</td>\n      <td>0.285091</td>\n      <td>0.802650</td>\n      <td>0.831594</td>\n      <td>...</td>\n      <td>0.024555</td>\n      <td>-0.030981</td>\n      <td>-0.007257</td>\n      <td>0.011755</td>\n      <td>0.000490</td>\n      <td>-0.015727</td>\n      <td>0.021169</td>\n      <td>-0.016064</td>\n      <td>-0.018024</td>\n      <td>-0.005372</td>\n    </tr>\n    <tr>\n      <th>PAY_AMT1</th>\n      <td>0.195236</td>\n      <td>0.026147</td>\n      <td>-0.079269</td>\n      <td>-0.080701</td>\n      <td>0.001295</td>\n      <td>-0.009362</td>\n      <td>-0.006089</td>\n      <td>-0.001496</td>\n      <td>0.140277</td>\n      <td>0.280365</td>\n      <td>...</td>\n      <td>-0.032998</td>\n      <td>-0.021310</td>\n      <td>-0.000825</td>\n      <td>0.001800</td>\n      <td>0.010257</td>\n      <td>0.005465</td>\n      <td>0.006964</td>\n      <td>-0.009039</td>\n      <td>0.007854</td>\n      <td>-0.072929</td>\n    </tr>\n    <tr>\n      <th>PAY_AMT2</th>\n      <td>0.178408</td>\n      <td>0.021785</td>\n      <td>-0.070101</td>\n      <td>-0.058990</td>\n      <td>-0.066793</td>\n      <td>-0.001944</td>\n      <td>-0.003191</td>\n      <td>-0.005223</td>\n      <td>0.099355</td>\n      <td>0.100851</td>\n      <td>...</td>\n      <td>-0.033132</td>\n      <td>-0.016674</td>\n      <td>0.001765</td>\n      <td>0.012603</td>\n      <td>0.000457</td>\n      <td>-0.005786</td>\n      <td>0.011291</td>\n      <td>-0.012598</td>\n      <td>0.008802</td>\n      <td>-0.058579</td>\n    </tr>\n    <tr>\n      <th>PAY_AMT3</th>\n      <td>0.210167</td>\n      <td>0.029247</td>\n      <td>-0.070561</td>\n      <td>-0.055901</td>\n      <td>-0.053311</td>\n      <td>-0.069235</td>\n      <td>0.009062</td>\n      <td>0.005834</td>\n      <td>0.156887</td>\n      <td>0.150718</td>\n      <td>...</td>\n      <td>-0.035608</td>\n      <td>-0.031726</td>\n      <td>0.017365</td>\n      <td>0.013743</td>\n      <td>0.005670</td>\n      <td>-0.002889</td>\n      <td>0.005339</td>\n      <td>-0.006216</td>\n      <td>0.005477</td>\n      <td>-0.056250</td>\n    </tr>\n    <tr>\n      <th>PAY_AMT4</th>\n      <td>0.203242</td>\n      <td>0.021379</td>\n      <td>-0.064005</td>\n      <td>-0.046858</td>\n      <td>-0.046067</td>\n      <td>-0.043461</td>\n      <td>-0.058299</td>\n      <td>0.019018</td>\n      <td>0.158303</td>\n      <td>0.147398</td>\n      <td>...</td>\n      <td>-0.026965</td>\n      <td>-0.023554</td>\n      <td>0.001142</td>\n      <td>0.000627</td>\n      <td>0.000931</td>\n      <td>-0.005318</td>\n      <td>0.014581</td>\n      <td>-0.014507</td>\n      <td>0.001965</td>\n      <td>-0.056827</td>\n    </tr>\n    <tr>\n      <th>PAY_AMT5</th>\n      <td>0.217202</td>\n      <td>0.022850</td>\n      <td>-0.058190</td>\n      <td>-0.037093</td>\n      <td>-0.035863</td>\n      <td>-0.033590</td>\n      <td>-0.033337</td>\n      <td>-0.046434</td>\n      <td>0.167026</td>\n      <td>0.157957</td>\n      <td>...</td>\n      <td>-0.021270</td>\n      <td>-0.034768</td>\n      <td>0.005007</td>\n      <td>-0.001056</td>\n      <td>0.018615</td>\n      <td>-0.007435</td>\n      <td>0.002195</td>\n      <td>-0.001227</td>\n      <td>-0.001608</td>\n      <td>-0.055124</td>\n    </tr>\n    <tr>\n      <th>PAY_AMT6</th>\n      <td>0.219595</td>\n      <td>0.019478</td>\n      <td>-0.058673</td>\n      <td>-0.036500</td>\n      <td>-0.035861</td>\n      <td>-0.026565</td>\n      <td>-0.023027</td>\n      <td>-0.025299</td>\n      <td>0.179341</td>\n      <td>0.174256</td>\n      <td>...</td>\n      <td>-0.026310</td>\n      <td>-0.034613</td>\n      <td>-0.003359</td>\n      <td>0.013959</td>\n      <td>0.022188</td>\n      <td>-0.007111</td>\n      <td>0.005974</td>\n      <td>-0.003166</td>\n      <td>-0.010602</td>\n      <td>-0.053183</td>\n    </tr>\n    <tr>\n      <th>SEX_1</th>\n      <td>-0.024755</td>\n      <td>0.090874</td>\n      <td>0.057643</td>\n      <td>0.070771</td>\n      <td>0.066096</td>\n      <td>0.060173</td>\n      <td>0.055064</td>\n      <td>0.044008</td>\n      <td>0.033642</td>\n      <td>0.031183</td>\n      <td>...</td>\n      <td>-0.025353</td>\n      <td>0.007650</td>\n      <td>-0.007189</td>\n      <td>-0.011308</td>\n      <td>0.007925</td>\n      <td>-0.011895</td>\n      <td>-0.030463</td>\n      <td>0.031004</td>\n      <td>0.001985</td>\n      <td>0.039961</td>\n    </tr>\n    <tr>\n      <th>SEX_2</th>\n      <td>0.024755</td>\n      <td>-0.090874</td>\n      <td>-0.057643</td>\n      <td>-0.070771</td>\n      <td>-0.066096</td>\n      <td>-0.060173</td>\n      <td>-0.055064</td>\n      <td>-0.044008</td>\n      <td>-0.033642</td>\n      <td>-0.031183</td>\n      <td>...</td>\n      <td>0.025353</td>\n      <td>-0.007650</td>\n      <td>0.007189</td>\n      <td>0.011308</td>\n      <td>-0.007925</td>\n      <td>0.011895</td>\n      <td>0.030463</td>\n      <td>-0.031004</td>\n      <td>-0.001985</td>\n      <td>-0.039961</td>\n    </tr>\n    <tr>\n      <th>EDUCATION_0</th>\n      <td>0.008270</td>\n      <td>0.007904</td>\n      <td>-0.009293</td>\n      <td>-0.015635</td>\n      <td>-0.013764</td>\n      <td>-0.011763</td>\n      <td>-0.015354</td>\n      <td>-0.020031</td>\n      <td>-0.011574</td>\n      <td>-0.011877</td>\n      <td>...</td>\n      <td>-0.020253</td>\n      <td>-0.009567</td>\n      <td>-0.001386</td>\n      <td>-0.002097</td>\n      <td>-0.000892</td>\n      <td>-0.000918</td>\n      <td>-0.007358</td>\n      <td>0.007888</td>\n      <td>-0.002254</td>\n      <td>-0.011516</td>\n    </tr>\n    <tr>\n      <th>EDUCATION_1</th>\n      <td>0.258777</td>\n      <td>-0.100423</td>\n      <td>-0.142720</td>\n      <td>-0.169215</td>\n      <td>-0.160209</td>\n      <td>-0.152402</td>\n      <td>-0.138709</td>\n      <td>-0.125123</td>\n      <td>-0.024045</td>\n      <td>-0.020334</td>\n      <td>...</td>\n      <td>-0.692075</td>\n      <td>-0.326917</td>\n      <td>-0.047376</td>\n      <td>-0.071669</td>\n      <td>-0.030470</td>\n      <td>-0.024772</td>\n      <td>-0.153711</td>\n      <td>0.164459</td>\n      <td>-0.043235</td>\n      <td>-0.051328</td>\n    </tr>\n    <tr>\n      <th>EDUCATION_2</th>\n      <td>-0.147530</td>\n      <td>-0.077626</td>\n      <td>0.099177</td>\n      <td>0.122364</td>\n      <td>0.115644</td>\n      <td>0.110340</td>\n      <td>0.103218</td>\n      <td>0.098013</td>\n      <td>0.030323</td>\n      <td>0.028716</td>\n      <td>...</td>\n      <td>1.000000</td>\n      <td>-0.414989</td>\n      <td>-0.060140</td>\n      <td>-0.090977</td>\n      <td>-0.038679</td>\n      <td>-0.030346</td>\n      <td>0.060923</td>\n      <td>-0.059692</td>\n      <td>0.007084</td>\n      <td>0.036467</td>\n    </tr>\n    <tr>\n      <th>EDUCATION_3</th>\n      <td>-0.139686</td>\n      <td>0.231252</td>\n      <td>0.058902</td>\n      <td>0.064590</td>\n      <td>0.062461</td>\n      <td>0.058382</td>\n      <td>0.049577</td>\n      <td>0.041370</td>\n      <td>-0.022006</td>\n      <td>-0.022761</td>\n      <td>...</td>\n      <td>-0.414989</td>\n      <td>1.000000</td>\n      <td>-0.028408</td>\n      <td>-0.042975</td>\n      <td>-0.018271</td>\n      <td>0.074668</td>\n      <td>0.112519</td>\n      <td>-0.127678</td>\n      <td>0.043678</td>\n      <td>0.032403</td>\n    </tr>\n    <tr>\n      <th>EDUCATION_4</th>\n      <td>0.026413</td>\n      <td>-0.011359</td>\n      <td>-0.027826</td>\n      <td>-0.034226</td>\n      <td>-0.032060</td>\n      <td>-0.032509</td>\n      <td>-0.029120</td>\n      <td>-0.025037</td>\n      <td>0.002970</td>\n      <td>-0.001686</td>\n      <td>...</td>\n      <td>-0.060140</td>\n      <td>-0.028408</td>\n      <td>1.000000</td>\n      <td>-0.006228</td>\n      <td>-0.002648</td>\n      <td>-0.002725</td>\n      <td>-0.004192</td>\n      <td>0.002663</td>\n      <td>0.008470</td>\n      <td>-0.025397</td>\n    </tr>\n    <tr>\n      <th>EDUCATION_5</th>\n      <td>0.000509</td>\n      <td>0.001206</td>\n      <td>-0.009046</td>\n      <td>-0.013767</td>\n      <td>-0.016933</td>\n      <td>-0.012813</td>\n      <td>-0.010543</td>\n      <td>-0.019441</td>\n      <td>0.040060</td>\n      <td>0.036229</td>\n      <td>...</td>\n      <td>-0.090977</td>\n      <td>-0.042975</td>\n      <td>-0.006228</td>\n      <td>1.000000</td>\n      <td>-0.004005</td>\n      <td>-0.004122</td>\n      <td>0.015673</td>\n      <td>-0.015283</td>\n      <td>-0.000049</td>\n      <td>-0.036695</td>\n    </tr>\n    <tr>\n      <th>EDUCATION_6</th>\n      <td>-0.006122</td>\n      <td>0.037679</td>\n      <td>-0.005867</td>\n      <td>-0.006203</td>\n      <td>-0.007115</td>\n      <td>-0.006745</td>\n      <td>-0.008871</td>\n      <td>-0.012773</td>\n      <td>0.017340</td>\n      <td>0.016862</td>\n      <td>...</td>\n      <td>-0.038679</td>\n      <td>-0.018271</td>\n      <td>-0.002648</td>\n      <td>-0.004005</td>\n      <td>1.000000</td>\n      <td>-0.001752</td>\n      <td>0.007766</td>\n      <td>-0.009955</td>\n      <td>0.011376</td>\n      <td>-0.006397</td>\n    </tr>\n    <tr>\n      <th>MARRIAGE_0</th>\n      <td>-0.011299</td>\n      <td>0.010731</td>\n      <td>-0.005667</td>\n      <td>-0.002481</td>\n      <td>-0.001331</td>\n      <td>-0.005438</td>\n      <td>-0.005292</td>\n      <td>-0.004979</td>\n      <td>-0.017775</td>\n      <td>-0.015044</td>\n      <td>...</td>\n      <td>-0.030346</td>\n      <td>0.074668</td>\n      <td>-0.002725</td>\n      <td>-0.004122</td>\n      <td>-0.001752</td>\n      <td>1.000000</td>\n      <td>-0.038824</td>\n      <td>-0.045287</td>\n      <td>-0.004430</td>\n      <td>-0.013158</td>\n    </tr>\n    <tr>\n      <th>MARRIAGE_1</th>\n      <td>0.103701</td>\n      <td>0.449425</td>\n      <td>-0.016314</td>\n      <td>-0.022525</td>\n      <td>-0.030584</td>\n      <td>-0.030167</td>\n      <td>-0.034081</td>\n      <td>-0.031772</td>\n      <td>0.025264</td>\n      <td>0.022429</td>\n      <td>...</td>\n      <td>0.060923</td>\n      <td>0.112519</td>\n      <td>-0.004192</td>\n      <td>0.015673</td>\n      <td>0.007766</td>\n      <td>-0.038824</td>\n      <td>1.000000</td>\n      <td>-0.975033</td>\n      <td>-0.095381</td>\n      <td>0.029775</td>\n    </tr>\n    <tr>\n      <th>MARRIAGE_2</th>\n      <td>-0.090998</td>\n      <td>-0.466584</td>\n      <td>0.013173</td>\n      <td>0.020281</td>\n      <td>0.027195</td>\n      <td>0.026955</td>\n      <td>0.032107</td>\n      <td>0.028763</td>\n      <td>-0.021347</td>\n      <td>-0.018339</td>\n      <td>...</td>\n      <td>-0.059692</td>\n      <td>-0.127678</td>\n      <td>0.002663</td>\n      <td>-0.015283</td>\n      <td>-0.009955</td>\n      <td>-0.045287</td>\n      <td>-0.975033</td>\n      <td>1.000000</td>\n      <td>-0.111260</td>\n      <td>-0.030619</td>\n    </tr>\n    <tr>\n      <th>MARRIAGE_3</th>\n      <td>-0.055806</td>\n      <td>0.082771</td>\n      <td>0.017358</td>\n      <td>0.011657</td>\n      <td>0.016646</td>\n      <td>0.017481</td>\n      <td>0.011396</td>\n      <td>0.016297</td>\n      <td>-0.011401</td>\n      <td>-0.013383</td>\n      <td>...</td>\n      <td>0.007084</td>\n      <td>0.043678</td>\n      <td>0.008470</td>\n      <td>-0.000049</td>\n      <td>0.011376</td>\n      <td>-0.004430</td>\n      <td>-0.095381</td>\n      <td>-0.111260</td>\n      <td>1.000000</td>\n      <td>0.009768</td>\n    </tr>\n    <tr>\n      <th>default payment next month</th>\n      <td>-0.153520</td>\n      <td>0.013890</td>\n      <td>0.324794</td>\n      <td>0.263551</td>\n      <td>0.235253</td>\n      <td>0.216614</td>\n      <td>0.204149</td>\n      <td>0.186866</td>\n      <td>-0.019644</td>\n      <td>-0.014193</td>\n      <td>...</td>\n      <td>0.036467</td>\n      <td>0.032403</td>\n      <td>-0.025397</td>\n      <td>-0.036695</td>\n      <td>-0.006397</td>\n      <td>-0.013158</td>\n      <td>0.029775</td>\n      <td>-0.030619</td>\n      <td>0.009768</td>\n      <td>1.000000</td>\n    </tr>\n  </tbody>\n</table>\n<p>34 rows × 34 columns</p>\n</div>"
     },
     "metadata": {}
    }
   ],
   "execution_count": null
  },
  {
   "cell_type": "code",
   "metadata": {
    "tags": [],
    "cell_id": "00005-f2d9844f-c65c-44ae-bc3b-ac60ca1fdbaa",
    "deepnote_to_be_reexecuted": false,
    "source_hash": "e2818267",
    "execution_millis": 6119,
    "execution_start": 1621086921747,
    "deepnote_cell_type": "code"
   },
   "source": "corr = df.corr().values\n\nmask = np.zeros_like(corr, dtype=np.bool)\nmask[np.triu_indices_from(mask)] = True\n\n# Set up the matplotlib figure\nf, ax = plt.subplots(figsize=(30, 30))\n\n# Generate a custom diverging colormap\ncmap = sbn.diverging_palette(220, 10, as_cmap=True)\n\n# Draw the heatmap with the mask and correct aspect ratio\nsbn.heatmap(df.corr(), mask=mask, cmap=cmap, vmax=1.0,annot=True, center=0,\n            square=True, linewidths=.5, cbar_kws={\"shrink\": .5})",
   "outputs": [
    {
     "output_type": "execute_result",
     "execution_count": 25,
     "data": {
      "text/plain": "<AxesSubplot:>"
     },
     "metadata": {}
    },
    {
     "data": {
      "text/plain": "<Figure size 3000x3000 with 2 Axes>",
      "image/png": "[encoded data removed]"
     },
     "metadata": {
      "image/png": {
       "width": 2315,
       "height": 2089
      }
     },
     "output_type": "display_data"
    }
   ],
   "execution_count": null
  },
  {
   "cell_type": "code",
   "metadata": {
    "tags": [],
    "cell_id": "00006-8c7eacff-236e-4dd4-b48c-2598d2f17fc0",
    "deepnote_to_be_reexecuted": false,
    "source_hash": "25547d91",
    "execution_start": 1621086931533,
    "execution_millis": 5,
    "deepnote_cell_type": "code"
   },
   "source": "data_mat = df.values\nX = data_mat[:, 0:33] \nY = data_mat[:, 33] ",
   "outputs": [],
   "execution_count": null
  },
  {
   "cell_type": "code",
   "metadata": {
    "tags": [],
    "cell_id": "00007-e561a946-3842-4d25-b36b-093229c01ae6",
    "deepnote_to_be_reexecuted": false,
    "source_hash": "88210643",
    "execution_start": 1621086934596,
    "execution_millis": 63,
    "deepnote_cell_type": "code"
   },
   "source": "np.set_printoptions(precision=2, suppress=True)\nsigmaX = np.std(X,axis=0)\n# X = X/sigmaX # If Correlation PCA is required\nmuX = np.mean(X, axis=0)\nn = X.shape[0]-1\nprint(\"The size of data set is:\", n)\nS = np.dot((X - muX).T, (X - muX)) / (n-1)\nprint('Covariance matrix: \\n:')\nprint(S)",
   "outputs": [
    {
     "name": "stdout",
     "text": "The size of data set is: 29999\nCovariance matrix: \n:\n[[ 1.68e+10  1.73e+05 -3.95e+04 ...  6.70e+03 -5.89e+03 -7.47e+02]\n [ 1.73e+05  8.50e+01 -4.09e-01 ...  2.06e+00 -2.15e+00  7.87e-02]\n [-3.95e+04 -4.09e-01  1.26e+00 ... -9.13e-03  7.39e-03  2.01e-03]\n ...\n [ 6.70e+03  2.06e+00 -9.13e-03 ...  2.48e-01 -2.42e-01 -4.90e-03]\n [-5.89e+03 -2.15e+00  7.39e-03 ... -2.42e-01  2.49e-01 -5.73e-03]\n [-7.47e+02  7.87e-02  2.01e-03 ... -4.90e-03 -5.73e-03  1.07e-02]]\n",
     "output_type": "stream"
    }
   ],
   "execution_count": null
  },
  {
   "cell_type": "code",
   "metadata": {
    "tags": [],
    "cell_id": "00008-c9a64d11-fa0c-4313-a30b-e2e1c6e47ff9",
    "deepnote_to_be_reexecuted": false,
    "source_hash": "af1d7919",
    "execution_millis": 64,
    "execution_start": 1621086938002,
    "deepnote_cell_type": "code"
   },
   "source": "# Instantiate PCA\npca = PCA(n_components=33)\nmuX = np.mean(X, axis=0)\nsigmaX = np.std(X,axis=0)\nXn = (X-muX)/sigmaX # One can use the StandardScalar available with ScikitLearn\npca.fit(Xn) \n\n#Xpca = pca.transform(Xn)\n\n#print(\"PCA components: %s\") # pca.explained_variance_\n#print(pca.components_)\nprint (\"Explained Variance Ratio\")\nprint (pca.explained_variance_ratio_)",
   "outputs": [
    {
     "name": "stdout",
     "text": "Explained Variance Ratio\n[0.2  0.13 0.07 0.06 0.05 0.05 0.04 0.03 0.03 0.03 0.03 0.03 0.03 0.03\n 0.03 0.03 0.02 0.02 0.02 0.02 0.02 0.01 0.01 0.01 0.01 0.   0.   0.\n 0.   0.   0.   0.   0.  ]\n",
     "output_type": "stream"
    }
   ],
   "execution_count": null
  },
  {
   "cell_type": "code",
   "metadata": {
    "tags": [],
    "cell_id": "00009-3852b15f-8b0b-40b7-8643-021b55280495",
    "deepnote_to_be_reexecuted": false,
    "source_hash": "2d2240ba",
    "execution_start": 1621086944857,
    "execution_millis": 201,
    "deepnote_cell_type": "code"
   },
   "source": "# Scree-plot: #comp vs eigenvalue\nplt.bar(range(1,len(pca.explained_variance_ratio_ )+1),pca.explained_variance_ratio_ )\nplt.xlabel('# of components')\nplt.ylabel('explained variance ratio')\nplt.plot(range(1,len(pca.explained_variance_ratio_ )+1),\n         np.cumsum(pca.explained_variance_ratio_),\n         c='red',\n         label=\"Cumulative Explained Variance\")\nplt.legend(loc='upper left')\nplt.show()",
   "outputs": [
    {
     "data": {
      "text/plain": "<Figure size 640x480 with 1 Axes>",
      "image/png": "[encoded data removed]"
     },
     "metadata": {
      "image/png": {
       "width": 575,
       "height": 432
      }
     },
     "output_type": "display_data"
    }
   ],
   "execution_count": null
  },
  {
   "cell_type": "code",
   "metadata": {
    "tags": [],
    "cell_id": "00010-3b221ccb-76af-474f-803b-f64ce996c1c3",
    "deepnote_to_be_reexecuted": false,
    "source_hash": "81b87b4f",
    "execution_start": 1621086948120,
    "execution_millis": 7,
    "deepnote_cell_type": "code"
   },
   "source": "total_var = pca.explained_variance_ratio_.sum() * 100\ntotal_var",
   "outputs": [
    {
     "output_type": "execute_result",
     "execution_count": 30,
     "data": {
      "text/plain": "100.0"
     },
     "metadata": {}
    }
   ],
   "execution_count": null
  },
  {
   "cell_type": "code",
   "metadata": {
    "tags": [],
    "cell_id": "00011-545ae8b2-5532-47a2-a0f1-a4752e9c3dbb",
    "deepnote_to_be_reexecuted": false,
    "source_hash": "b510f367",
    "execution_start": 1621086952620,
    "execution_millis": 18,
    "deepnote_cell_type": "code"
   },
   "source": "pca_x = pca.transform(Xn)\npca_x",
   "outputs": [
    {
     "output_type": "execute_result",
     "execution_count": 32,
     "data": {
      "text/plain": "array([[-1.84, -1.01, -1.09, ..., -0.  , -0.  ,  0.  ],\n       [-0.73, -2.27,  1.26, ..., -0.  , -0.  , -0.  ],\n       [-0.82, -1.26,  0.91, ..., -0.  , -0.  ,  0.  ],\n       ...,\n       [ 0.46, -3.55,  0.77, ..., -0.  ,  0.  , -0.  ],\n       [ 0.66,  0.7 , -1.88, ...,  0.  ,  0.  , -0.  ],\n       [-0.03, -0.98, -1.94, ..., -0.  ,  0.  , -0.  ]])"
     },
     "metadata": {}
    }
   ],
   "execution_count": null
  },
  {
   "cell_type": "code",
   "metadata": {
    "tags": [],
    "cell_id": "00012-f5c15869-3396-462b-8552-167e217a14c0",
    "deepnote_to_be_reexecuted": false,
    "source_hash": "5a2ccfd0",
    "execution_start": 1621086963803,
    "execution_millis": 12,
    "deepnote_cell_type": "code"
   },
   "source": "from sklearn.model_selection import train_test_split\nfrom sklearn.cluster import KMeans\nfrom sklearn.linear_model import LogisticRegression\nfrom sklearn.metrics import confusion_matrix\nimport sklearn.metrics as metrics\nfrom sklearn.metrics import f1_score, classification_report, precision_score, recall_score, accuracy_score\nfrom sklearn.neighbors import KNeighborsClassifier\nimport seaborn as sns\n\n# set train and target\ny = df[\"default payment next month\"]\nX = pca_x\nX_train, X_test, y_train, y_test = train_test_split(X, y, test_size=0.2, random_state=42)",
   "outputs": [],
   "execution_count": null
  },
  {
   "cell_type": "code",
   "metadata": {
    "tags": [],
    "cell_id": "00013-2570a3d6-bd31-48c3-b73c-e4dee133853b",
    "deepnote_to_be_reexecuted": false,
    "source_hash": "ed5ee2c7",
    "execution_start": 1621086978225,
    "execution_millis": 1058,
    "deepnote_cell_type": "code"
   },
   "source": "#K Means\nkmeans = KMeans(n_clusters = 2, random_state = 20)\nkmeans.fit(X_train)\ny_pred = kmeans.predict(X_test)\n\nf1 = f1_score(y_test,y_pred)\nprec = precision_score(y_test,y_pred)\nrecall = recall_score(y_test,y_pred)\naccuracy_score = accuracy_score(y_test, y_pred)\n\nprint(f1)\nprint(nprec)\nprint(nrecall)\nprint(accuracy_score)",
   "outputs": [
    {
     "output_type": "error",
     "ename": "TypeError",
     "evalue": "'numpy.float64' object is not callable",
     "traceback": [
      "\u001b[0;31m---------------------------------------------------------------------------\u001b[0m",
      "\u001b[0;31mTypeError\u001b[0m                                 Traceback (most recent call last)",
      "\u001b[0;32m<ipython-input-35-f6e3b9e191b6>\u001b[0m in \u001b[0;36m<module>\u001b[0;34m\u001b[0m\n\u001b[1;32m      7\u001b[0m \u001b[0mprec\u001b[0m \u001b[0;34m=\u001b[0m \u001b[0mprecision_score\u001b[0m\u001b[0;34m(\u001b[0m\u001b[0my_test\u001b[0m\u001b[0;34m,\u001b[0m\u001b[0my_pred\u001b[0m\u001b[0;34m)\u001b[0m\u001b[0;34m\u001b[0m\u001b[0;34m\u001b[0m\u001b[0m\n\u001b[1;32m      8\u001b[0m \u001b[0mrecall\u001b[0m \u001b[0;34m=\u001b[0m \u001b[0mrecall_score\u001b[0m\u001b[0;34m(\u001b[0m\u001b[0my_test\u001b[0m\u001b[0;34m,\u001b[0m\u001b[0my_pred\u001b[0m\u001b[0;34m)\u001b[0m\u001b[0;34m\u001b[0m\u001b[0;34m\u001b[0m\u001b[0m\n\u001b[0;32m----> 9\u001b[0;31m \u001b[0maccuracy_score\u001b[0m \u001b[0;34m=\u001b[0m \u001b[0maccuracy_score\u001b[0m\u001b[0;34m(\u001b[0m\u001b[0my_test\u001b[0m\u001b[0;34m,\u001b[0m \u001b[0my_pred\u001b[0m\u001b[0;34m)\u001b[0m\u001b[0;34m\u001b[0m\u001b[0;34m\u001b[0m\u001b[0m\n\u001b[0m\u001b[1;32m     10\u001b[0m \u001b[0;34m\u001b[0m\u001b[0m\n\u001b[1;32m     11\u001b[0m \u001b[0mprint\u001b[0m\u001b[0;34m(\u001b[0m\u001b[0mf1\u001b[0m\u001b[0;34m)\u001b[0m\u001b[0;34m\u001b[0m\u001b[0;34m\u001b[0m\u001b[0m\n",
      "\u001b[0;31mTypeError\u001b[0m: 'numpy.float64' object is not callable"
     ]
    }
   ],
   "execution_count": null
  },
  {
   "cell_type": "code",
   "metadata": {
    "tags": [],
    "cell_id": "00014-373cfc16-1e6a-42db-8e3d-4d6aec8176da",
    "deepnote_to_be_reexecuted": false,
    "source_hash": "ecfc9a8d",
    "execution_start": 1621087044333,
    "execution_millis": 561,
    "deepnote_cell_type": "code"
   },
   "source": "#Logistic Regression\nmodel = LogisticRegression()\nmodel.fit(X_train, y_train)\npredictions = model.predict(X_test)\n\nprint(\"Classification Report for Logistic Regression with PCA: \\n\", classification_report(y_test,predictions))\nprint(\"Accuracy for Logistic Regression with PCA: \\n\",metrics.accuracy_score(y_test,predictions))\n\nconf_mat = confusion_matrix(y_test, predictions)\n\nprint(\"\\n Confusion Matrix for Logistic Regression with PCA: \\n\", conf_mat)\n\nconf_mat = confusion_matrix(y_test, predictions)\n\nsns.heatmap(conf_mat, annot=True, fmt=\"d\", cmap=\"Purples\",\nxticklabels = ['Non-Default', 'Default'],\nyticklabels = ['Non-Default', 'Default'])\n\nnf2 = f1_score(y_test,predictions)\nnprec2 = precision_score(y_test,predictions)\nnrecall2 = recall_score(y_test,predictions)\nprint(\"F1 Score for Logistic Regression with PCA: \\n\", nf2)\nprint(\"Precision Score for Logistic Regression with PCA: \\n\", nprec2)\nprint(\"Recall Score for Logistic Regression with PCA: \\n\", nrecall2)\nprint(\"Accuracy for Logistic Regression with PCA: \\n\",metrics.accuracy_score(y_test,predictions))\n\nplt.xlabel('Predicted')\nplt.ylabel('Actual')\nplt.title(\"Confusion Matrix of tuned Logistic Regression\")",
   "outputs": [
    {
     "name": "stdout",
     "text": "Classification Report for Logistic Regression with PCA: \n               precision    recall  f1-score   support\n\n           0       0.82      0.97      0.89      4687\n           1       0.70      0.24      0.36      1313\n\n    accuracy                           0.81      6000\n   macro avg       0.76      0.61      0.62      6000\nweighted avg       0.79      0.81      0.77      6000\n\nAccuracy for Logistic Regression with PCA: \n 0.8113333333333334\n\n Confusion Matrix for Logistic Regression with PCA: \n [[4551  136]\n [ 996  317]]\nF1 Score for Logistic Regression with PCA: \n 0.35900339750849375\nPrecision Score for Logistic Regression with PCA: \n 0.6997792494481236\nRecall Score for Logistic Regression with PCA: \n 0.24143183549124142\nAccuracy for Logistic Regression with PCA: \n 0.8113333333333334\n",
     "output_type": "stream"
    },
    {
     "output_type": "execute_result",
     "execution_count": 39,
     "data": {
      "text/plain": "Text(0.5, 1.0, 'Confusion Matrix of tuned Logistic Regression')"
     },
     "metadata": {}
    },
    {
     "data": {
      "text/plain": "<Figure size 640x480 with 2 Axes>",
      "image/png": "[encoded data removed]"
     },
     "metadata": {
      "image/png": {
       "width": 548,
       "height": 455
      }
     },
     "output_type": "display_data"
    }
   ],
   "execution_count": null
  },
  {
   "cell_type": "code",
   "metadata": {
    "tags": [],
    "cell_id": "00015-e29d161b-b39d-4d87-9a0d-86bc84cee359",
    "deepnote_to_be_reexecuted": false,
    "source_hash": "2b5382ef",
    "execution_start": 1621087082333,
    "execution_millis": 4689,
    "deepnote_cell_type": "code"
   },
   "source": "#K Neighbors\nnew_knn = KNeighborsClassifier(metric= 'manhattan', n_neighbors = 5, weights= 'uniform')\nnew_knn.fit(X_train, y_train)\nnew_pred = new_knn.predict(X_test)\n\nnf1 = f1_score(y_test,new_pred)\nnprec = precision_score(y_test,new_pred)\nnrecall = recall_score(y_test,new_pred)\n\nprint(\"F1 Score for KNN with PCA: \\n\", nf1)\nprint(\"Precision Score for KNN with PCA: \\n\", nprec)\nprint(\"Recall Score for KNN with PCA: \\n\", nrecall)\nprint(\"Accuracy for KNN with PCA: \\n\",metrics.accuracy_score(y_test,new_pred))\n\nconf_mat = confusion_matrix(y_test, new_pred)\n\nsns.heatmap(conf_mat, annot=True, fmt=\"d\", cmap=\"Purples\",\nxticklabels = ['Non-Default', 'Default'],\nyticklabels = ['Non-Default', 'Default'])\n\nplt.xlabel('Predicted')\nplt.ylabel('Actual')\nplt.title(\"Confusion Matrix of tuned KNN\")\n\n\nprint(\"Classification Report for KNN with PCA: \\n\", classification_report(y_test, new_pred))",
   "outputs": [
    {
     "name": "stdout",
     "text": "F1 Score for KNN with PCA: \n 0.41806331471135944\nPrecision Score for KNN with PCA: \n 0.5377245508982036\nRecall Score for KNN with PCA: \n 0.341964965727342\nAccuracy for KNN with PCA: \n 0.7916666666666666\nClassification Report for KNN with PCA: \n               precision    recall  f1-score   support\n\n           0       0.83      0.92      0.87      4687\n           1       0.54      0.34      0.42      1313\n\n    accuracy                           0.79      6000\n   macro avg       0.69      0.63      0.65      6000\nweighted avg       0.77      0.79      0.77      6000\n\n",
     "output_type": "stream"
    },
    {
     "data": {
      "text/plain": "<Figure size 640x480 with 2 Axes>",
      "image/png": "[encoded data removed]"
     },
     "metadata": {
      "image/png": {
       "width": 548,
       "height": 455
      }
     },
     "output_type": "display_data"
    }
   ],
   "execution_count": null
  },
  {
   "cell_type": "markdown",
   "source": "<a style='text-decoration:none;line-height:16px;display:flex;color:#5B5B62;padding:10px;justify-content:end;' href='https://deepnote.com?utm_source=created-in-deepnote-cell&projectId=a2ef959e-644b-49ba-838b-a88868d44d86' target=\"_blank\">\n<img alt='Created in deepnote.com' style='display:inline;max-height:16px;margin:0px;margin-right:7.5px;' src='data:image/svg+xml;base64,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' > </img>\nCreated in <span style='font-weight:600;margin-left:4px;'>Deepnote</span></a>",
   "metadata": {
    "tags": [],
    "created_in_deepnote_cell": true,
    "deepnote_cell_type": "markdown"
   }
  }
 ],
 "nbformat": 4,
 "nbformat_minor": 2,
 "metadata": {
  "orig_nbformat": 2,
  "deepnote": {
   "is_reactive": false
  },
  "deepnote_notebook_id": "3227a268-5f87-42fe-a5b6-2fe43a3f0f74",
  "deepnote_execution_queue": []
 }
}