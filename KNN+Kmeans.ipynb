{
 "cells": [
  {
   "cell_type": "code",
   "metadata": {
    "tags": [],
    "cell_id": "00000-c8da5391-3941-4851-aca4-d97134f00245",
    "deepnote_to_be_reexecuted": false,
    "source_hash": "68301009",
    "execution_millis": 2081,
    "execution_start": 1621085632119,
    "deepnote_cell_type": "code"
   },
   "source": "import pandas as pd\nimport numpy as np\nimport seaborn as sns\nimport matplotlib.pyplot as plt",
   "outputs": [],
   "execution_count": null
  },
  {
   "cell_type": "code",
   "metadata": {
    "tags": [],
    "cell_id": "00001-0c1e356d-07d7-4451-9013-6bd787ad5423",
    "deepnote_to_be_reexecuted": false,
    "source_hash": "35cb0c4d",
    "execution_start": 1621085634205,
    "execution_millis": 4433,
    "deepnote_cell_type": "code"
   },
   "source": "# read data\ndf = pd.read_excel('default of credit card clients.xls', index_col = 0, header = 1)",
   "outputs": [],
   "execution_count": null
  },
  {
   "cell_type": "code",
   "metadata": {
    "tags": [],
    "cell_id": "00002-5827a06b-0f05-418e-8d91-28e24b91feaf",
    "deepnote_to_be_reexecuted": false,
    "source_hash": "25d43fa0",
    "execution_millis": 19,
    "execution_start": 1621085638638,
    "deepnote_cell_type": "code"
   },
   "source": "df.columns",
   "outputs": [
    {
     "output_type": "execute_result",
     "execution_count": 3,
     "data": {
      "text/plain": "Index(['LIMIT_BAL', 'SEX', 'EDUCATION', 'MARRIAGE', 'AGE', 'PAY_0', 'PAY_2',\n       'PAY_3', 'PAY_4', 'PAY_5', 'PAY_6', 'BILL_AMT1', 'BILL_AMT2',\n       'BILL_AMT3', 'BILL_AMT4', 'BILL_AMT5', 'BILL_AMT6', 'PAY_AMT1',\n       'PAY_AMT2', 'PAY_AMT3', 'PAY_AMT4', 'PAY_AMT5', 'PAY_AMT6',\n       'default payment next month'],\n      dtype='object')"
     },
     "metadata": {}
    }
   ],
   "execution_count": null
  },
  {
   "cell_type": "code",
   "metadata": {
    "tags": [],
    "cell_id": "00003-708d954c-4351-46d7-8f20-675bbd406eed",
    "deepnote_to_be_reexecuted": false,
    "source_hash": "8dc86348",
    "execution_start": 1621085638657,
    "execution_millis": 16,
    "deepnote_cell_type": "code"
   },
   "source": "#combining values for certain education numbers \ndf.loc[df['EDUCATION'] == 0, 'EDUCATION'] = 4\ndf.loc[df['EDUCATION'] == 5, 'EDUCATION'] = 4\ndf.loc[df['EDUCATION'] == 6, 'EDUCATION'] = 4",
   "outputs": [],
   "execution_count": null
  },
  {
   "cell_type": "code",
   "metadata": {
    "tags": [],
    "cell_id": "00003-6a1747cf-9a4c-4862-8a6f-5c6e7a62184a",
    "deepnote_to_be_reexecuted": false,
    "source_hash": "8f31bcd",
    "execution_millis": 21,
    "execution_start": 1621085638677,
    "deepnote_cell_type": "code"
   },
   "source": "# Onehot encoding using pandas get_dummies. \nonehot_columns = ['SEX','EDUCATION','MARRIAGE']\ndf = pd.get_dummies(df, columns = onehot_columns)",
   "outputs": [],
   "execution_count": null
  },
  {
   "cell_type": "code",
   "metadata": {
    "tags": [],
    "cell_id": "00005-4fd0b02a-3bf8-49ae-9a67-ca5c17fba4b2",
    "deepnote_to_be_reexecuted": false,
    "source_hash": "a982f5be",
    "execution_start": 1621085638703,
    "execution_millis": 21,
    "deepnote_cell_type": "code"
   },
   "source": "#bill Amounts are highly correlated\ndf.drop(['BILL_AMT2'], axis = 1, inplace = True)\ndf.drop(['BILL_AMT3'], axis = 1, inplace = True)\ndf.drop(['BILL_AMT4'], axis = 1, inplace = True)\ndf.drop(['BILL_AMT5'], axis = 1, inplace = True)\ndf.drop(['BILL_AMT6'], axis = 1, inplace = True)",
   "outputs": [],
   "execution_count": null
  },
  {
   "cell_type": "code",
   "metadata": {
    "tags": [],
    "cell_id": "00004-d8b69fed-9988-49bb-876f-6f9c84caf3c6",
    "deepnote_to_be_reexecuted": false,
    "source_hash": "c085b6ba",
    "execution_start": 1621085638732,
    "execution_millis": 117,
    "deepnote_cell_type": "code"
   },
   "source": "df.head()",
   "outputs": [
    {
     "output_type": "execute_result",
     "execution_count": 7,
     "data": {
      "application/vnd.deepnote.dataframe.v2+json": {
       "row_count": 5,
       "column_count": 26,
       "columns": [
        {
         "name": "LIMIT_BAL",
         "dtype": "int64",
         "stats": {
          "unique_count": 4,
          "nan_count": 0,
          "min": "20000",
          "max": "120000",
          "histogram": [
           {
            "bin_start": 20000,
            "bin_end": 30000,
            "count": 1
           },
           {
            "bin_start": 30000,
            "bin_end": 40000,
            "count": 0
           },
           {
            "bin_start": 40000,
            "bin_end": 50000,
            "count": 0
           },
           {
            "bin_start": 50000,
            "bin_end": 60000,
            "count": 2
           },
           {
            "bin_start": 60000,
            "bin_end": 70000,
            "count": 0
           },
           {
            "bin_start": 70000,
            "bin_end": 80000,
            "count": 0
           },
           {
            "bin_start": 80000,
            "bin_end": 90000,
            "count": 0
           },
           {
            "bin_start": 90000,
            "bin_end": 100000,
            "count": 1
           },
           {
            "bin_start": 100000,
            "bin_end": 110000,
            "count": 0
           },
           {
            "bin_start": 110000,
            "bin_end": 120000,
            "count": 1
           }
          ]
         }
        },
        {
         "name": "AGE",
         "dtype": "int64",
         "stats": {
          "unique_count": 5,
          "nan_count": 0,
          "min": "24",
          "max": "57",
          "histogram": [
           {
            "bin_start": 24,
            "bin_end": 27.3,
            "count": 2
           },
           {
            "bin_start": 27.3,
            "bin_end": 30.6,
            "count": 0
           },
           {
            "bin_start": 30.6,
            "bin_end": 33.9,
            "count": 0
           },
           {
            "bin_start": 33.9,
            "bin_end": 37.2,
            "count": 2
           },
           {
            "bin_start": 37.2,
            "bin_end": 40.5,
            "count": 0
           },
           {
            "bin_start": 40.5,
            "bin_end": 43.8,
            "count": 0
           },
           {
            "bin_start": 43.8,
            "bin_end": 47.099999999999994,
            "count": 0
           },
           {
            "bin_start": 47.099999999999994,
            "bin_end": 50.4,
            "count": 0
           },
           {
            "bin_start": 50.4,
            "bin_end": 53.7,
            "count": 0
           },
           {
            "bin_start": 53.7,
            "bin_end": 57,
            "count": 1
           }
          ]
         }
        },
        {
         "name": "PAY_0",
         "dtype": "int64",
         "stats": {
          "unique_count": 3,
          "nan_count": 0,
          "min": "-1",
          "max": "2",
          "histogram": [
           {
            "bin_start": -1,
            "bin_end": -0.7,
            "count": 2
           },
           {
            "bin_start": -0.7,
            "bin_end": -0.4,
            "count": 0
           },
           {
            "bin_start": -0.4,
            "bin_end": -0.10000000000000009,
            "count": 0
           },
           {
            "bin_start": -0.10000000000000009,
            "bin_end": 0.19999999999999996,
            "count": 2
           },
           {
            "bin_start": 0.19999999999999996,
            "bin_end": 0.5,
            "count": 0
           },
           {
            "bin_start": 0.5,
            "bin_end": 0.7999999999999998,
            "count": 0
           },
           {
            "bin_start": 0.7999999999999998,
            "bin_end": 1.1,
            "count": 0
           },
           {
            "bin_start": 1.1,
            "bin_end": 1.4,
            "count": 0
           },
           {
            "bin_start": 1.4,
            "bin_end": 1.6999999999999997,
            "count": 0
           },
           {
            "bin_start": 1.6999999999999997,
            "bin_end": 2,
            "count": 1
           }
          ]
         }
        },
        {
         "name": "PAY_2",
         "dtype": "int64",
         "stats": {
          "unique_count": 2,
          "nan_count": 0,
          "min": "0",
          "max": "2",
          "histogram": [
           {
            "bin_start": 0,
            "bin_end": 0.2,
            "count": 3
           },
           {
            "bin_start": 0.2,
            "bin_end": 0.4,
            "count": 0
           },
           {
            "bin_start": 0.4,
            "bin_end": 0.6000000000000001,
            "count": 0
           },
           {
            "bin_start": 0.6000000000000001,
            "bin_end": 0.8,
            "count": 0
           },
           {
            "bin_start": 0.8,
            "bin_end": 1,
            "count": 0
           },
           {
            "bin_start": 1,
            "bin_end": 1.2000000000000002,
            "count": 0
           },
           {
            "bin_start": 1.2000000000000002,
            "bin_end": 1.4000000000000001,
            "count": 0
           },
           {
            "bin_start": 1.4000000000000001,
            "bin_end": 1.6,
            "count": 0
           },
           {
            "bin_start": 1.6,
            "bin_end": 1.8,
            "count": 0
           },
           {
            "bin_start": 1.8,
            "bin_end": 2,
            "count": 2
           }
          ]
         }
        },
        {
         "name": "PAY_3",
         "dtype": "int64",
         "stats": {
          "unique_count": 2,
          "nan_count": 0,
          "min": "-1",
          "max": "0",
          "histogram": [
           {
            "bin_start": -1,
            "bin_end": -0.9,
            "count": 2
           },
           {
            "bin_start": -0.9,
            "bin_end": -0.8,
            "count": 0
           },
           {
            "bin_start": -0.8,
            "bin_end": -0.7,
            "count": 0
           },
           {
            "bin_start": -0.7,
            "bin_end": -0.6,
            "count": 0
           },
           {
            "bin_start": -0.6,
            "bin_end": -0.5,
            "count": 0
           },
           {
            "bin_start": -0.5,
            "bin_end": -0.3999999999999999,
            "count": 0
           },
           {
            "bin_start": -0.3999999999999999,
            "bin_end": -0.29999999999999993,
            "count": 0
           },
           {
            "bin_start": -0.29999999999999993,
            "bin_end": -0.19999999999999996,
            "count": 0
           },
           {
            "bin_start": -0.19999999999999996,
            "bin_end": -0.09999999999999998,
            "count": 0
           },
           {
            "bin_start": -0.09999999999999998,
            "bin_end": 0,
            "count": 3
           }
          ]
         }
        },
        {
         "name": "PAY_4",
         "dtype": "int64",
         "stats": {
          "unique_count": 2,
          "nan_count": 0,
          "min": "-1",
          "max": "0",
          "histogram": [
           {
            "bin_start": -1,
            "bin_end": -0.9,
            "count": 1
           },
           {
            "bin_start": -0.9,
            "bin_end": -0.8,
            "count": 0
           },
           {
            "bin_start": -0.8,
            "bin_end": -0.7,
            "count": 0
           },
           {
            "bin_start": -0.7,
            "bin_end": -0.6,
            "count": 0
           },
           {
            "bin_start": -0.6,
            "bin_end": -0.5,
            "count": 0
           },
           {
            "bin_start": -0.5,
            "bin_end": -0.3999999999999999,
            "count": 0
           },
           {
            "bin_start": -0.3999999999999999,
            "bin_end": -0.29999999999999993,
            "count": 0
           },
           {
            "bin_start": -0.29999999999999993,
            "bin_end": -0.19999999999999996,
            "count": 0
           },
           {
            "bin_start": -0.19999999999999996,
            "bin_end": -0.09999999999999998,
            "count": 0
           },
           {
            "bin_start": -0.09999999999999998,
            "bin_end": 0,
            "count": 4
           }
          ]
         }
        },
        {
         "name": "PAY_5",
         "dtype": "int64",
         "stats": {
          "unique_count": 2,
          "nan_count": 0,
          "min": "-2",
          "max": "0",
          "histogram": [
           {
            "bin_start": -2,
            "bin_end": -1.8,
            "count": 1
           },
           {
            "bin_start": -1.8,
            "bin_end": -1.6,
            "count": 0
           },
           {
            "bin_start": -1.6,
            "bin_end": -1.4,
            "count": 0
           },
           {
            "bin_start": -1.4,
            "bin_end": -1.2,
            "count": 0
           },
           {
            "bin_start": -1.2,
            "bin_end": -1,
            "count": 0
           },
           {
            "bin_start": -1,
            "bin_end": -0.7999999999999998,
            "count": 0
           },
           {
            "bin_start": -0.7999999999999998,
            "bin_end": -0.5999999999999999,
            "count": 0
           },
           {
            "bin_start": -0.5999999999999999,
            "bin_end": -0.3999999999999999,
            "count": 0
           },
           {
            "bin_start": -0.3999999999999999,
            "bin_end": -0.19999999999999996,
            "count": 0
           },
           {
            "bin_start": -0.19999999999999996,
            "bin_end": 0,
            "count": 4
           }
          ]
         }
        },
        {
         "name": "PAY_6",
         "dtype": "int64",
         "stats": {
          "unique_count": 3,
          "nan_count": 0,
          "min": "-2",
          "max": "2",
          "histogram": [
           {
            "bin_start": -2,
            "bin_end": -1.6,
            "count": 1
           },
           {
            "bin_start": -1.6,
            "bin_end": -1.2,
            "count": 0
           },
           {
            "bin_start": -1.2,
            "bin_end": -0.7999999999999998,
            "count": 0
           },
           {
            "bin_start": -0.7999999999999998,
            "bin_end": -0.3999999999999999,
            "count": 0
           },
           {
            "bin_start": -0.3999999999999999,
            "bin_end": 0,
            "count": 0
           },
           {
            "bin_start": 0,
            "bin_end": 0.40000000000000036,
            "count": 3
           },
           {
            "bin_start": 0.40000000000000036,
            "bin_end": 0.8000000000000003,
            "count": 0
           },
           {
            "bin_start": 0.8000000000000003,
            "bin_end": 1.2000000000000002,
            "count": 0
           },
           {
            "bin_start": 1.2000000000000002,
            "bin_end": 1.6,
            "count": 0
           },
           {
            "bin_start": 1.6,
            "bin_end": 2,
            "count": 1
           }
          ]
         }
        },
        {
         "name": "BILL_AMT1",
         "dtype": "int64",
         "stats": {
          "unique_count": 5,
          "nan_count": 0,
          "min": "2682",
          "max": "46990",
          "histogram": [
           {
            "bin_start": 2682,
            "bin_end": 7112.8,
            "count": 2
           },
           {
            "bin_start": 7112.8,
            "bin_end": 11543.6,
            "count": 1
           },
           {
            "bin_start": 11543.6,
            "bin_end": 15974.400000000001,
            "count": 0
           },
           {
            "bin_start": 15974.400000000001,
            "bin_end": 20405.2,
            "count": 0
           },
           {
            "bin_start": 20405.2,
            "bin_end": 24836,
            "count": 0
           },
           {
            "bin_start": 24836,
            "bin_end": 29266.800000000003,
            "count": 1
           },
           {
            "bin_start": 29266.800000000003,
            "bin_end": 33697.600000000006,
            "count": 0
           },
           {
            "bin_start": 33697.600000000006,
            "bin_end": 38128.4,
            "count": 0
           },
           {
            "bin_start": 38128.4,
            "bin_end": 42559.200000000004,
            "count": 0
           },
           {
            "bin_start": 42559.200000000004,
            "bin_end": 46990,
            "count": 1
           }
          ]
         }
        },
        {
         "name": "PAY_AMT1",
         "dtype": "int64",
         "stats": {
          "unique_count": 3,
          "nan_count": 0,
          "min": "0",
          "max": "2000",
          "histogram": [
           {
            "bin_start": 0,
            "bin_end": 200,
            "count": 2
           },
           {
            "bin_start": 200,
            "bin_end": 400,
            "count": 0
           },
           {
            "bin_start": 400,
            "bin_end": 600,
            "count": 0
           },
           {
            "bin_start": 600,
            "bin_end": 800,
            "count": 0
           },
           {
            "bin_start": 800,
            "bin_end": 1000,
            "count": 0
           },
           {
            "bin_start": 1000,
            "bin_end": 1200,
            "count": 0
           },
           {
            "bin_start": 1200,
            "bin_end": 1400,
            "count": 0
           },
           {
            "bin_start": 1400,
            "bin_end": 1600,
            "count": 1
           },
           {
            "bin_start": 1600,
            "bin_end": 1800,
            "count": 0
           },
           {
            "bin_start": 1800,
            "bin_end": 2000,
            "count": 2
           }
          ]
         }
        },
        {
         "name": "PAY_AMT2",
         "dtype": "int64",
         "stats": {
          "unique_count": 5,
          "nan_count": 0,
          "min": "689",
          "max": "36681",
          "histogram": [
           {
            "bin_start": 689,
            "bin_end": 4288.2,
            "count": 4
           },
           {
            "bin_start": 4288.2,
            "bin_end": 7887.4,
            "count": 0
           },
           {
            "bin_start": 7887.4,
            "bin_end": 11486.599999999999,
            "count": 0
           },
           {
            "bin_start": 11486.599999999999,
            "bin_end": 15085.8,
            "count": 0
           },
           {
            "bin_start": 15085.8,
            "bin_end": 18685,
            "count": 0
           },
           {
            "bin_start": 18685,
            "bin_end": 22284.199999999997,
            "count": 0
           },
           {
            "bin_start": 22284.199999999997,
            "bin_end": 25883.399999999998,
            "count": 0
           },
           {
            "bin_start": 25883.399999999998,
            "bin_end": 29482.6,
            "count": 0
           },
           {
            "bin_start": 29482.6,
            "bin_end": 33081.8,
            "count": 0
           },
           {
            "bin_start": 33081.8,
            "bin_end": 36681,
            "count": 1
           }
          ]
         }
        },
        {
         "name": "PAY_AMT3",
         "dtype": "int64",
         "stats": {
          "unique_count": 4,
          "nan_count": 0,
          "min": "0",
          "max": "10000",
          "histogram": [
           {
            "bin_start": 0,
            "bin_end": 1000,
            "count": 1
           },
           {
            "bin_start": 1000,
            "bin_end": 2000,
            "count": 3
           },
           {
            "bin_start": 2000,
            "bin_end": 3000,
            "count": 0
           },
           {
            "bin_start": 3000,
            "bin_end": 4000,
            "count": 0
           },
           {
            "bin_start": 4000,
            "bin_end": 5000,
            "count": 0
           },
           {
            "bin_start": 5000,
            "bin_end": 6000,
            "count": 0
           },
           {
            "bin_start": 6000,
            "bin_end": 7000,
            "count": 0
           },
           {
            "bin_start": 7000,
            "bin_end": 8000,
            "count": 0
           },
           {
            "bin_start": 8000,
            "bin_end": 9000,
            "count": 0
           },
           {
            "bin_start": 9000,
            "bin_end": 10000,
            "count": 1
           }
          ]
         }
        },
        {
         "name": "PAY_AMT4",
         "dtype": "int64",
         "stats": {
          "unique_count": 4,
          "nan_count": 0,
          "min": "0",
          "max": "9000",
          "histogram": [
           {
            "bin_start": 0,
            "bin_end": 900,
            "count": 1
           },
           {
            "bin_start": 900,
            "bin_end": 1800,
            "count": 3
           },
           {
            "bin_start": 1800,
            "bin_end": 2700,
            "count": 0
           },
           {
            "bin_start": 2700,
            "bin_end": 3600,
            "count": 0
           },
           {
            "bin_start": 3600,
            "bin_end": 4500,
            "count": 0
           },
           {
            "bin_start": 4500,
            "bin_end": 5400,
            "count": 0
           },
           {
            "bin_start": 5400,
            "bin_end": 6300,
            "count": 0
           },
           {
            "bin_start": 6300,
            "bin_end": 7200,
            "count": 0
           },
           {
            "bin_start": 7200,
            "bin_end": 8100,
            "count": 0
           },
           {
            "bin_start": 8100,
            "bin_end": 9000,
            "count": 1
           }
          ]
         }
        },
        {
         "name": "PAY_AMT5",
         "dtype": "int64",
         "stats": {
          "unique_count": 4,
          "nan_count": 0,
          "min": "0",
          "max": "1069",
          "histogram": [
           {
            "bin_start": 0,
            "bin_end": 106.9,
            "count": 2
           },
           {
            "bin_start": 106.9,
            "bin_end": 213.8,
            "count": 0
           },
           {
            "bin_start": 213.8,
            "bin_end": 320.70000000000005,
            "count": 0
           },
           {
            "bin_start": 320.70000000000005,
            "bin_end": 427.6,
            "count": 0
           },
           {
            "bin_start": 427.6,
            "bin_end": 534.5,
            "count": 0
           },
           {
            "bin_start": 534.5,
            "bin_end": 641.4000000000001,
            "count": 0
           },
           {
            "bin_start": 641.4000000000001,
            "bin_end": 748.3000000000001,
            "count": 1
           },
           {
            "bin_start": 748.3000000000001,
            "bin_end": 855.2,
            "count": 0
           },
           {
            "bin_start": 855.2,
            "bin_end": 962.1,
            "count": 0
           },
           {
            "bin_start": 962.1,
            "bin_end": 1069,
            "count": 2
           }
          ]
         }
        },
        {
         "name": "PAY_AMT6",
         "dtype": "int64",
         "stats": {
          "unique_count": 5,
          "nan_count": 0,
          "min": "0",
          "max": "5000",
          "histogram": [
           {
            "bin_start": 0,
            "bin_end": 500,
            "count": 1
           },
           {
            "bin_start": 500,
            "bin_end": 1000,
            "count": 1
           },
           {
            "bin_start": 1000,
            "bin_end": 1500,
            "count": 1
           },
           {
            "bin_start": 1500,
            "bin_end": 2000,
            "count": 0
           },
           {
            "bin_start": 2000,
            "bin_end": 2500,
            "count": 1
           },
           {
            "bin_start": 2500,
            "bin_end": 3000,
            "count": 0
           },
           {
            "bin_start": 3000,
            "bin_end": 3500,
            "count": 0
           },
           {
            "bin_start": 3500,
            "bin_end": 4000,
            "count": 0
           },
           {
            "bin_start": 4000,
            "bin_end": 4500,
            "count": 0
           },
           {
            "bin_start": 4500,
            "bin_end": 5000,
            "count": 1
           }
          ]
         }
        },
        {
         "name": "default payment next month",
         "dtype": "int64",
         "stats": {
          "unique_count": 2,
          "nan_count": 0,
          "min": "0",
          "max": "1",
          "histogram": [
           {
            "bin_start": 0,
            "bin_end": 0.1,
            "count": 3
           },
           {
            "bin_start": 0.1,
            "bin_end": 0.2,
            "count": 0
           },
           {
            "bin_start": 0.2,
            "bin_end": 0.30000000000000004,
            "count": 0
           },
           {
            "bin_start": 0.30000000000000004,
            "bin_end": 0.4,
            "count": 0
           },
           {
            "bin_start": 0.4,
            "bin_end": 0.5,
            "count": 0
           },
           {
            "bin_start": 0.5,
            "bin_end": 0.6000000000000001,
            "count": 0
           },
           {
            "bin_start": 0.6000000000000001,
            "bin_end": 0.7000000000000001,
            "count": 0
           },
           {
            "bin_start": 0.7000000000000001,
            "bin_end": 0.8,
            "count": 0
           },
           {
            "bin_start": 0.8,
            "bin_end": 0.9,
            "count": 0
           },
           {
            "bin_start": 0.9,
            "bin_end": 1,
            "count": 2
           }
          ]
         }
        },
        {
         "name": "SEX_1",
         "dtype": "uint8",
         "stats": {
          "unique_count": 2,
          "nan_count": 0,
          "min": "0",
          "max": "1",
          "histogram": [
           {
            "bin_start": 0,
            "bin_end": 0.1,
            "count": 4
           },
           {
            "bin_start": 0.1,
            "bin_end": 0.2,
            "count": 0
           },
           {
            "bin_start": 0.2,
            "bin_end": 0.30000000000000004,
            "count": 0
           },
           {
            "bin_start": 0.30000000000000004,
            "bin_end": 0.4,
            "count": 0
           },
           {
            "bin_start": 0.4,
            "bin_end": 0.5,
            "count": 0
           },
           {
            "bin_start": 0.5,
            "bin_end": 0.6000000000000001,
            "count": 0
           },
           {
            "bin_start": 0.6000000000000001,
            "bin_end": 0.7000000000000001,
            "count": 0
           },
           {
            "bin_start": 0.7000000000000001,
            "bin_end": 0.8,
            "count": 0
           },
           {
            "bin_start": 0.8,
            "bin_end": 0.9,
            "count": 0
           },
           {
            "bin_start": 0.9,
            "bin_end": 1,
            "count": 1
           }
          ]
         }
        },
        {
         "name": "SEX_2",
         "dtype": "uint8",
         "stats": {
          "unique_count": 2,
          "nan_count": 0,
          "min": "0",
          "max": "1",
          "histogram": [
           {
            "bin_start": 0,
            "bin_end": 0.1,
            "count": 1
           },
           {
            "bin_start": 0.1,
            "bin_end": 0.2,
            "count": 0
           },
           {
            "bin_start": 0.2,
            "bin_end": 0.30000000000000004,
            "count": 0
           },
           {
            "bin_start": 0.30000000000000004,
            "bin_end": 0.4,
            "count": 0
           },
           {
            "bin_start": 0.4,
            "bin_end": 0.5,
            "count": 0
           },
           {
            "bin_start": 0.5,
            "bin_end": 0.6000000000000001,
            "count": 0
           },
           {
            "bin_start": 0.6000000000000001,
            "bin_end": 0.7000000000000001,
            "count": 0
           },
           {
            "bin_start": 0.7000000000000001,
            "bin_end": 0.8,
            "count": 0
           },
           {
            "bin_start": 0.8,
            "bin_end": 0.9,
            "count": 0
           },
           {
            "bin_start": 0.9,
            "bin_end": 1,
            "count": 4
           }
          ]
         }
        },
        {
         "name": "EDUCATION_1",
         "dtype": "uint8",
         "stats": {
          "unique_count": 1,
          "nan_count": 0,
          "min": "0",
          "max": "0",
          "histogram": [
           {
            "bin_start": -0.5,
            "bin_end": -0.4,
            "count": 0
           },
           {
            "bin_start": -0.4,
            "bin_end": -0.3,
            "count": 0
           },
           {
            "bin_start": -0.3,
            "bin_end": -0.19999999999999996,
            "count": 0
           },
           {
            "bin_start": -0.19999999999999996,
            "bin_end": -0.09999999999999998,
            "count": 0
           },
           {
            "bin_start": -0.09999999999999998,
            "bin_end": 0,
            "count": 0
           },
           {
            "bin_start": 0,
            "bin_end": 0.10000000000000009,
            "count": 5
           },
           {
            "bin_start": 0.10000000000000009,
            "bin_end": 0.20000000000000007,
            "count": 0
           },
           {
            "bin_start": 0.20000000000000007,
            "bin_end": 0.30000000000000004,
            "count": 0
           },
           {
            "bin_start": 0.30000000000000004,
            "bin_end": 0.4,
            "count": 0
           },
           {
            "bin_start": 0.4,
            "bin_end": 0.5,
            "count": 0
           }
          ]
         }
        },
        {
         "name": "EDUCATION_2",
         "dtype": "uint8",
         "stats": {
          "unique_count": 1,
          "nan_count": 0,
          "min": "1",
          "max": "1",
          "histogram": [
           {
            "bin_start": 0.5,
            "bin_end": 0.6,
            "count": 0
           },
           {
            "bin_start": 0.6,
            "bin_end": 0.7,
            "count": 0
           },
           {
            "bin_start": 0.7,
            "bin_end": 0.8,
            "count": 0
           },
           {
            "bin_start": 0.8,
            "bin_end": 0.9,
            "count": 0
           },
           {
            "bin_start": 0.9,
            "bin_end": 1,
            "count": 0
           },
           {
            "bin_start": 1,
            "bin_end": 1.1,
            "count": 5
           },
           {
            "bin_start": 1.1,
            "bin_end": 1.2000000000000002,
            "count": 0
           },
           {
            "bin_start": 1.2000000000000002,
            "bin_end": 1.3,
            "count": 0
           },
           {
            "bin_start": 1.3,
            "bin_end": 1.4,
            "count": 0
           },
           {
            "bin_start": 1.4,
            "bin_end": 1.5,
            "count": 0
           }
          ]
         }
        },
        {
         "name": "EDUCATION_3",
         "dtype": "uint8",
         "stats": {
          "unique_count": 1,
          "nan_count": 0,
          "min": "0",
          "max": "0",
          "histogram": [
           {
            "bin_start": -0.5,
            "bin_end": -0.4,
            "count": 0
           },
           {
            "bin_start": -0.4,
            "bin_end": -0.3,
            "count": 0
           },
           {
            "bin_start": -0.3,
            "bin_end": -0.19999999999999996,
            "count": 0
           },
           {
            "bin_start": -0.19999999999999996,
            "bin_end": -0.09999999999999998,
            "count": 0
           },
           {
            "bin_start": -0.09999999999999998,
            "bin_end": 0,
            "count": 0
           },
           {
            "bin_start": 0,
            "bin_end": 0.10000000000000009,
            "count": 5
           },
           {
            "bin_start": 0.10000000000000009,
            "bin_end": 0.20000000000000007,
            "count": 0
           },
           {
            "bin_start": 0.20000000000000007,
            "bin_end": 0.30000000000000004,
            "count": 0
           },
           {
            "bin_start": 0.30000000000000004,
            "bin_end": 0.4,
            "count": 0
           },
           {
            "bin_start": 0.4,
            "bin_end": 0.5,
            "count": 0
           }
          ]
         }
        },
        {
         "name": "EDUCATION_4",
         "dtype": "uint8",
         "stats": {
          "unique_count": 1,
          "nan_count": 0,
          "min": "0",
          "max": "0",
          "histogram": [
           {
            "bin_start": -0.5,
            "bin_end": -0.4,
            "count": 0
           },
           {
            "bin_start": -0.4,
            "bin_end": -0.3,
            "count": 0
           },
           {
            "bin_start": -0.3,
            "bin_end": -0.19999999999999996,
            "count": 0
           },
           {
            "bin_start": -0.19999999999999996,
            "bin_end": -0.09999999999999998,
            "count": 0
           },
           {
            "bin_start": -0.09999999999999998,
            "bin_end": 0,
            "count": 0
           },
           {
            "bin_start": 0,
            "bin_end": 0.10000000000000009,
            "count": 5
           },
           {
            "bin_start": 0.10000000000000009,
            "bin_end": 0.20000000000000007,
            "count": 0
           },
           {
            "bin_start": 0.20000000000000007,
            "bin_end": 0.30000000000000004,
            "count": 0
           },
           {
            "bin_start": 0.30000000000000004,
            "bin_end": 0.4,
            "count": 0
           },
           {
            "bin_start": 0.4,
            "bin_end": 0.5,
            "count": 0
           }
          ]
         }
        },
        {
         "name": "MARRIAGE_0",
         "dtype": "uint8",
         "stats": {
          "unique_count": 1,
          "nan_count": 0,
          "min": "0",
          "max": "0",
          "histogram": [
           {
            "bin_start": -0.5,
            "bin_end": -0.4,
            "count": 0
           },
           {
            "bin_start": -0.4,
            "bin_end": -0.3,
            "count": 0
           },
           {
            "bin_start": -0.3,
            "bin_end": -0.19999999999999996,
            "count": 0
           },
           {
            "bin_start": -0.19999999999999996,
            "bin_end": -0.09999999999999998,
            "count": 0
           },
           {
            "bin_start": -0.09999999999999998,
            "bin_end": 0,
            "count": 0
           },
           {
            "bin_start": 0,
            "bin_end": 0.10000000000000009,
            "count": 5
           },
           {
            "bin_start": 0.10000000000000009,
            "bin_end": 0.20000000000000007,
            "count": 0
           },
           {
            "bin_start": 0.20000000000000007,
            "bin_end": 0.30000000000000004,
            "count": 0
           },
           {
            "bin_start": 0.30000000000000004,
            "bin_end": 0.4,
            "count": 0
           },
           {
            "bin_start": 0.4,
            "bin_end": 0.5,
            "count": 0
           }
          ]
         }
        },
        {
         "name": "MARRIAGE_1",
         "dtype": "uint8",
         "stats": {
          "unique_count": 2,
          "nan_count": 0,
          "min": "0",
          "max": "1",
          "histogram": [
           {
            "bin_start": 0,
            "bin_end": 0.1,
            "count": 2
           },
           {
            "bin_start": 0.1,
            "bin_end": 0.2,
            "count": 0
           },
           {
            "bin_start": 0.2,
            "bin_end": 0.30000000000000004,
            "count": 0
           },
           {
            "bin_start": 0.30000000000000004,
            "bin_end": 0.4,
            "count": 0
           },
           {
            "bin_start": 0.4,
            "bin_end": 0.5,
            "count": 0
           },
           {
            "bin_start": 0.5,
            "bin_end": 0.6000000000000001,
            "count": 0
           },
           {
            "bin_start": 0.6000000000000001,
            "bin_end": 0.7000000000000001,
            "count": 0
           },
           {
            "bin_start": 0.7000000000000001,
            "bin_end": 0.8,
            "count": 0
           },
           {
            "bin_start": 0.8,
            "bin_end": 0.9,
            "count": 0
           },
           {
            "bin_start": 0.9,
            "bin_end": 1,
            "count": 3
           }
          ]
         }
        },
        {
         "name": "MARRIAGE_2",
         "dtype": "uint8",
         "stats": {
          "unique_count": 2,
          "nan_count": 0,
          "min": "0",
          "max": "1",
          "histogram": [
           {
            "bin_start": 0,
            "bin_end": 0.1,
            "count": 3
           },
           {
            "bin_start": 0.1,
            "bin_end": 0.2,
            "count": 0
           },
           {
            "bin_start": 0.2,
            "bin_end": 0.30000000000000004,
            "count": 0
           },
           {
            "bin_start": 0.30000000000000004,
            "bin_end": 0.4,
            "count": 0
           },
           {
            "bin_start": 0.4,
            "bin_end": 0.5,
            "count": 0
           },
           {
            "bin_start": 0.5,
            "bin_end": 0.6000000000000001,
            "count": 0
           },
           {
            "bin_start": 0.6000000000000001,
            "bin_end": 0.7000000000000001,
            "count": 0
           },
           {
            "bin_start": 0.7000000000000001,
            "bin_end": 0.8,
            "count": 0
           },
           {
            "bin_start": 0.8,
            "bin_end": 0.9,
            "count": 0
           },
           {
            "bin_start": 0.9,
            "bin_end": 1,
            "count": 2
           }
          ]
         }
        },
        {
         "name": "MARRIAGE_3",
         "dtype": "uint8",
         "stats": {
          "unique_count": 1,
          "nan_count": 0,
          "min": "0",
          "max": "0",
          "histogram": [
           {
            "bin_start": -0.5,
            "bin_end": -0.4,
            "count": 0
           },
           {
            "bin_start": -0.4,
            "bin_end": -0.3,
            "count": 0
           },
           {
            "bin_start": -0.3,
            "bin_end": -0.19999999999999996,
            "count": 0
           },
           {
            "bin_start": -0.19999999999999996,
            "bin_end": -0.09999999999999998,
            "count": 0
           },
           {
            "bin_start": -0.09999999999999998,
            "bin_end": 0,
            "count": 0
           },
           {
            "bin_start": 0,
            "bin_end": 0.10000000000000009,
            "count": 5
           },
           {
            "bin_start": 0.10000000000000009,
            "bin_end": 0.20000000000000007,
            "count": 0
           },
           {
            "bin_start": 0.20000000000000007,
            "bin_end": 0.30000000000000004,
            "count": 0
           },
           {
            "bin_start": 0.30000000000000004,
            "bin_end": 0.4,
            "count": 0
           },
           {
            "bin_start": 0.4,
            "bin_end": 0.5,
            "count": 0
           }
          ]
         }
        },
        {
         "name": "_deepnote_index_column",
         "dtype": "int64"
        }
       ],
       "rows_top": [
        {
         "LIMIT_BAL": 20000,
         "AGE": 24,
         "PAY_0": 2,
         "PAY_2": 2,
         "PAY_3": -1,
         "PAY_4": -1,
         "PAY_5": -2,
         "PAY_6": -2,
         "BILL_AMT1": 3913,
         "PAY_AMT1": 0,
         "PAY_AMT2": 689,
         "PAY_AMT3": 0,
         "PAY_AMT4": 0,
         "PAY_AMT5": 0,
         "PAY_AMT6": 0,
         "default payment next month": 1,
         "SEX_1": 0,
         "SEX_2": 1,
         "EDUCATION_1": 0,
         "EDUCATION_2": 1,
         "EDUCATION_3": 0,
         "EDUCATION_4": 0,
         "MARRIAGE_0": 0,
         "MARRIAGE_1": 1,
         "MARRIAGE_2": 0,
         "MARRIAGE_3": 0,
         "_deepnote_index_column": 1
        },
        {
         "LIMIT_BAL": 120000,
         "AGE": 26,
         "PAY_0": -1,
         "PAY_2": 2,
         "PAY_3": 0,
         "PAY_4": 0,
         "PAY_5": 0,
         "PAY_6": 2,
         "BILL_AMT1": 2682,
         "PAY_AMT1": 0,
         "PAY_AMT2": 1000,
         "PAY_AMT3": 1000,
         "PAY_AMT4": 1000,
         "PAY_AMT5": 0,
         "PAY_AMT6": 2000,
         "default payment next month": 1,
         "SEX_1": 0,
         "SEX_2": 1,
         "EDUCATION_1": 0,
         "EDUCATION_2": 1,
         "EDUCATION_3": 0,
         "EDUCATION_4": 0,
         "MARRIAGE_0": 0,
         "MARRIAGE_1": 0,
         "MARRIAGE_2": 1,
         "MARRIAGE_3": 0,
         "_deepnote_index_column": 2
        },
        {
         "LIMIT_BAL": 90000,
         "AGE": 34,
         "PAY_0": 0,
         "PAY_2": 0,
         "PAY_3": 0,
         "PAY_4": 0,
         "PAY_5": 0,
         "PAY_6": 0,
         "BILL_AMT1": 29239,
         "PAY_AMT1": 1518,
         "PAY_AMT2": 1500,
         "PAY_AMT3": 1000,
         "PAY_AMT4": 1000,
         "PAY_AMT5": 1000,
         "PAY_AMT6": 5000,
         "default payment next month": 0,
         "SEX_1": 0,
         "SEX_2": 1,
         "EDUCATION_1": 0,
         "EDUCATION_2": 1,
         "EDUCATION_3": 0,
         "EDUCATION_4": 0,
         "MARRIAGE_0": 0,
         "MARRIAGE_1": 0,
         "MARRIAGE_2": 1,
         "MARRIAGE_3": 0,
         "_deepnote_index_column": 3
        },
        {
         "LIMIT_BAL": 50000,
         "AGE": 37,
         "PAY_0": 0,
         "PAY_2": 0,
         "PAY_3": 0,
         "PAY_4": 0,
         "PAY_5": 0,
         "PAY_6": 0,
         "BILL_AMT1": 46990,
         "PAY_AMT1": 2000,
         "PAY_AMT2": 2019,
         "PAY_AMT3": 1200,
         "PAY_AMT4": 1100,
         "PAY_AMT5": 1069,
         "PAY_AMT6": 1000,
         "default payment next month": 0,
         "SEX_1": 0,
         "SEX_2": 1,
         "EDUCATION_1": 0,
         "EDUCATION_2": 1,
         "EDUCATION_3": 0,
         "EDUCATION_4": 0,
         "MARRIAGE_0": 0,
         "MARRIAGE_1": 1,
         "MARRIAGE_2": 0,
         "MARRIAGE_3": 0,
         "_deepnote_index_column": 4
        },
        {
         "LIMIT_BAL": 50000,
         "AGE": 57,
         "PAY_0": -1,
         "PAY_2": 0,
         "PAY_3": -1,
         "PAY_4": 0,
         "PAY_5": 0,
         "PAY_6": 0,
         "BILL_AMT1": 8617,
         "PAY_AMT1": 2000,
         "PAY_AMT2": 36681,
         "PAY_AMT3": 10000,
         "PAY_AMT4": 9000,
         "PAY_AMT5": 689,
         "PAY_AMT6": 679,
         "default payment next month": 0,
         "SEX_1": 1,
         "SEX_2": 0,
         "EDUCATION_1": 0,
         "EDUCATION_2": 1,
         "EDUCATION_3": 0,
         "EDUCATION_4": 0,
         "MARRIAGE_0": 0,
         "MARRIAGE_1": 1,
         "MARRIAGE_2": 0,
         "MARRIAGE_3": 0,
         "_deepnote_index_column": 5
        }
       ],
       "rows_bottom": null
      },
      "text/plain": "    LIMIT_BAL  AGE  PAY_0  PAY_2  PAY_3  PAY_4  PAY_5  PAY_6  BILL_AMT1  \\\nID                                                                        \n1       20000   24      2      2     -1     -1     -2     -2       3913   \n2      120000   26     -1      2      0      0      0      2       2682   \n3       90000   34      0      0      0      0      0      0      29239   \n4       50000   37      0      0      0      0      0      0      46990   \n5       50000   57     -1      0     -1      0      0      0       8617   \n\n    PAY_AMT1  ...  SEX_1  SEX_2  EDUCATION_1  EDUCATION_2  EDUCATION_3  \\\nID            ...                                                        \n1          0  ...      0      1            0            1            0   \n2          0  ...      0      1            0            1            0   \n3       1518  ...      0      1            0            1            0   \n4       2000  ...      0      1            0            1            0   \n5       2000  ...      1      0            0            1            0   \n\n    EDUCATION_4  MARRIAGE_0  MARRIAGE_1  MARRIAGE_2  MARRIAGE_3  \nID                                                               \n1             0           0           1           0           0  \n2             0           0           0           1           0  \n3             0           0           0           1           0  \n4             0           0           1           0           0  \n5             0           0           1           0           0  \n\n[5 rows x 26 columns]",
      "text/html": "<div>\n<style scoped>\n    .dataframe tbody tr th:only-of-type {\n        vertical-align: middle;\n    }\n\n    .dataframe tbody tr th {\n        vertical-align: top;\n    }\n\n    .dataframe thead th {\n        text-align: right;\n    }\n</style>\n<table border=\"1\" class=\"dataframe\">\n  <thead>\n    <tr style=\"text-align: right;\">\n      <th></th>\n      <th>LIMIT_BAL</th>\n      <th>AGE</th>\n      <th>PAY_0</th>\n      <th>PAY_2</th>\n      <th>PAY_3</th>\n      <th>PAY_4</th>\n      <th>PAY_5</th>\n      <th>PAY_6</th>\n      <th>BILL_AMT1</th>\n      <th>PAY_AMT1</th>\n      <th>...</th>\n      <th>SEX_1</th>\n      <th>SEX_2</th>\n      <th>EDUCATION_1</th>\n      <th>EDUCATION_2</th>\n      <th>EDUCATION_3</th>\n      <th>EDUCATION_4</th>\n      <th>MARRIAGE_0</th>\n      <th>MARRIAGE_1</th>\n      <th>MARRIAGE_2</th>\n      <th>MARRIAGE_3</th>\n    </tr>\n    <tr>\n      <th>ID</th>\n      <th></th>\n      <th></th>\n      <th></th>\n      <th></th>\n      <th></th>\n      <th></th>\n      <th></th>\n      <th></th>\n      <th></th>\n      <th></th>\n      <th></th>\n      <th></th>\n      <th></th>\n      <th></th>\n      <th></th>\n      <th></th>\n      <th></th>\n      <th></th>\n      <th></th>\n      <th></th>\n      <th></th>\n    </tr>\n  </thead>\n  <tbody>\n    <tr>\n      <th>1</th>\n      <td>20000</td>\n      <td>24</td>\n      <td>2</td>\n      <td>2</td>\n      <td>-1</td>\n      <td>-1</td>\n      <td>-2</td>\n      <td>-2</td>\n      <td>3913</td>\n      <td>0</td>\n      <td>...</td>\n      <td>0</td>\n      <td>1</td>\n      <td>0</td>\n      <td>1</td>\n      <td>0</td>\n      <td>0</td>\n      <td>0</td>\n      <td>1</td>\n      <td>0</td>\n      <td>0</td>\n    </tr>\n    <tr>\n      <th>2</th>\n      <td>120000</td>\n      <td>26</td>\n      <td>-1</td>\n      <td>2</td>\n      <td>0</td>\n      <td>0</td>\n      <td>0</td>\n      <td>2</td>\n      <td>2682</td>\n      <td>0</td>\n      <td>...</td>\n      <td>0</td>\n      <td>1</td>\n      <td>0</td>\n      <td>1</td>\n      <td>0</td>\n      <td>0</td>\n      <td>0</td>\n      <td>0</td>\n      <td>1</td>\n      <td>0</td>\n    </tr>\n    <tr>\n      <th>3</th>\n      <td>90000</td>\n      <td>34</td>\n      <td>0</td>\n      <td>0</td>\n      <td>0</td>\n      <td>0</td>\n      <td>0</td>\n      <td>0</td>\n      <td>29239</td>\n      <td>1518</td>\n      <td>...</td>\n      <td>0</td>\n      <td>1</td>\n      <td>0</td>\n      <td>1</td>\n      <td>0</td>\n      <td>0</td>\n      <td>0</td>\n      <td>0</td>\n      <td>1</td>\n      <td>0</td>\n    </tr>\n    <tr>\n      <th>4</th>\n      <td>50000</td>\n      <td>37</td>\n      <td>0</td>\n      <td>0</td>\n      <td>0</td>\n      <td>0</td>\n      <td>0</td>\n      <td>0</td>\n      <td>46990</td>\n      <td>2000</td>\n      <td>...</td>\n      <td>0</td>\n      <td>1</td>\n      <td>0</td>\n      <td>1</td>\n      <td>0</td>\n      <td>0</td>\n      <td>0</td>\n      <td>1</td>\n      <td>0</td>\n      <td>0</td>\n    </tr>\n    <tr>\n      <th>5</th>\n      <td>50000</td>\n      <td>57</td>\n      <td>-1</td>\n      <td>0</td>\n      <td>-1</td>\n      <td>0</td>\n      <td>0</td>\n      <td>0</td>\n      <td>8617</td>\n      <td>2000</td>\n      <td>...</td>\n      <td>1</td>\n      <td>0</td>\n      <td>0</td>\n      <td>1</td>\n      <td>0</td>\n      <td>0</td>\n      <td>0</td>\n      <td>1</td>\n      <td>0</td>\n      <td>0</td>\n    </tr>\n  </tbody>\n</table>\n<p>5 rows × 26 columns</p>\n</div>"
     },
     "metadata": {}
    }
   ],
   "execution_count": null
  },
  {
   "cell_type": "code",
   "metadata": {
    "tags": [],
    "cell_id": "00005-5dc886e8-67b7-475e-9e95-061c01518e48",
    "deepnote_to_be_reexecuted": false,
    "source_hash": "25d43fa0",
    "execution_start": 1621085638846,
    "execution_millis": 27,
    "deepnote_cell_type": "code"
   },
   "source": "df.columns",
   "outputs": [
    {
     "output_type": "execute_result",
     "execution_count": 8,
     "data": {
      "text/plain": "Index(['LIMIT_BAL', 'AGE', 'PAY_0', 'PAY_2', 'PAY_3', 'PAY_4', 'PAY_5',\n       'PAY_6', 'BILL_AMT1', 'PAY_AMT1', 'PAY_AMT2', 'PAY_AMT3', 'PAY_AMT4',\n       'PAY_AMT5', 'PAY_AMT6', 'default payment next month', 'SEX_1', 'SEX_2',\n       'EDUCATION_1', 'EDUCATION_2', 'EDUCATION_3', 'EDUCATION_4',\n       'MARRIAGE_0', 'MARRIAGE_1', 'MARRIAGE_2', 'MARRIAGE_3'],\n      dtype='object')"
     },
     "metadata": {}
    }
   ],
   "execution_count": null
  },
  {
   "cell_type": "code",
   "metadata": {
    "tags": [],
    "cell_id": "00006-a475d1f7-2dfc-4fb2-9e74-dd68ff5eb79f",
    "deepnote_to_be_reexecuted": false,
    "source_hash": "cf4b86cb",
    "execution_millis": 1221,
    "execution_start": 1621085638878,
    "deepnote_cell_type": "code"
   },
   "source": "# prepare to train\nfrom sklearn.model_selection import train_test_split\nfrom sklearn.cluster import KMeans\nfrom sklearn.preprocessing import MinMaxScaler",
   "outputs": [],
   "execution_count": null
  },
  {
   "cell_type": "code",
   "metadata": {
    "tags": [],
    "cell_id": "00006-c46d51db-6dc0-4f13-a9fd-1a899a0f20a2",
    "deepnote_to_be_reexecuted": false,
    "source_hash": "91b686dc",
    "execution_millis": 46,
    "execution_start": 1621085640117,
    "deepnote_cell_type": "code"
   },
   "source": "# set train and target\ny = df['default payment next month']\nX = df.drop(['default payment next month'],axis=1)\nX_train, X_test, y_train, y_test = train_test_split(X, y, test_size=0.2, random_state=42)",
   "outputs": [],
   "execution_count": null
  },
  {
   "cell_type": "code",
   "metadata": {
    "tags": [],
    "cell_id": "00008-55113bcc-aa64-4efb-89ae-135d6c75e0f6",
    "deepnote_to_be_reexecuted": false,
    "source_hash": "63a6edb2",
    "execution_start": 1621085640163,
    "execution_millis": 43,
    "deepnote_cell_type": "code"
   },
   "source": "# apply MinMaxScaler on train data\nscaler = MinMaxScaler()\nscaler.fit(X_train)\nX_train_scale = scaler.transform(X_train)\nX_test_scale = scaler.transform(X_test)",
   "outputs": [],
   "execution_count": null
  },
  {
   "cell_type": "code",
   "metadata": {
    "tags": [],
    "cell_id": "00010-2394e225-3cf6-47c7-bbd9-5ce80370ebfc",
    "deepnote_to_be_reexecuted": false,
    "source_hash": "d2efd874",
    "execution_millis": 17,
    "execution_start": 1621085640207,
    "deepnote_cell_type": "code"
   },
   "source": "# set up kmeans\nkmeans = KMeans(n_clusters=2, random_state=20)",
   "outputs": [],
   "execution_count": null
  },
  {
   "cell_type": "code",
   "metadata": {
    "tags": [],
    "cell_id": "00011-69882dcf-5747-4668-a2f7-00052530eeca",
    "deepnote_to_be_reexecuted": false,
    "source_hash": "33d5cddc",
    "execution_millis": 1066,
    "execution_start": 1621085640273,
    "deepnote_cell_type": "code"
   },
   "source": "# kmeans train\nkmeans.fit(X_train_scale)",
   "outputs": [
    {
     "output_type": "execute_result",
     "execution_count": 13,
     "data": {
      "text/plain": "KMeans(n_clusters=2, random_state=20)"
     },
     "metadata": {}
    }
   ],
   "execution_count": null
  },
  {
   "cell_type": "code",
   "metadata": {
    "tags": [],
    "cell_id": "00012-306f7902-58c0-4500-9e53-c5b53d3e99ce",
    "deepnote_to_be_reexecuted": false,
    "source_hash": "1e7004da",
    "execution_millis": 46,
    "execution_start": 1621085641331,
    "deepnote_cell_type": "code"
   },
   "source": "# kmeans predictions\ny_pred = kmeans.predict(X_test_scale)",
   "outputs": [],
   "execution_count": null
  },
  {
   "cell_type": "code",
   "metadata": {
    "tags": [],
    "cell_id": "00012-8dce0baf-4445-43ce-b69b-74170c237b77",
    "deepnote_to_be_reexecuted": false,
    "source_hash": "cdaae22b",
    "execution_millis": 24,
    "execution_start": 1621085641391,
    "deepnote_cell_type": "code"
   },
   "source": "from sklearn.metrics import f1_score, precision_score, recall_score, classification_report, accuracy_score\n\nf1 = f1_score(y_test,y_pred)\nprec = precision_score(y_test,y_pred)\nrecall = recall_score(y_test,y_pred)\naccuracy = accuracy_score(y_test, y_pred)",
   "outputs": [],
   "execution_count": null
  },
  {
   "cell_type": "code",
   "metadata": {
    "tags": [],
    "cell_id": "00015-6fae69bd-40bf-4e0c-8d42-508b725b97ae",
    "deepnote_to_be_reexecuted": false,
    "source_hash": "2b40d964",
    "execution_start": 1621085641421,
    "execution_millis": 21,
    "deepnote_cell_type": "code"
   },
   "source": "print(f1)\nprint(prec)\nprint(recall)\nprint(accuracy)",
   "outputs": [
    {
     "name": "stdout",
     "text": "0.29427312775330394\n0.20700340873876666\n0.5087585681645087\n0.466\n",
     "output_type": "stream"
    }
   ],
   "execution_count": null
  },
  {
   "cell_type": "code",
   "metadata": {
    "tags": [],
    "cell_id": "00015-a8a16fa0-1b83-4dd6-986b-db42f616557d",
    "deepnote_to_be_reexecuted": false,
    "source_hash": "820c87c9",
    "execution_start": 1621085641440,
    "execution_millis": 400,
    "deepnote_cell_type": "code"
   },
   "source": "#generating confusion matrix\nfrom sklearn.metrics import confusion_matrix\n\nconf_mat = confusion_matrix(y_test, y_pred)\n\nsns.heatmap(conf_mat, annot=True, fmt=\"d\", cmap=\"Purples\",\nxticklabels = ['Non-Default', 'Default'],\nyticklabels = ['Non-Default', 'Default'])\n\nplt.xlabel('Predicted')\nplt.ylabel('Actual')\nplt.title(\"Confusion Matrix of KMeans Clustering\")",
   "outputs": [
    {
     "output_type": "execute_result",
     "execution_count": 17,
     "data": {
      "text/plain": "Text(0.5, 1.0, 'Confusion Matrix of KMeans Clustering')"
     },
     "metadata": {}
    },
    {
     "data": {
      "text/plain": "<Figure size 432x288 with 2 Axes>",
      "image/png": "[encoded data removed]"
     },
     "metadata": {
      "needs_background": "light",
      "image/png": {
       "width": 373,
       "height": 278
      }
     },
     "output_type": "display_data"
    }
   ],
   "execution_count": null
  },
  {
   "cell_type": "code",
   "metadata": {
    "tags": [],
    "cell_id": "00016-0fe5ecf8-3779-4aa7-b228-8651a613ebbd",
    "deepnote_to_be_reexecuted": false,
    "source_hash": "d52be73d",
    "execution_start": 1621085641843,
    "execution_millis": 40,
    "deepnote_cell_type": "code"
   },
   "source": "# classification report for KMeans\nprint(classification_report(y_test, y_pred))",
   "outputs": [
    {
     "name": "stdout",
     "text": "              precision    recall  f1-score   support\n\n           0       0.77      0.45      0.57      4687\n           1       0.21      0.51      0.29      1313\n\n    accuracy                           0.47      6000\n   macro avg       0.49      0.48      0.43      6000\nweighted avg       0.64      0.47      0.51      6000\n\n",
     "output_type": "stream"
    }
   ],
   "execution_count": null
  },
  {
   "cell_type": "code",
   "metadata": {
    "tags": [],
    "cell_id": "00018-6cc7231c-c7a7-4b5c-bc68-def8593158be",
    "deepnote_to_be_reexecuted": false,
    "source_hash": "4e690cc3",
    "execution_start": 1621085641880,
    "execution_millis": 12,
    "deepnote_cell_type": "code"
   },
   "source": "from sklearn.neighbors import KNeighborsClassifier",
   "outputs": [],
   "execution_count": null
  },
  {
   "cell_type": "code",
   "metadata": {
    "tags": [],
    "cell_id": "00019-5a8c91bb-9160-4dfc-b317-ee1c6a48e6db",
    "deepnote_to_be_reexecuted": false,
    "source_hash": "bbb85591",
    "execution_start": 1621085641896,
    "execution_millis": 5722,
    "deepnote_cell_type": "code"
   },
   "source": "knn = KNeighborsClassifier(n_neighbors=3)\nknn.fit(X_train_scale, y_train)\nknn_pred = knn.predict(X_test_scale)",
   "outputs": [],
   "execution_count": null
  },
  {
   "cell_type": "code",
   "metadata": {
    "tags": [],
    "cell_id": "00020-a2ab5207-d3ff-46d1-8e8f-91b5fb2b409c",
    "deepnote_to_be_reexecuted": false,
    "source_hash": "6f8db6d6",
    "execution_start": 1621085647625,
    "execution_millis": 32,
    "deepnote_cell_type": "code"
   },
   "source": "kf1 = f1_score(y_test,knn_pred)\nkprec = precision_score(y_test,knn_pred)\nkrecall = recall_score(y_test,knn_pred)\nkacc = accuracy_score(y_test, knn_pred)\n\nprint(kf1)\nprint(kprec)\nprint(krecall)\nprint(kacc)",
   "outputs": [
    {
     "name": "stdout",
     "text": "0.43299869052815365\n0.5071574642126789\n0.37776085300837775\n0.7835\n",
     "output_type": "stream"
    }
   ],
   "execution_count": null
  },
  {
   "cell_type": "code",
   "metadata": {
    "tags": [],
    "cell_id": "00025-befcec9c-93f4-486f-932f-ebccd74544ff",
    "deepnote_to_be_reexecuted": false,
    "source_hash": "777b38a1",
    "execution_start": 1621085647654,
    "execution_millis": 337,
    "deepnote_cell_type": "code"
   },
   "source": "conf_mat = confusion_matrix(y_test, knn_pred)\n\nsns.heatmap(conf_mat, annot=True, fmt=\"d\", cmap=\"Purples\",\nxticklabels = ['Non-Default', 'Default'],\nyticklabels = ['Non-Default', 'Default'])\n\nplt.xlabel('Predicted')\nplt.ylabel('Actual')\nplt.title(\"Confusion Matrix of KNN (n=3)\")",
   "outputs": [
    {
     "output_type": "execute_result",
     "execution_count": 22,
     "data": {
      "text/plain": "Text(0.5, 1.0, 'Confusion Matrix of KNN (n=3)')"
     },
     "metadata": {}
    },
    {
     "data": {
      "text/plain": "<Figure size 432x288 with 2 Axes>",
      "image/png": "[encoded data removed]"
     },
     "metadata": {
      "needs_background": "light",
      "image/png": {
       "width": 373,
       "height": 278
      }
     },
     "output_type": "display_data"
    }
   ],
   "execution_count": null
  },
  {
   "cell_type": "code",
   "metadata": {
    "tags": [],
    "cell_id": "00027-6a12ff49-c36b-4cfa-9ca0-b30247382af2",
    "deepnote_to_be_reexecuted": false,
    "source_hash": "adab18b4",
    "execution_start": 1621085647989,
    "execution_millis": 36,
    "deepnote_cell_type": "code"
   },
   "source": "# classification report for KNN\nprint(classification_report(y_test, knn_pred))",
   "outputs": [
    {
     "name": "stdout",
     "text": "              precision    recall  f1-score   support\n\n           0       0.84      0.90      0.87      4687\n           1       0.51      0.38      0.43      1313\n\n    accuracy                           0.78      6000\n   macro avg       0.67      0.64      0.65      6000\nweighted avg       0.77      0.78      0.77      6000\n\n",
     "output_type": "stream"
    }
   ],
   "execution_count": null
  },
  {
   "cell_type": "code",
   "metadata": {
    "tags": [],
    "cell_id": "00024-0a9dba4a-18ba-4957-850b-2d04c5257cba",
    "deepnote_to_be_reexecuted": false,
    "source_hash": "7b4584b4",
    "execution_start": 1621085648023,
    "execution_millis": 362287,
    "deepnote_cell_type": "code"
   },
   "source": "from sklearn.model_selection import GridSearchCV\n\ngrid_params = {\n    'n_neighbors': [3,5,7,9,11,19],\n    'weights': ['uniform', 'distance'],\n    'metric': ['euclidean', 'manhattan']\n}\n\ngs = GridSearchCV(\n    KNeighborsClassifier(),\n    grid_params,\n    verbose = 1,\n    cv = 5,\n)\n\ngs_result = gs.fit(X_train_scale, y_train)",
   "outputs": [
    {
     "name": "stdout",
     "text": "Fitting 5 folds for each of 24 candidates, totalling 120 fits\n",
     "output_type": "stream"
    }
   ],
   "execution_count": null
  },
  {
   "cell_type": "code",
   "metadata": {
    "tags": [],
    "cell_id": "00025-651e8a26-713e-4c9a-ab76-4a85161daa59",
    "deepnote_to_be_reexecuted": false,
    "source_hash": "84eeacac",
    "execution_start": 1621086010310,
    "execution_millis": 9,
    "deepnote_cell_type": "code"
   },
   "source": "gs_result.best_params_",
   "outputs": [
    {
     "output_type": "execute_result",
     "execution_count": 25,
     "data": {
      "text/plain": "{'metric': 'manhattan', 'n_neighbors': 19, 'weights': 'uniform'}"
     },
     "metadata": {}
    }
   ],
   "execution_count": null
  },
  {
   "cell_type": "code",
   "metadata": {
    "tags": [],
    "cell_id": "00026-ef1f278f-03d4-4492-8e82-4d14568f9fea",
    "deepnote_to_be_reexecuted": false,
    "source_hash": "4290c95c",
    "execution_start": 1621086010311,
    "execution_millis": 3979,
    "deepnote_cell_type": "code"
   },
   "source": "new_knn = KNeighborsClassifier(metric= 'manhattan', n_neighbors = 19, weights= 'uniform')\nnew_knn.fit(X_train_scale, y_train)\nnew_pred = new_knn.predict(X_test_scale)",
   "outputs": [],
   "execution_count": null
  },
  {
   "cell_type": "code",
   "metadata": {
    "tags": [],
    "cell_id": "00027-3d8b5db8-7242-44d1-9a99-4b1b4bb2222a",
    "deepnote_to_be_reexecuted": false,
    "source_hash": "6a988793",
    "execution_start": 1621086014300,
    "execution_millis": 21,
    "deepnote_cell_type": "code"
   },
   "source": "nf1 = f1_score(y_test,new_pred)\nnprec = precision_score(y_test,new_pred)\nnrecall = recall_score(y_test,new_pred)\nnacc = accuracy_score(y_test, new_pred)\n\nprint(nf1)\nprint(nprec)\nprint(nrecall)\nprint(nacc)",
   "outputs": [
    {
     "name": "stdout",
     "text": "0.42056555269922885\n0.6471518987341772\n0.3115003808073115\n0.8121666666666667\n",
     "output_type": "stream"
    }
   ],
   "execution_count": null
  },
  {
   "cell_type": "code",
   "metadata": {
    "tags": [],
    "cell_id": "00031-987711cb-76fa-477f-b2d0-fe4bb6ac4adb",
    "deepnote_to_be_reexecuted": false,
    "source_hash": "62465f41",
    "execution_start": 1621086014367,
    "execution_millis": 204,
    "deepnote_cell_type": "code"
   },
   "source": "conf_mat = confusion_matrix(y_test, new_pred)\n\nsns.heatmap(conf_mat, annot=True, fmt=\"d\", cmap=\"Purples\",\nxticklabels = ['Non-Default', 'Default'],\nyticklabels = ['Non-Default', 'Default'])\n\nplt.xlabel('Predicted')\nplt.ylabel('Actual')\nplt.title(\"Confusion Matrix of tuned KNN\")",
   "outputs": [
    {
     "output_type": "execute_result",
     "execution_count": 28,
     "data": {
      "text/plain": "Text(0.5, 1.0, 'Confusion Matrix of tuned KNN')"
     },
     "metadata": {}
    },
    {
     "data": {
      "text/plain": "<Figure size 432x288 with 2 Axes>",
      "image/png": "[encoded data removed]"
     },
     "metadata": {
      "needs_background": "light",
      "image/png": {
       "width": 373,
       "height": 278
      }
     },
     "output_type": "display_data"
    }
   ],
   "execution_count": null
  },
  {
   "cell_type": "code",
   "metadata": {
    "tags": [],
    "cell_id": "00036-0c9d2b7f-c4c5-4b33-a988-3cf02326f8c1",
    "deepnote_to_be_reexecuted": false,
    "source_hash": "e05fe5af",
    "execution_start": 1621086014568,
    "execution_millis": 24,
    "deepnote_cell_type": "code"
   },
   "source": "# classification report for tuned KNN\nprint(classification_report(y_test, new_pred))",
   "outputs": [
    {
     "name": "stdout",
     "text": "              precision    recall  f1-score   support\n\n           0       0.83      0.95      0.89      4687\n           1       0.65      0.31      0.42      1313\n\n    accuracy                           0.81      6000\n   macro avg       0.74      0.63      0.65      6000\nweighted avg       0.79      0.81      0.79      6000\n\n",
     "output_type": "stream"
    }
   ],
   "execution_count": null
  },
  {
   "cell_type": "code",
   "metadata": {
    "tags": [],
    "cell_id": "00037-79a6126f-2d98-4566-8345-8a30c7e6fbaf",
    "deepnote_to_be_reexecuted": false,
    "source_hash": "b623e53d",
    "execution_start": 1621086014634,
    "execution_millis": 87092978,
    "deepnote_cell_type": "code"
   },
   "source": "",
   "outputs": [],
   "execution_count": null
  },
  {
   "cell_type": "markdown",
   "source": "<a style='text-decoration:none;line-height:16px;display:flex;color:#5B5B62;padding:10px;justify-content:end;' href='https://deepnote.com?utm_source=created-in-deepnote-cell&projectId=a2ef959e-644b-49ba-838b-a88868d44d86' target=\"_blank\">\n<img alt='Created in deepnote.com' style='display:inline;max-height:16px;margin:0px;margin-right:7.5px;' src='data:image/svg+xml;base64,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' > </img>\nCreated in <span style='font-weight:600;margin-left:4px;'>Deepnote</span></a>",
   "metadata": {
    "tags": [],
    "created_in_deepnote_cell": true,
    "deepnote_cell_type": "markdown"
   }
  }
 ],
 "nbformat": 4,
 "nbformat_minor": 2,
 "metadata": {
  "orig_nbformat": 2,
  "deepnote": {
   "is_reactive": false
  },
  "deepnote_notebook_id": "f39e65ad-7396-4278-9853-b9726cacf830",
  "deepnote_execution_queue": []
 }
}
