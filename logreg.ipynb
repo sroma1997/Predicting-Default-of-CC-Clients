{
 "cells": [
  {
   "cell_type": "code",
   "metadata": {
    "tags": [],
    "cell_id": "00000-66534063-0a27-409c-a39c-cf67fba12b6d",
    "deepnote_to_be_reexecuted": false,
    "source_hash": "cc725b73",
    "execution_start": 1621100771855,
    "execution_millis": 10,
    "deepnote_cell_type": "code"
   },
   "source": "import numpy as np\nimport seaborn as sns\nimport pandas as pd\nfrom sklearn.preprocessing import StandardScaler\nfrom sklearn.preprocessing import MinMaxScaler\nfrom sklearn.linear_model import LogisticRegression\nfrom sklearn.metrics import confusion_matrix\nimport sklearn.metrics as metrics\nfrom sklearn.metrics import precision_score\nfrom sklearn.metrics import recall_score\nfrom sklearn.metrics import f1_score, accuracy_score\nfrom sklearn.model_selection import train_test_split\nimport warnings\nwarnings.filterwarnings('ignore')\n%matplotlib inline\nimport matplotlib.pyplot as plt",
   "execution_count": 20,
   "outputs": []
  },
  {
   "cell_type": "code",
   "metadata": {
    "tags": [],
    "cell_id": "00001-7a232130-b5ea-49da-bcec-379818001c5d",
    "deepnote_to_be_reexecuted": false,
    "source_hash": "d90246b9",
    "execution_start": 1621100626449,
    "execution_millis": 4205,
    "deepnote_cell_type": "code"
   },
   "source": "df = pd.read_excel(\"default of credit card clients.xls\", index_col = 0, header=1, names=['ID','LIMIT_BAL','SEX','EDUCATION','MARRIAGE','AGE','PAY_0','PAY_2','PAY_3','PAY_4','PAY_5','PAY_6','BILL_AMT1','BILL_AMT2','BILL_AMT3','BILL_AMT4','BILL_AMT5','BILL_AMT6','PAY_AMT1','PAY_AMT2','PAY_AMT3','PAY_AMT4','PAY_AMT5','PAY_AMT6','default_payment_next_month'])",
   "execution_count": 3,
   "outputs": []
  },
  {
   "cell_type": "code",
   "metadata": {
    "tags": [],
    "cell_id": "00002-4a63b925-5d96-4b7c-8b40-d4c869fffde0",
    "deepnote_to_be_reexecuted": false,
    "source_hash": "f30f989a",
    "execution_start": 1621017838578,
    "execution_millis": 63,
    "deepnote_cell_type": "code"
   },
   "source": "df.head(10)",
   "execution_count": null,
   "outputs": [
    {
     "output_type": "execute_result",
     "execution_count": 3,
     "data": {
      "application/vnd.deepnote.dataframe.v2+json": {
       "row_count": 10,
       "column_count": 24,
       "columns": [
        {
         "name": "LIMIT_BAL",
         "dtype": "int64",
         "stats": {
          "unique_count": 7,
          "nan_count": 0,
          "min": "20000",
          "max": "500000",
          "histogram": [
           {
            "bin_start": 20000,
            "bin_end": 68000,
            "count": 5
           },
           {
            "bin_start": 68000,
            "bin_end": 116000,
            "count": 2
           },
           {
            "bin_start": 116000,
            "bin_end": 164000,
            "count": 2
           },
           {
            "bin_start": 164000,
            "bin_end": 212000,
            "count": 0
           },
           {
            "bin_start": 212000,
            "bin_end": 260000,
            "count": 0
           },
           {
            "bin_start": 260000,
            "bin_end": 308000,
            "count": 0
           },
           {
            "bin_start": 308000,
            "bin_end": 356000,
            "count": 0
           },
           {
            "bin_start": 356000,
            "bin_end": 404000,
            "count": 0
           },
           {
            "bin_start": 404000,
            "bin_end": 452000,
            "count": 0
           },
           {
            "bin_start": 452000,
            "bin_end": 500000,
            "count": 1
           }
          ]
         }
        },
        {
         "name": "SEX",
         "dtype": "int64",
         "stats": {
          "unique_count": 2,
          "nan_count": 0,
          "min": "1",
          "max": "2",
          "histogram": [
           {
            "bin_start": 1,
            "bin_end": 1.1,
            "count": 4
           },
           {
            "bin_start": 1.1,
            "bin_end": 1.2,
            "count": 0
           },
           {
            "bin_start": 1.2,
            "bin_end": 1.3,
            "count": 0
           },
           {
            "bin_start": 1.3,
            "bin_end": 1.4,
            "count": 0
           },
           {
            "bin_start": 1.4,
            "bin_end": 1.5,
            "count": 0
           },
           {
            "bin_start": 1.5,
            "bin_end": 1.6,
            "count": 0
           },
           {
            "bin_start": 1.6,
            "bin_end": 1.7000000000000002,
            "count": 0
           },
           {
            "bin_start": 1.7000000000000002,
            "bin_end": 1.8,
            "count": 0
           },
           {
            "bin_start": 1.8,
            "bin_end": 1.9,
            "count": 0
           },
           {
            "bin_start": 1.9,
            "bin_end": 2,
            "count": 6
           }
          ]
         }
        },
        {
         "name": "EDUCATION",
         "dtype": "int64",
         "stats": {
          "unique_count": 3,
          "nan_count": 0,
          "min": "1",
          "max": "3",
          "histogram": [
           {
            "bin_start": 1,
            "bin_end": 1.2,
            "count": 2
           },
           {
            "bin_start": 1.2,
            "bin_end": 1.4,
            "count": 0
           },
           {
            "bin_start": 1.4,
            "bin_end": 1.6,
            "count": 0
           },
           {
            "bin_start": 1.6,
            "bin_end": 1.8,
            "count": 0
           },
           {
            "bin_start": 1.8,
            "bin_end": 2,
            "count": 0
           },
           {
            "bin_start": 2,
            "bin_end": 2.2,
            "count": 6
           },
           {
            "bin_start": 2.2,
            "bin_end": 2.4000000000000004,
            "count": 0
           },
           {
            "bin_start": 2.4000000000000004,
            "bin_end": 2.6,
            "count": 0
           },
           {
            "bin_start": 2.6,
            "bin_end": 2.8,
            "count": 0
           },
           {
            "bin_start": 2.8,
            "bin_end": 3,
            "count": 2
           }
          ]
         }
        },
        {
         "name": "MARRIAGE",
         "dtype": "int64",
         "stats": {
          "unique_count": 2,
          "nan_count": 0,
          "min": "1",
          "max": "2",
          "histogram": [
           {
            "bin_start": 1,
            "bin_end": 1.1,
            "count": 4
           },
           {
            "bin_start": 1.1,
            "bin_end": 1.2,
            "count": 0
           },
           {
            "bin_start": 1.2,
            "bin_end": 1.3,
            "count": 0
           },
           {
            "bin_start": 1.3,
            "bin_end": 1.4,
            "count": 0
           },
           {
            "bin_start": 1.4,
            "bin_end": 1.5,
            "count": 0
           },
           {
            "bin_start": 1.5,
            "bin_end": 1.6,
            "count": 0
           },
           {
            "bin_start": 1.6,
            "bin_end": 1.7000000000000002,
            "count": 0
           },
           {
            "bin_start": 1.7000000000000002,
            "bin_end": 1.8,
            "count": 0
           },
           {
            "bin_start": 1.8,
            "bin_end": 1.9,
            "count": 0
           },
           {
            "bin_start": 1.9,
            "bin_end": 2,
            "count": 6
           }
          ]
         }
        },
        {
         "name": "AGE",
         "dtype": "int64",
         "stats": {
          "unique_count": 9,
          "nan_count": 0,
          "min": "23",
          "max": "57",
          "histogram": [
           {
            "bin_start": 23,
            "bin_end": 26.4,
            "count": 3
           },
           {
            "bin_start": 26.4,
            "bin_end": 29.8,
            "count": 2
           },
           {
            "bin_start": 29.8,
            "bin_end": 33.2,
            "count": 0
           },
           {
            "bin_start": 33.2,
            "bin_end": 36.6,
            "count": 2
           },
           {
            "bin_start": 36.6,
            "bin_end": 40,
            "count": 2
           },
           {
            "bin_start": 40,
            "bin_end": 43.4,
            "count": 0
           },
           {
            "bin_start": 43.4,
            "bin_end": 46.8,
            "count": 0
           },
           {
            "bin_start": 46.8,
            "bin_end": 50.2,
            "count": 0
           },
           {
            "bin_start": 50.2,
            "bin_end": 53.599999999999994,
            "count": 0
           },
           {
            "bin_start": 53.599999999999994,
            "bin_end": 57,
            "count": 1
           }
          ]
         }
        },
        {
         "name": "PAY_0",
         "dtype": "int64",
         "stats": {
          "unique_count": 4,
          "nan_count": 0,
          "min": "-2",
          "max": "2",
          "histogram": [
           {
            "bin_start": -2,
            "bin_end": -1.6,
            "count": 1
           },
           {
            "bin_start": -1.6,
            "bin_end": -1.2,
            "count": 0
           },
           {
            "bin_start": -1.2,
            "bin_end": -0.7999999999999998,
            "count": 2
           },
           {
            "bin_start": -0.7999999999999998,
            "bin_end": -0.3999999999999999,
            "count": 0
           },
           {
            "bin_start": -0.3999999999999999,
            "bin_end": 0,
            "count": 0
           },
           {
            "bin_start": 0,
            "bin_end": 0.40000000000000036,
            "count": 6
           },
           {
            "bin_start": 0.40000000000000036,
            "bin_end": 0.8000000000000003,
            "count": 0
           },
           {
            "bin_start": 0.8000000000000003,
            "bin_end": 1.2000000000000002,
            "count": 0
           },
           {
            "bin_start": 1.2000000000000002,
            "bin_end": 1.6,
            "count": 0
           },
           {
            "bin_start": 1.6,
            "bin_end": 2,
            "count": 1
           }
          ]
         }
        },
        {
         "name": "PAY_2",
         "dtype": "int64",
         "stats": {
          "unique_count": 4,
          "nan_count": 0,
          "min": "-2",
          "max": "2",
          "histogram": [
           {
            "bin_start": -2,
            "bin_end": -1.6,
            "count": 1
           },
           {
            "bin_start": -1.6,
            "bin_end": -1.2,
            "count": 0
           },
           {
            "bin_start": -1.2,
            "bin_end": -0.7999999999999998,
            "count": 1
           },
           {
            "bin_start": -0.7999999999999998,
            "bin_end": -0.3999999999999999,
            "count": 0
           },
           {
            "bin_start": -0.3999999999999999,
            "bin_end": 0,
            "count": 0
           },
           {
            "bin_start": 0,
            "bin_end": 0.40000000000000036,
            "count": 6
           },
           {
            "bin_start": 0.40000000000000036,
            "bin_end": 0.8000000000000003,
            "count": 0
           },
           {
            "bin_start": 0.8000000000000003,
            "bin_end": 1.2000000000000002,
            "count": 0
           },
           {
            "bin_start": 1.2000000000000002,
            "bin_end": 1.6,
            "count": 0
           },
           {
            "bin_start": 1.6,
            "bin_end": 2,
            "count": 2
           }
          ]
         }
        },
        {
         "name": "PAY_3",
         "dtype": "int64",
         "stats": {
          "unique_count": 4,
          "nan_count": 0,
          "min": "-2",
          "max": "2",
          "histogram": [
           {
            "bin_start": -2,
            "bin_end": -1.6,
            "count": 1
           },
           {
            "bin_start": -1.6,
            "bin_end": -1.2,
            "count": 0
           },
           {
            "bin_start": -1.2,
            "bin_end": -0.7999999999999998,
            "count": 3
           },
           {
            "bin_start": -0.7999999999999998,
            "bin_end": -0.3999999999999999,
            "count": 0
           },
           {
            "bin_start": -0.3999999999999999,
            "bin_end": 0,
            "count": 0
           },
           {
            "bin_start": 0,
            "bin_end": 0.40000000000000036,
            "count": 5
           },
           {
            "bin_start": 0.40000000000000036,
            "bin_end": 0.8000000000000003,
            "count": 0
           },
           {
            "bin_start": 0.8000000000000003,
            "bin_end": 1.2000000000000002,
            "count": 0
           },
           {
            "bin_start": 1.2000000000000002,
            "bin_end": 1.6,
            "count": 0
           },
           {
            "bin_start": 1.6,
            "bin_end": 2,
            "count": 1
           }
          ]
         }
        },
        {
         "name": "PAY_4",
         "dtype": "int64",
         "stats": {
          "unique_count": 3,
          "nan_count": 0,
          "min": "-2",
          "max": "0",
          "histogram": [
           {
            "bin_start": -2,
            "bin_end": -1.8,
            "count": 1
           },
           {
            "bin_start": -1.8,
            "bin_end": -1.6,
            "count": 0
           },
           {
            "bin_start": -1.6,
            "bin_end": -1.4,
            "count": 0
           },
           {
            "bin_start": -1.4,
            "bin_end": -1.2,
            "count": 0
           },
           {
            "bin_start": -1.2,
            "bin_end": -1,
            "count": 0
           },
           {
            "bin_start": -1,
            "bin_end": -0.7999999999999998,
            "count": 1
           },
           {
            "bin_start": -0.7999999999999998,
            "bin_end": -0.5999999999999999,
            "count": 0
           },
           {
            "bin_start": -0.5999999999999999,
            "bin_end": -0.3999999999999999,
            "count": 0
           },
           {
            "bin_start": -0.3999999999999999,
            "bin_end": -0.19999999999999996,
            "count": 0
           },
           {
            "bin_start": -0.19999999999999996,
            "bin_end": 0,
            "count": 8
           }
          ]
         }
        },
        {
         "name": "PAY_5",
         "dtype": "int64",
         "stats": {
          "unique_count": 3,
          "nan_count": 0,
          "min": "-2",
          "max": "0",
          "histogram": [
           {
            "bin_start": -2,
            "bin_end": -1.8,
            "count": 1
           },
           {
            "bin_start": -1.8,
            "bin_end": -1.6,
            "count": 0
           },
           {
            "bin_start": -1.6,
            "bin_end": -1.4,
            "count": 0
           },
           {
            "bin_start": -1.4,
            "bin_end": -1.2,
            "count": 0
           },
           {
            "bin_start": -1.2,
            "bin_end": -1,
            "count": 0
           },
           {
            "bin_start": -1,
            "bin_end": -0.7999999999999998,
            "count": 1
           },
           {
            "bin_start": -0.7999999999999998,
            "bin_end": -0.5999999999999999,
            "count": 0
           },
           {
            "bin_start": -0.5999999999999999,
            "bin_end": -0.3999999999999999,
            "count": 0
           },
           {
            "bin_start": -0.3999999999999999,
            "bin_end": -0.19999999999999996,
            "count": 0
           },
           {
            "bin_start": -0.19999999999999996,
            "bin_end": 0,
            "count": 8
           }
          ]
         }
        },
        {
         "name": "PAY_6",
         "dtype": "int64",
         "stats": {
          "unique_count": 4,
          "nan_count": 0,
          "min": "-2",
          "max": "2",
          "histogram": [
           {
            "bin_start": -2,
            "bin_end": -1.6,
            "count": 1
           },
           {
            "bin_start": -1.6,
            "bin_end": -1.2,
            "count": 0
           },
           {
            "bin_start": -1.2,
            "bin_end": -0.7999999999999998,
            "count": 2
           },
           {
            "bin_start": -0.7999999999999998,
            "bin_end": -0.3999999999999999,
            "count": 0
           },
           {
            "bin_start": -0.3999999999999999,
            "bin_end": 0,
            "count": 0
           },
           {
            "bin_start": 0,
            "bin_end": 0.40000000000000036,
            "count": 6
           },
           {
            "bin_start": 0.40000000000000036,
            "bin_end": 0.8000000000000003,
            "count": 0
           },
           {
            "bin_start": 0.8000000000000003,
            "bin_end": 1.2000000000000002,
            "count": 0
           },
           {
            "bin_start": 1.2000000000000002,
            "bin_end": 1.6,
            "count": 0
           },
           {
            "bin_start": 1.6,
            "bin_end": 2,
            "count": 1
           }
          ]
         }
        },
        {
         "name": "BILL_AMT1",
         "dtype": "int64",
         "stats": {
          "unique_count": 10,
          "nan_count": 0,
          "min": "0",
          "max": "367965",
          "histogram": [
           {
            "bin_start": 0,
            "bin_end": 36796.5,
            "count": 7
           },
           {
            "bin_start": 36796.5,
            "bin_end": 73593,
            "count": 2
           },
           {
            "bin_start": 73593,
            "bin_end": 110389.5,
            "count": 0
           },
           {
            "bin_start": 110389.5,
            "bin_end": 147186,
            "count": 0
           },
           {
            "bin_start": 147186,
            "bin_end": 183982.5,
            "count": 0
           },
           {
            "bin_start": 183982.5,
            "bin_end": 220779,
            "count": 0
           },
           {
            "bin_start": 220779,
            "bin_end": 257575.5,
            "count": 0
           },
           {
            "bin_start": 257575.5,
            "bin_end": 294372,
            "count": 0
           },
           {
            "bin_start": 294372,
            "bin_end": 331168.5,
            "count": 0
           },
           {
            "bin_start": 331168.5,
            "bin_end": 367965,
            "count": 1
           }
          ]
         }
        },
        {
         "name": "BILL_AMT2",
         "dtype": "int64",
         "stats": {
          "unique_count": 10,
          "nan_count": 0,
          "min": "0",
          "max": "412023",
          "histogram": [
           {
            "bin_start": 0,
            "bin_end": 41202.3,
            "count": 7
           },
           {
            "bin_start": 41202.3,
            "bin_end": 82404.6,
            "count": 2
           },
           {
            "bin_start": 82404.6,
            "bin_end": 123606.90000000001,
            "count": 0
           },
           {
            "bin_start": 123606.90000000001,
            "bin_end": 164809.2,
            "count": 0
           },
           {
            "bin_start": 164809.2,
            "bin_end": 206011.5,
            "count": 0
           },
           {
            "bin_start": 206011.5,
            "bin_end": 247213.80000000002,
            "count": 0
           },
           {
            "bin_start": 247213.80000000002,
            "bin_end": 288416.10000000003,
            "count": 0
           },
           {
            "bin_start": 288416.10000000003,
            "bin_end": 329618.4,
            "count": 0
           },
           {
            "bin_start": 329618.4,
            "bin_end": 370820.7,
            "count": 0
           },
           {
            "bin_start": 370820.7,
            "bin_end": 412023,
            "count": 1
           }
          ]
         }
        },
        {
         "name": "BILL_AMT3",
         "dtype": "int64",
         "stats": {
          "unique_count": 10,
          "nan_count": 0,
          "min": "0",
          "max": "445007",
          "histogram": [
           {
            "bin_start": 0,
            "bin_end": 44500.7,
            "count": 7
           },
           {
            "bin_start": 44500.7,
            "bin_end": 89001.4,
            "count": 2
           },
           {
            "bin_start": 89001.4,
            "bin_end": 133502.09999999998,
            "count": 0
           },
           {
            "bin_start": 133502.09999999998,
            "bin_end": 178002.8,
            "count": 0
           },
           {
            "bin_start": 178002.8,
            "bin_end": 222503.5,
            "count": 0
           },
           {
            "bin_start": 222503.5,
            "bin_end": 267004.19999999995,
            "count": 0
           },
           {
            "bin_start": 267004.19999999995,
            "bin_end": 311504.89999999997,
            "count": 0
           },
           {
            "bin_start": 311504.89999999997,
            "bin_end": 356005.6,
            "count": 0
           },
           {
            "bin_start": 356005.6,
            "bin_end": 400506.3,
            "count": 0
           },
           {
            "bin_start": 400506.3,
            "bin_end": 445007,
            "count": 1
           }
          ]
         }
        },
        {
         "name": "BILL_AMT4",
         "dtype": "int64",
         "stats": {
          "unique_count": 9,
          "nan_count": 0,
          "min": "0",
          "max": "542653",
          "histogram": [
           {
            "bin_start": 0,
            "bin_end": 54265.3,
            "count": 9
           },
           {
            "bin_start": 54265.3,
            "bin_end": 108530.6,
            "count": 0
           },
           {
            "bin_start": 108530.6,
            "bin_end": 162795.90000000002,
            "count": 0
           },
           {
            "bin_start": 162795.90000000002,
            "bin_end": 217061.2,
            "count": 0
           },
           {
            "bin_start": 217061.2,
            "bin_end": 271326.5,
            "count": 0
           },
           {
            "bin_start": 271326.5,
            "bin_end": 325591.80000000005,
            "count": 0
           },
           {
            "bin_start": 325591.80000000005,
            "bin_end": 379857.10000000003,
            "count": 0
           },
           {
            "bin_start": 379857.10000000003,
            "bin_end": 434122.4,
            "count": 0
           },
           {
            "bin_start": 434122.4,
            "bin_end": 488387.7,
            "count": 0
           },
           {
            "bin_start": 488387.7,
            "bin_end": 542653,
            "count": 1
           }
          ]
         }
        },
        {
         "name": "BILL_AMT5",
         "dtype": "int64",
         "stats": {
          "unique_count": 10,
          "nan_count": 0,
          "min": "-159",
          "max": "483003",
          "histogram": [
           {
            "bin_start": -159,
            "bin_end": 48157.2,
            "count": 9
           },
           {
            "bin_start": 48157.2,
            "bin_end": 96473.4,
            "count": 0
           },
           {
            "bin_start": 96473.4,
            "bin_end": 144789.59999999998,
            "count": 0
           },
           {
            "bin_start": 144789.59999999998,
            "bin_end": 193105.8,
            "count": 0
           },
           {
            "bin_start": 193105.8,
            "bin_end": 241422,
            "count": 0
           },
           {
            "bin_start": 241422,
            "bin_end": 289738.19999999995,
            "count": 0
           },
           {
            "bin_start": 289738.19999999995,
            "bin_end": 338054.39999999997,
            "count": 0
           },
           {
            "bin_start": 338054.39999999997,
            "bin_end": 386370.6,
            "count": 0
           },
           {
            "bin_start": 386370.6,
            "bin_end": 434686.8,
            "count": 0
           },
           {
            "bin_start": 434686.8,
            "bin_end": 483003,
            "count": 1
           }
          ]
         }
        },
        {
         "name": "BILL_AMT6",
         "dtype": "int64",
         "stats": {
          "unique_count": 10,
          "nan_count": 0,
          "min": "0",
          "max": "473944",
          "histogram": [
           {
            "bin_start": 0,
            "bin_end": 47394.4,
            "count": 9
           },
           {
            "bin_start": 47394.4,
            "bin_end": 94788.8,
            "count": 0
           },
           {
            "bin_start": 94788.8,
            "bin_end": 142183.2,
            "count": 0
           },
           {
            "bin_start": 142183.2,
            "bin_end": 189577.6,
            "count": 0
           },
           {
            "bin_start": 189577.6,
            "bin_end": 236972,
            "count": 0
           },
           {
            "bin_start": 236972,
            "bin_end": 284366.4,
            "count": 0
           },
           {
            "bin_start": 284366.4,
            "bin_end": 331760.8,
            "count": 0
           },
           {
            "bin_start": 331760.8,
            "bin_end": 379155.2,
            "count": 0
           },
           {
            "bin_start": 379155.2,
            "bin_end": 426549.60000000003,
            "count": 0
           },
           {
            "bin_start": 426549.60000000003,
            "bin_end": 473944,
            "count": 1
           }
          ]
         }
        },
        {
         "name": "PAY_AMT1",
         "dtype": "int64",
         "stats": {
          "unique_count": 7,
          "nan_count": 0,
          "min": "0",
          "max": "55000",
          "histogram": [
           {
            "bin_start": 0,
            "bin_end": 5500,
            "count": 9
           },
           {
            "bin_start": 5500,
            "bin_end": 11000,
            "count": 0
           },
           {
            "bin_start": 11000,
            "bin_end": 16500,
            "count": 0
           },
           {
            "bin_start": 16500,
            "bin_end": 22000,
            "count": 0
           },
           {
            "bin_start": 22000,
            "bin_end": 27500,
            "count": 0
           },
           {
            "bin_start": 27500,
            "bin_end": 33000,
            "count": 0
           },
           {
            "bin_start": 33000,
            "bin_end": 38500,
            "count": 0
           },
           {
            "bin_start": 38500,
            "bin_end": 44000,
            "count": 0
           },
           {
            "bin_start": 44000,
            "bin_end": 49500,
            "count": 0
           },
           {
            "bin_start": 49500,
            "bin_end": 55000,
            "count": 1
           }
          ]
         }
        },
        {
         "name": "PAY_AMT2",
         "dtype": "int64",
         "stats": {
          "unique_count": 9,
          "nan_count": 0,
          "min": "0",
          "max": "40000",
          "histogram": [
           {
            "bin_start": 0,
            "bin_end": 4000,
            "count": 8
           },
           {
            "bin_start": 4000,
            "bin_end": 8000,
            "count": 0
           },
           {
            "bin_start": 8000,
            "bin_end": 12000,
            "count": 0
           },
           {
            "bin_start": 12000,
            "bin_end": 16000,
            "count": 0
           },
           {
            "bin_start": 16000,
            "bin_end": 20000,
            "count": 0
           },
           {
            "bin_start": 20000,
            "bin_end": 24000,
            "count": 0
           },
           {
            "bin_start": 24000,
            "bin_end": 28000,
            "count": 0
           },
           {
            "bin_start": 28000,
            "bin_end": 32000,
            "count": 0
           },
           {
            "bin_start": 32000,
            "bin_end": 36000,
            "count": 0
           },
           {
            "bin_start": 36000,
            "bin_end": 40000,
            "count": 2
           }
          ]
         }
        },
        {
         "name": "PAY_AMT3",
         "dtype": "int64",
         "stats": {
          "unique_count": 7,
          "nan_count": 0,
          "min": "0",
          "max": "38000",
          "histogram": [
           {
            "bin_start": 0,
            "bin_end": 3800,
            "count": 8
           },
           {
            "bin_start": 3800,
            "bin_end": 7600,
            "count": 0
           },
           {
            "bin_start": 7600,
            "bin_end": 11400,
            "count": 1
           },
           {
            "bin_start": 11400,
            "bin_end": 15200,
            "count": 0
           },
           {
            "bin_start": 15200,
            "bin_end": 19000,
            "count": 0
           },
           {
            "bin_start": 19000,
            "bin_end": 22800,
            "count": 0
           },
           {
            "bin_start": 22800,
            "bin_end": 26600,
            "count": 0
           },
           {
            "bin_start": 26600,
            "bin_end": 30400,
            "count": 0
           },
           {
            "bin_start": 30400,
            "bin_end": 34200,
            "count": 0
           },
           {
            "bin_start": 34200,
            "bin_end": 38000,
            "count": 1
           }
          ]
         }
        },
        {
         "name": "PAY_AMT4",
         "dtype": "int64",
         "stats": {
          "unique_count": 7,
          "nan_count": 0,
          "min": "0",
          "max": "20239",
          "histogram": [
           {
            "bin_start": 0,
            "bin_end": 2023.9,
            "count": 7
           },
           {
            "bin_start": 2023.9,
            "bin_end": 4047.8,
            "count": 0
           },
           {
            "bin_start": 4047.8,
            "bin_end": 6071.700000000001,
            "count": 0
           },
           {
            "bin_start": 6071.700000000001,
            "bin_end": 8095.6,
            "count": 0
           },
           {
            "bin_start": 8095.6,
            "bin_end": 10119.5,
            "count": 1
           },
           {
            "bin_start": 10119.5,
            "bin_end": 12143.400000000001,
            "count": 0
           },
           {
            "bin_start": 12143.400000000001,
            "bin_end": 14167.300000000001,
            "count": 1
           },
           {
            "bin_start": 14167.300000000001,
            "bin_end": 16191.2,
            "count": 0
           },
           {
            "bin_start": 16191.2,
            "bin_end": 18215.100000000002,
            "count": 0
           },
           {
            "bin_start": 18215.100000000002,
            "bin_end": 20239,
            "count": 1
           }
          ]
         }
        },
        {
         "name": "PAY_AMT5",
         "dtype": "int64",
         "stats": {
          "unique_count": 7,
          "nan_count": 0,
          "min": "0",
          "max": "13750",
          "histogram": [
           {
            "bin_start": 0,
            "bin_end": 1375,
            "count": 8
           },
           {
            "bin_start": 1375,
            "bin_end": 2750,
            "count": 1
           },
           {
            "bin_start": 2750,
            "bin_end": 4125,
            "count": 0
           },
           {
            "bin_start": 4125,
            "bin_end": 5500,
            "count": 0
           },
           {
            "bin_start": 5500,
            "bin_end": 6875,
            "count": 0
           },
           {
            "bin_start": 6875,
            "bin_end": 8250,
            "count": 0
           },
           {
            "bin_start": 8250,
            "bin_end": 9625,
            "count": 0
           },
           {
            "bin_start": 9625,
            "bin_end": 11000,
            "count": 0
           },
           {
            "bin_start": 11000,
            "bin_end": 12375,
            "count": 0
           },
           {
            "bin_start": 12375,
            "bin_end": 13750,
            "count": 1
           }
          ]
         }
        },
        {
         "name": "PAY_AMT6",
         "dtype": "int64",
         "stats": {
          "unique_count": 8,
          "nan_count": 0,
          "min": "0",
          "max": "13770",
          "histogram": [
           {
            "bin_start": 0,
            "bin_end": 1377,
            "count": 6
           },
           {
            "bin_start": 1377,
            "bin_end": 2754,
            "count": 2
           },
           {
            "bin_start": 2754,
            "bin_end": 4131,
            "count": 0
           },
           {
            "bin_start": 4131,
            "bin_end": 5508,
            "count": 1
           },
           {
            "bin_start": 5508,
            "bin_end": 6885,
            "count": 0
           },
           {
            "bin_start": 6885,
            "bin_end": 8262,
            "count": 0
           },
           {
            "bin_start": 8262,
            "bin_end": 9639,
            "count": 0
           },
           {
            "bin_start": 9639,
            "bin_end": 11016,
            "count": 0
           },
           {
            "bin_start": 11016,
            "bin_end": 12393,
            "count": 0
           },
           {
            "bin_start": 12393,
            "bin_end": 13770,
            "count": 1
           }
          ]
         }
        },
        {
         "name": "default_payment_next_month",
         "dtype": "int64",
         "stats": {
          "unique_count": 2,
          "nan_count": 0,
          "min": "0",
          "max": "1",
          "histogram": [
           {
            "bin_start": 0,
            "bin_end": 0.1,
            "count": 8
           },
           {
            "bin_start": 0.1,
            "bin_end": 0.2,
            "count": 0
           },
           {
            "bin_start": 0.2,
            "bin_end": 0.30000000000000004,
            "count": 0
           },
           {
            "bin_start": 0.30000000000000004,
            "bin_end": 0.4,
            "count": 0
           },
           {
            "bin_start": 0.4,
            "bin_end": 0.5,
            "count": 0
           },
           {
            "bin_start": 0.5,
            "bin_end": 0.6000000000000001,
            "count": 0
           },
           {
            "bin_start": 0.6000000000000001,
            "bin_end": 0.7000000000000001,
            "count": 0
           },
           {
            "bin_start": 0.7000000000000001,
            "bin_end": 0.8,
            "count": 0
           },
           {
            "bin_start": 0.8,
            "bin_end": 0.9,
            "count": 0
           },
           {
            "bin_start": 0.9,
            "bin_end": 1,
            "count": 2
           }
          ]
         }
        },
        {
         "name": "_deepnote_index_column",
         "dtype": "int64"
        }
       ],
       "rows_top": [
        {
         "LIMIT_BAL": 20000,
         "SEX": 2,
         "EDUCATION": 2,
         "MARRIAGE": 1,
         "AGE": 24,
         "PAY_0": 2,
         "PAY_2": 2,
         "PAY_3": -1,
         "PAY_4": -1,
         "PAY_5": -2,
         "PAY_6": -2,
         "BILL_AMT1": 3913,
         "BILL_AMT2": 3102,
         "BILL_AMT3": 689,
         "BILL_AMT4": 0,
         "BILL_AMT5": 0,
         "BILL_AMT6": 0,
         "PAY_AMT1": 0,
         "PAY_AMT2": 689,
         "PAY_AMT3": 0,
         "PAY_AMT4": 0,
         "PAY_AMT5": 0,
         "PAY_AMT6": 0,
         "default_payment_next_month": 1,
         "_deepnote_index_column": 1
        },
        {
         "LIMIT_BAL": 120000,
         "SEX": 2,
         "EDUCATION": 2,
         "MARRIAGE": 2,
         "AGE": 26,
         "PAY_0": -1,
         "PAY_2": 2,
         "PAY_3": 0,
         "PAY_4": 0,
         "PAY_5": 0,
         "PAY_6": 2,
         "BILL_AMT1": 2682,
         "BILL_AMT2": 1725,
         "BILL_AMT3": 2682,
         "BILL_AMT4": 3272,
         "BILL_AMT5": 3455,
         "BILL_AMT6": 3261,
         "PAY_AMT1": 0,
         "PAY_AMT2": 1000,
         "PAY_AMT3": 1000,
         "PAY_AMT4": 1000,
         "PAY_AMT5": 0,
         "PAY_AMT6": 2000,
         "default_payment_next_month": 1,
         "_deepnote_index_column": 2
        },
        {
         "LIMIT_BAL": 90000,
         "SEX": 2,
         "EDUCATION": 2,
         "MARRIAGE": 2,
         "AGE": 34,
         "PAY_0": 0,
         "PAY_2": 0,
         "PAY_3": 0,
         "PAY_4": 0,
         "PAY_5": 0,
         "PAY_6": 0,
         "BILL_AMT1": 29239,
         "BILL_AMT2": 14027,
         "BILL_AMT3": 13559,
         "BILL_AMT4": 14331,
         "BILL_AMT5": 14948,
         "BILL_AMT6": 15549,
         "PAY_AMT1": 1518,
         "PAY_AMT2": 1500,
         "PAY_AMT3": 1000,
         "PAY_AMT4": 1000,
         "PAY_AMT5": 1000,
         "PAY_AMT6": 5000,
         "default_payment_next_month": 0,
         "_deepnote_index_column": 3
        },
        {
         "LIMIT_BAL": 50000,
         "SEX": 2,
         "EDUCATION": 2,
         "MARRIAGE": 1,
         "AGE": 37,
         "PAY_0": 0,
         "PAY_2": 0,
         "PAY_3": 0,
         "PAY_4": 0,
         "PAY_5": 0,
         "PAY_6": 0,
         "BILL_AMT1": 46990,
         "BILL_AMT2": 48233,
         "BILL_AMT3": 49291,
         "BILL_AMT4": 28314,
         "BILL_AMT5": 28959,
         "BILL_AMT6": 29547,
         "PAY_AMT1": 2000,
         "PAY_AMT2": 2019,
         "PAY_AMT3": 1200,
         "PAY_AMT4": 1100,
         "PAY_AMT5": 1069,
         "PAY_AMT6": 1000,
         "default_payment_next_month": 0,
         "_deepnote_index_column": 4
        },
        {
         "LIMIT_BAL": 50000,
         "SEX": 1,
         "EDUCATION": 2,
         "MARRIAGE": 1,
         "AGE": 57,
         "PAY_0": -1,
         "PAY_2": 0,
         "PAY_3": -1,
         "PAY_4": 0,
         "PAY_5": 0,
         "PAY_6": 0,
         "BILL_AMT1": 8617,
         "BILL_AMT2": 5670,
         "BILL_AMT3": 35835,
         "BILL_AMT4": 20940,
         "BILL_AMT5": 19146,
         "BILL_AMT6": 19131,
         "PAY_AMT1": 2000,
         "PAY_AMT2": 36681,
         "PAY_AMT3": 10000,
         "PAY_AMT4": 9000,
         "PAY_AMT5": 689,
         "PAY_AMT6": 679,
         "default_payment_next_month": 0,
         "_deepnote_index_column": 5
        },
        {
         "LIMIT_BAL": 50000,
         "SEX": 1,
         "EDUCATION": 1,
         "MARRIAGE": 2,
         "AGE": 37,
         "PAY_0": 0,
         "PAY_2": 0,
         "PAY_3": 0,
         "PAY_4": 0,
         "PAY_5": 0,
         "PAY_6": 0,
         "BILL_AMT1": 64400,
         "BILL_AMT2": 57069,
         "BILL_AMT3": 57608,
         "BILL_AMT4": 19394,
         "BILL_AMT5": 19619,
         "BILL_AMT6": 20024,
         "PAY_AMT1": 2500,
         "PAY_AMT2": 1815,
         "PAY_AMT3": 657,
         "PAY_AMT4": 1000,
         "PAY_AMT5": 1000,
         "PAY_AMT6": 800,
         "default_payment_next_month": 0,
         "_deepnote_index_column": 6
        },
        {
         "LIMIT_BAL": 500000,
         "SEX": 1,
         "EDUCATION": 1,
         "MARRIAGE": 2,
         "AGE": 29,
         "PAY_0": 0,
         "PAY_2": 0,
         "PAY_3": 0,
         "PAY_4": 0,
         "PAY_5": 0,
         "PAY_6": 0,
         "BILL_AMT1": 367965,
         "BILL_AMT2": 412023,
         "BILL_AMT3": 445007,
         "BILL_AMT4": 542653,
         "BILL_AMT5": 483003,
         "BILL_AMT6": 473944,
         "PAY_AMT1": 55000,
         "PAY_AMT2": 40000,
         "PAY_AMT3": 38000,
         "PAY_AMT4": 20239,
         "PAY_AMT5": 13750,
         "PAY_AMT6": 13770,
         "default_payment_next_month": 0,
         "_deepnote_index_column": 7
        },
        {
         "LIMIT_BAL": 100000,
         "SEX": 2,
         "EDUCATION": 2,
         "MARRIAGE": 2,
         "AGE": 23,
         "PAY_0": 0,
         "PAY_2": -1,
         "PAY_3": -1,
         "PAY_4": 0,
         "PAY_5": 0,
         "PAY_6": -1,
         "BILL_AMT1": 11876,
         "BILL_AMT2": 380,
         "BILL_AMT3": 601,
         "BILL_AMT4": 221,
         "BILL_AMT5": -159,
         "BILL_AMT6": 567,
         "PAY_AMT1": 380,
         "PAY_AMT2": 601,
         "PAY_AMT3": 0,
         "PAY_AMT4": 581,
         "PAY_AMT5": 1687,
         "PAY_AMT6": 1542,
         "default_payment_next_month": 0,
         "_deepnote_index_column": 8
        },
        {
         "LIMIT_BAL": 140000,
         "SEX": 2,
         "EDUCATION": 3,
         "MARRIAGE": 1,
         "AGE": 28,
         "PAY_0": 0,
         "PAY_2": 0,
         "PAY_3": 2,
         "PAY_4": 0,
         "PAY_5": 0,
         "PAY_6": 0,
         "BILL_AMT1": 11285,
         "BILL_AMT2": 14096,
         "BILL_AMT3": 12108,
         "BILL_AMT4": 12211,
         "BILL_AMT5": 11793,
         "BILL_AMT6": 3719,
         "PAY_AMT1": 3329,
         "PAY_AMT2": 0,
         "PAY_AMT3": 432,
         "PAY_AMT4": 1000,
         "PAY_AMT5": 1000,
         "PAY_AMT6": 1000,
         "default_payment_next_month": 0,
         "_deepnote_index_column": 9
        },
        {
         "LIMIT_BAL": 20000,
         "SEX": 1,
         "EDUCATION": 3,
         "MARRIAGE": 2,
         "AGE": 35,
         "PAY_0": -2,
         "PAY_2": -2,
         "PAY_3": -2,
         "PAY_4": -2,
         "PAY_5": -1,
         "PAY_6": -1,
         "BILL_AMT1": 0,
         "BILL_AMT2": 0,
         "BILL_AMT3": 0,
         "BILL_AMT4": 0,
         "BILL_AMT5": 13007,
         "BILL_AMT6": 13912,
         "PAY_AMT1": 0,
         "PAY_AMT2": 0,
         "PAY_AMT3": 0,
         "PAY_AMT4": 13007,
         "PAY_AMT5": 1122,
         "PAY_AMT6": 0,
         "default_payment_next_month": 0,
         "_deepnote_index_column": 10
        }
       ],
       "rows_bottom": null
      },
      "text/plain": "    LIMIT_BAL  SEX  EDUCATION  MARRIAGE  AGE  PAY_0  PAY_2  PAY_3  PAY_4  \\\nID                                                                         \n1       20000    2          2         1   24      2      2     -1     -1   \n2      120000    2          2         2   26     -1      2      0      0   \n3       90000    2          2         2   34      0      0      0      0   \n4       50000    2          2         1   37      0      0      0      0   \n5       50000    1          2         1   57     -1      0     -1      0   \n6       50000    1          1         2   37      0      0      0      0   \n7      500000    1          1         2   29      0      0      0      0   \n8      100000    2          2         2   23      0     -1     -1      0   \n9      140000    2          3         1   28      0      0      2      0   \n10      20000    1          3         2   35     -2     -2     -2     -2   \n\n    PAY_5  ...  BILL_AMT4  BILL_AMT5  BILL_AMT6  PAY_AMT1  PAY_AMT2  PAY_AMT3  \\\nID         ...                                                                  \n1      -2  ...          0          0          0         0       689         0   \n2       0  ...       3272       3455       3261         0      1000      1000   \n3       0  ...      14331      14948      15549      1518      1500      1000   \n4       0  ...      28314      28959      29547      2000      2019      1200   \n5       0  ...      20940      19146      19131      2000     36681     10000   \n6       0  ...      19394      19619      20024      2500      1815       657   \n7       0  ...     542653     483003     473944     55000     40000     38000   \n8       0  ...        221       -159        567       380       601         0   \n9       0  ...      12211      11793       3719      3329         0       432   \n10     -1  ...          0      13007      13912         0         0         0   \n\n    PAY_AMT4  PAY_AMT5  PAY_AMT6  default_payment_next_month  \nID                                                            \n1          0         0         0                           1  \n2       1000         0      2000                           1  \n3       1000      1000      5000                           0  \n4       1100      1069      1000                           0  \n5       9000       689       679                           0  \n6       1000      1000       800                           0  \n7      20239     13750     13770                           0  \n8        581      1687      1542                           0  \n9       1000      1000      1000                           0  \n10     13007      1122         0                           0  \n\n[10 rows x 24 columns]",
      "text/html": "<div>\n<style scoped>\n    .dataframe tbody tr th:only-of-type {\n        vertical-align: middle;\n    }\n\n    .dataframe tbody tr th {\n        vertical-align: top;\n    }\n\n    .dataframe thead th {\n        text-align: right;\n    }\n</style>\n<table border=\"1\" class=\"dataframe\">\n  <thead>\n    <tr style=\"text-align: right;\">\n      <th></th>\n      <th>LIMIT_BAL</th>\n      <th>SEX</th>\n      <th>EDUCATION</th>\n      <th>MARRIAGE</th>\n      <th>AGE</th>\n      <th>PAY_0</th>\n      <th>PAY_2</th>\n      <th>PAY_3</th>\n      <th>PAY_4</th>\n      <th>PAY_5</th>\n      <th>...</th>\n      <th>BILL_AMT4</th>\n      <th>BILL_AMT5</th>\n      <th>BILL_AMT6</th>\n      <th>PAY_AMT1</th>\n      <th>PAY_AMT2</th>\n      <th>PAY_AMT3</th>\n      <th>PAY_AMT4</th>\n      <th>PAY_AMT5</th>\n      <th>PAY_AMT6</th>\n      <th>default_payment_next_month</th>\n    </tr>\n    <tr>\n      <th>ID</th>\n      <th></th>\n      <th></th>\n      <th></th>\n      <th></th>\n      <th></th>\n      <th></th>\n      <th></th>\n      <th></th>\n      <th></th>\n      <th></th>\n      <th></th>\n      <th></th>\n      <th></th>\n      <th></th>\n      <th></th>\n      <th></th>\n      <th></th>\n      <th></th>\n      <th></th>\n      <th></th>\n      <th></th>\n    </tr>\n  </thead>\n  <tbody>\n    <tr>\n      <th>1</th>\n      <td>20000</td>\n      <td>2</td>\n      <td>2</td>\n      <td>1</td>\n      <td>24</td>\n      <td>2</td>\n      <td>2</td>\n      <td>-1</td>\n      <td>-1</td>\n      <td>-2</td>\n      <td>...</td>\n      <td>0</td>\n      <td>0</td>\n      <td>0</td>\n      <td>0</td>\n      <td>689</td>\n      <td>0</td>\n      <td>0</td>\n      <td>0</td>\n      <td>0</td>\n      <td>1</td>\n    </tr>\n    <tr>\n      <th>2</th>\n      <td>120000</td>\n      <td>2</td>\n      <td>2</td>\n      <td>2</td>\n      <td>26</td>\n      <td>-1</td>\n      <td>2</td>\n      <td>0</td>\n      <td>0</td>\n      <td>0</td>\n      <td>...</td>\n      <td>3272</td>\n      <td>3455</td>\n      <td>3261</td>\n      <td>0</td>\n      <td>1000</td>\n      <td>1000</td>\n      <td>1000</td>\n      <td>0</td>\n      <td>2000</td>\n      <td>1</td>\n    </tr>\n    <tr>\n      <th>3</th>\n      <td>90000</td>\n      <td>2</td>\n      <td>2</td>\n      <td>2</td>\n      <td>34</td>\n      <td>0</td>\n      <td>0</td>\n      <td>0</td>\n      <td>0</td>\n      <td>0</td>\n      <td>...</td>\n      <td>14331</td>\n      <td>14948</td>\n      <td>15549</td>\n      <td>1518</td>\n      <td>1500</td>\n      <td>1000</td>\n      <td>1000</td>\n      <td>1000</td>\n      <td>5000</td>\n      <td>0</td>\n    </tr>\n    <tr>\n      <th>4</th>\n      <td>50000</td>\n      <td>2</td>\n      <td>2</td>\n      <td>1</td>\n      <td>37</td>\n      <td>0</td>\n      <td>0</td>\n      <td>0</td>\n      <td>0</td>\n      <td>0</td>\n      <td>...</td>\n      <td>28314</td>\n      <td>28959</td>\n      <td>29547</td>\n      <td>2000</td>\n      <td>2019</td>\n      <td>1200</td>\n      <td>1100</td>\n      <td>1069</td>\n      <td>1000</td>\n      <td>0</td>\n    </tr>\n    <tr>\n      <th>5</th>\n      <td>50000</td>\n      <td>1</td>\n      <td>2</td>\n      <td>1</td>\n      <td>57</td>\n      <td>-1</td>\n      <td>0</td>\n      <td>-1</td>\n      <td>0</td>\n      <td>0</td>\n      <td>...</td>\n      <td>20940</td>\n      <td>19146</td>\n      <td>19131</td>\n      <td>2000</td>\n      <td>36681</td>\n      <td>10000</td>\n      <td>9000</td>\n      <td>689</td>\n      <td>679</td>\n      <td>0</td>\n    </tr>\n    <tr>\n      <th>6</th>\n      <td>50000</td>\n      <td>1</td>\n      <td>1</td>\n      <td>2</td>\n      <td>37</td>\n      <td>0</td>\n      <td>0</td>\n      <td>0</td>\n      <td>0</td>\n      <td>0</td>\n      <td>...</td>\n      <td>19394</td>\n      <td>19619</td>\n      <td>20024</td>\n      <td>2500</td>\n      <td>1815</td>\n      <td>657</td>\n      <td>1000</td>\n      <td>1000</td>\n      <td>800</td>\n      <td>0</td>\n    </tr>\n    <tr>\n      <th>7</th>\n      <td>500000</td>\n      <td>1</td>\n      <td>1</td>\n      <td>2</td>\n      <td>29</td>\n      <td>0</td>\n      <td>0</td>\n      <td>0</td>\n      <td>0</td>\n      <td>0</td>\n      <td>...</td>\n      <td>542653</td>\n      <td>483003</td>\n      <td>473944</td>\n      <td>55000</td>\n      <td>40000</td>\n      <td>38000</td>\n      <td>20239</td>\n      <td>13750</td>\n      <td>13770</td>\n      <td>0</td>\n    </tr>\n    <tr>\n      <th>8</th>\n      <td>100000</td>\n      <td>2</td>\n      <td>2</td>\n      <td>2</td>\n      <td>23</td>\n      <td>0</td>\n      <td>-1</td>\n      <td>-1</td>\n      <td>0</td>\n      <td>0</td>\n      <td>...</td>\n      <td>221</td>\n      <td>-159</td>\n      <td>567</td>\n      <td>380</td>\n      <td>601</td>\n      <td>0</td>\n      <td>581</td>\n      <td>1687</td>\n      <td>1542</td>\n      <td>0</td>\n    </tr>\n    <tr>\n      <th>9</th>\n      <td>140000</td>\n      <td>2</td>\n      <td>3</td>\n      <td>1</td>\n      <td>28</td>\n      <td>0</td>\n      <td>0</td>\n      <td>2</td>\n      <td>0</td>\n      <td>0</td>\n      <td>...</td>\n      <td>12211</td>\n      <td>11793</td>\n      <td>3719</td>\n      <td>3329</td>\n      <td>0</td>\n      <td>432</td>\n      <td>1000</td>\n      <td>1000</td>\n      <td>1000</td>\n      <td>0</td>\n    </tr>\n    <tr>\n      <th>10</th>\n      <td>20000</td>\n      <td>1</td>\n      <td>3</td>\n      <td>2</td>\n      <td>35</td>\n      <td>-2</td>\n      <td>-2</td>\n      <td>-2</td>\n      <td>-2</td>\n      <td>-1</td>\n      <td>...</td>\n      <td>0</td>\n      <td>13007</td>\n      <td>13912</td>\n      <td>0</td>\n      <td>0</td>\n      <td>0</td>\n      <td>13007</td>\n      <td>1122</td>\n      <td>0</td>\n      <td>0</td>\n    </tr>\n  </tbody>\n</table>\n<p>10 rows × 24 columns</p>\n</div>"
     },
     "metadata": {}
    }
   ]
  },
  {
   "cell_type": "code",
   "metadata": {
    "tags": [],
    "cell_id": "00003-3f586bd7-91a7-45e8-8301-fe3745fe4e03",
    "deepnote_to_be_reexecuted": false,
    "source_hash": "22da324f",
    "execution_start": 1621017838638,
    "execution_millis": 12,
    "deepnote_cell_type": "code"
   },
   "source": "df['MARRIAGE'].value_counts().head(10)",
   "execution_count": null,
   "outputs": [
    {
     "output_type": "execute_result",
     "execution_count": 4,
     "data": {
      "text/plain": "2    15964\n1    13659\n3      323\n0       54\nName: MARRIAGE, dtype: int64"
     },
     "metadata": {}
    }
   ]
  },
  {
   "cell_type": "code",
   "metadata": {
    "tags": [],
    "cell_id": "00004-c04388dd-ebd6-4811-b3d4-b51d19f76463",
    "deepnote_to_be_reexecuted": false,
    "source_hash": "1db002bb",
    "execution_start": 1621017838647,
    "execution_millis": 7,
    "deepnote_cell_type": "code"
   },
   "source": "df['SEX'].value_counts().head(10)",
   "execution_count": null,
   "outputs": [
    {
     "output_type": "execute_result",
     "execution_count": 5,
     "data": {
      "text/plain": "2    18112\n1    11888\nName: SEX, dtype: int64"
     },
     "metadata": {}
    }
   ]
  },
  {
   "cell_type": "code",
   "metadata": {
    "tags": [],
    "cell_id": "00005-0aee3abc-c256-44c5-80a9-cbc0d38f6729",
    "deepnote_to_be_reexecuted": false,
    "source_hash": "e242105",
    "execution_start": 1621100635256,
    "execution_millis": 22,
    "deepnote_cell_type": "code"
   },
   "source": "#combining values for certain education numbers \ndf.loc[df['EDUCATION'] == 0, 'EDUCATION'] = 4\ndf.loc[df['EDUCATION'] == 5, 'EDUCATION'] = 4\ndf.loc[df['EDUCATION'] == 6, 'EDUCATION'] = 4\n\ndf['EDUCATION'].value_counts().head(10)",
   "execution_count": 4,
   "outputs": [
    {
     "output_type": "execute_result",
     "execution_count": 4,
     "data": {
      "text/plain": "2    14030\n1    10585\n3     4917\n4      468\nName: EDUCATION, dtype: int64"
     },
     "metadata": {}
    }
   ]
  },
  {
   "cell_type": "code",
   "metadata": {
    "tags": [],
    "cell_id": "00004-1d336295-ed8a-47fa-b9aa-d51c2424a3ca",
    "deepnote_to_be_reexecuted": false,
    "source_hash": "35809e90",
    "execution_start": 1621100637116,
    "execution_millis": 25,
    "deepnote_cell_type": "code"
   },
   "source": "print(df.shape)",
   "execution_count": 5,
   "outputs": [
    {
     "name": "stdout",
     "text": "(30000, 24)\n",
     "output_type": "stream"
    }
   ]
  },
  {
   "cell_type": "code",
   "metadata": {
    "tags": [],
    "cell_id": "00005-05768a00-ab38-464d-9270-2d481847ec89",
    "deepnote_to_be_reexecuted": false,
    "source_hash": "de1e323c",
    "execution_start": 1621100638927,
    "execution_millis": 26,
    "deepnote_cell_type": "code"
   },
   "source": "df.info()",
   "execution_count": 6,
   "outputs": [
    {
     "name": "stdout",
     "text": "<class 'pandas.core.frame.DataFrame'>\nInt64Index: 30000 entries, 1 to 30000\nData columns (total 24 columns):\n #   Column                      Non-Null Count  Dtype\n---  ------                      --------------  -----\n 0   LIMIT_BAL                   30000 non-null  int64\n 1   SEX                         30000 non-null  int64\n 2   EDUCATION                   30000 non-null  int64\n 3   MARRIAGE                    30000 non-null  int64\n 4   AGE                         30000 non-null  int64\n 5   PAY_0                       30000 non-null  int64\n 6   PAY_2                       30000 non-null  int64\n 7   PAY_3                       30000 non-null  int64\n 8   PAY_4                       30000 non-null  int64\n 9   PAY_5                       30000 non-null  int64\n 10  PAY_6                       30000 non-null  int64\n 11  BILL_AMT1                   30000 non-null  int64\n 12  BILL_AMT2                   30000 non-null  int64\n 13  BILL_AMT3                   30000 non-null  int64\n 14  BILL_AMT4                   30000 non-null  int64\n 15  BILL_AMT5                   30000 non-null  int64\n 16  BILL_AMT6                   30000 non-null  int64\n 17  PAY_AMT1                    30000 non-null  int64\n 18  PAY_AMT2                    30000 non-null  int64\n 19  PAY_AMT3                    30000 non-null  int64\n 20  PAY_AMT4                    30000 non-null  int64\n 21  PAY_AMT5                    30000 non-null  int64\n 22  PAY_AMT6                    30000 non-null  int64\n 23  default_payment_next_month  30000 non-null  int64\ndtypes: int64(24)\nmemory usage: 5.7 MB\n",
     "output_type": "stream"
    }
   ]
  },
  {
   "cell_type": "code",
   "metadata": {
    "tags": [],
    "cell_id": "00006-fe609c9a-75b3-419a-917d-ea10c3a2e894",
    "deepnote_to_be_reexecuted": false,
    "source_hash": "2c87804b",
    "execution_start": 1621100642719,
    "execution_millis": 22,
    "deepnote_cell_type": "code"
   },
   "source": "#checking for null values\ndf.isnull().sum()",
   "execution_count": 7,
   "outputs": [
    {
     "output_type": "execute_result",
     "execution_count": 7,
     "data": {
      "text/plain": "LIMIT_BAL                     0\nSEX                           0\nEDUCATION                     0\nMARRIAGE                      0\nAGE                           0\nPAY_0                         0\nPAY_2                         0\nPAY_3                         0\nPAY_4                         0\nPAY_5                         0\nPAY_6                         0\nBILL_AMT1                     0\nBILL_AMT2                     0\nBILL_AMT3                     0\nBILL_AMT4                     0\nBILL_AMT5                     0\nBILL_AMT6                     0\nPAY_AMT1                      0\nPAY_AMT2                      0\nPAY_AMT3                      0\nPAY_AMT4                      0\nPAY_AMT5                      0\nPAY_AMT6                      0\ndefault_payment_next_month    0\ndtype: int64"
     },
     "metadata": {}
    }
   ]
  },
  {
   "cell_type": "code",
   "metadata": {
    "tags": [],
    "cell_id": "00009-6b856930-352a-4e85-8adc-04e87635facc",
    "deepnote_to_be_reexecuted": false,
    "source_hash": "8f31bcd",
    "execution_start": 1621100645195,
    "execution_millis": 18,
    "deepnote_cell_type": "code"
   },
   "source": "# Onehot encoding using pandas get_dummies. \nonehot_columns = ['SEX','EDUCATION','MARRIAGE']\ndf = pd.get_dummies(df, columns = onehot_columns)",
   "execution_count": 8,
   "outputs": []
  },
  {
   "cell_type": "code",
   "metadata": {
    "tags": [],
    "cell_id": "00010-27c22d52-bd81-45ef-88e4-3ae1be59def9",
    "deepnote_to_be_reexecuted": false,
    "source_hash": "4030b49",
    "execution_start": 1621017838718,
    "execution_millis": 5425,
    "deepnote_cell_type": "code"
   },
   "source": "corr = df.corr(method='pearson').round(2)\n\nmask = np.zeros_like(corr)\nmask[np.triu_indices_from(mask)] = True\n\nf, ax = plt.subplots(figsize=(17, 17))\n\nc_map = sns.diverging_palette(220, 10, as_cmap=True)\n\nsns.heatmap(corr, mask=mask, cmap=c_map, vmin=-1, vmax=1, center=0,\n            square=True, linewidths=.5, cbar_kws={\"shrink\": .6}, annot=True)\n\nplt.tight_layout()",
   "execution_count": null,
   "outputs": [
    {
     "data": {
      "text/plain": "<Figure size 1224x1224 with 2 Axes>",
      "image/png": "[encoded data removed]"
     },
     "metadata": {
      "needs_background": "light",
      "image/png": {
       "width": 1131,
       "height": 1007
      }
     },
     "output_type": "display_data"
    }
   ]
  },
  {
   "cell_type": "code",
   "metadata": {
    "tags": [],
    "cell_id": "00011-b0c0f4b9-ea78-4658-9574-2556023feebc",
    "deepnote_to_be_reexecuted": false,
    "source_hash": "a982f5be",
    "execution_start": 1621100650808,
    "execution_millis": 12,
    "deepnote_cell_type": "code"
   },
   "source": "#bill Amounts are highly correlated\ndf.drop(['BILL_AMT2'], axis = 1, inplace = True)\ndf.drop(['BILL_AMT3'], axis = 1, inplace = True)\ndf.drop(['BILL_AMT4'], axis = 1, inplace = True)\ndf.drop(['BILL_AMT5'], axis = 1, inplace = True)\ndf.drop(['BILL_AMT6'], axis = 1, inplace = True)",
   "execution_count": 9,
   "outputs": []
  },
  {
   "cell_type": "code",
   "metadata": {
    "tags": [],
    "cell_id": "00012-8b610313-d010-4645-9c4a-975097a9a0d2",
    "deepnote_to_be_reexecuted": false,
    "source_hash": "46313879",
    "execution_start": 1621100653040,
    "execution_millis": 40,
    "deepnote_cell_type": "code"
   },
   "source": "#train test split\ny = df['default_payment_next_month']\nX = df.drop(['default_payment_next_month'], axis = 1) \n\nX_train,X_test,y_train,y_test=train_test_split(X,y,test_size=0.2,random_state=42)",
   "execution_count": 10,
   "outputs": []
  },
  {
   "cell_type": "code",
   "metadata": {
    "tags": [],
    "cell_id": "00014-e142cf67-15fc-40ef-a52b-4cd0cc7635d7",
    "deepnote_to_be_reexecuted": false,
    "source_hash": "63a6edb2",
    "execution_start": 1621100654801,
    "execution_millis": 59,
    "deepnote_cell_type": "code"
   },
   "source": "# apply MinMaxScaler on train data\nscaler = MinMaxScaler()\nscaler.fit(X_train)\nX_train_scale = scaler.transform(X_train)\nX_test_scale = scaler.transform(X_test)",
   "execution_count": 11,
   "outputs": []
  },
  {
   "cell_type": "code",
   "metadata": {
    "tags": [],
    "cell_id": "00014-b2049db3-7425-4be0-83b0-ee3c4e2fa449",
    "deepnote_to_be_reexecuted": false,
    "source_hash": "4ceb5174",
    "execution_start": 1621100780409,
    "execution_millis": 753,
    "deepnote_cell_type": "code"
   },
   "source": "#create log regression model\nmodel = LogisticRegression()\nmodel.fit(X_train_scale,y_train)\npredictions = model.predict(X_test_scale)",
   "execution_count": 21,
   "outputs": []
  },
  {
   "cell_type": "code",
   "metadata": {
    "tags": [],
    "cell_id": "00015-4fcf47b2-9dfd-4eb9-ae20-803d1c75fab9",
    "deepnote_to_be_reexecuted": false,
    "source_hash": "b0df715c",
    "execution_start": 1621100660492,
    "execution_millis": 29,
    "deepnote_cell_type": "code"
   },
   "source": "#classification report\nfrom sklearn.metrics import classification_report\nprint(classification_report(y_test,predictions))\nprint(\"Accuracy:\",metrics.accuracy_score(y_test,predictions))",
   "execution_count": 13,
   "outputs": [
    {
     "name": "stdout",
     "text": "              precision    recall  f1-score   support\n\n           0       0.82      0.97      0.89      4687\n           1       0.71      0.23      0.35      1313\n\n    accuracy                           0.81      6000\n   macro avg       0.76      0.60      0.62      6000\nweighted avg       0.79      0.81      0.77      6000\n\nAccuracy: 0.8108333333333333\n",
     "output_type": "stream"
    }
   ]
  },
  {
   "cell_type": "code",
   "metadata": {
    "tags": [],
    "cell_id": "00016-4ba7e5cd-04c1-45e7-b4ff-6ee5160173b2",
    "deepnote_to_be_reexecuted": false,
    "source_hash": "e9cf6ce1",
    "execution_start": 1621100687547,
    "execution_millis": 26,
    "deepnote_cell_type": "code"
   },
   "source": "f = f1_score(y_test, predictions)\nnpre = precision_score(y_test, predictions)\nnre = recall_score(y_test, predictions)\n\nprint(\"f-1 Score:\",f)\nprint(\"Precision Score:\",npre)\nprint(\"Recall Score:\",nre)",
   "execution_count": 15,
   "outputs": [
    {
     "name": "stdout",
     "text": "f-1 Score: 0.3488238668961561\nPrecision Score: 0.7069767441860465\nRecall Score: 0.23153084539223154\n",
     "output_type": "stream"
    }
   ]
  },
  {
   "cell_type": "code",
   "metadata": {
    "tags": [],
    "cell_id": "00016-94e2b10d-0737-411f-bab1-1bf0eb1187f5",
    "deepnote_to_be_reexecuted": false,
    "source_hash": "60fd8f87",
    "execution_start": 1621100718298,
    "execution_millis": 537,
    "deepnote_cell_type": "code"
   },
   "source": "plt.figure(figsize=(4,3))\nConfMatrix = confusion_matrix(y_test,model.predict(X_test))\nsns.heatmap(ConfMatrix,annot=True, cmap=\"Purples\", fmt=\"d\", \nxticklabels = ['Non-default', 'Default'], \nyticklabels = ['Non-default', 'Default'])\nplt.ylabel('Actual')\nplt.xlabel('Predicted')\nplt.title(\"Confusion Matrix With Original Data\");",
   "execution_count": 16,
   "outputs": [
    {
     "data": {
      "text/plain": "<Figure size 288x216 with 2 Axes>",
      "image/png": "[encoded data removed]"
     },
     "metadata": {
      "needs_background": "light",
      "image/png": {
       "width": 275,
       "height": 224
      }
     },
     "output_type": "display_data"
    }
   ]
  },
  {
   "cell_type": "code",
   "metadata": {
    "tags": [],
    "cell_id": "00016-c6a7be72-8c9f-4bc1-8e11-0e3137974a79",
    "deepnote_to_be_reexecuted": false,
    "source_hash": "1b571489",
    "execution_start": 1621100723356,
    "execution_millis": 7823,
    "deepnote_cell_type": "code"
   },
   "source": "from sklearn.model_selection import RandomizedSearchCV\n\n\nfeatures = df.drop('default_payment_next_month', axis = 1, inplace = False)\n\n#standard deviation\nstdX = (features - features.mean()) / (features.std())\n\n#logistic regression model\nlogreg = LogisticRegression()\n\n#hyperperimeter grid\nparam_grid = {'C': np.logspace(-5, 8, 15)}\n\nlogreg_cv_std = RandomizedSearchCV(logreg,param_grid , cv=5, random_state=42)\n\n#standardizing data\ny = df['default_payment_next_month']\nX = df.drop(['default_payment_next_month'], axis = 1)\nXstd_train,Xstd_test,ystd_train,ystd_test=train_test_split(stdX,y,test_size=0.2,random_state=42)\n\n#fitting to standardized data\nlogreg_cv_std.fit(Xstd_train, ystd_train)",
   "execution_count": 17,
   "outputs": [
    {
     "output_type": "execute_result",
     "execution_count": 17,
     "data": {
      "text/plain": "RandomizedSearchCV(cv=5, estimator=LogisticRegression(),\n                   param_distributions={'C': array([1.00000000e-05, 8.48342898e-05, 7.19685673e-04, 6.10540230e-03,\n       5.17947468e-02, 4.39397056e-01, 3.72759372e+00, 3.16227766e+01,\n       2.68269580e+02, 2.27584593e+03, 1.93069773e+04, 1.63789371e+05,\n       1.38949549e+06, 1.17876863e+07, 1.00000000e+08])},\n                   random_state=42)"
     },
     "metadata": {}
    }
   ]
  },
  {
   "cell_type": "code",
   "metadata": {
    "tags": [],
    "cell_id": "00017-81d7bbc2-3c44-4003-a9db-1149583f2cb9",
    "deepnote_to_be_reexecuted": false,
    "source_hash": "cea28ffa",
    "execution_start": 1621100734024,
    "execution_millis": 1824,
    "deepnote_cell_type": "code"
   },
   "source": "log_std = LogisticRegression(random_state=42)\nlog_std.fit(Xstd_train, ystd_train)\ny_pred = log_std.predict(Xstd_test)\n\nprint('Accuracy:', metrics.accuracy_score(y_pred,ystd_test))\n\n#5-fold cross validation\nfrom sklearn.model_selection import cross_val_score\nfrom sklearn.metrics import classification_report\n\ncv_scores = cross_val_score(log_std, stdX, y, cv=5)\nprint()\n\nprint(classification_report(y_pred, ystd_test))\nprint()\n\nprint(\"Average 5-Fold Cross-Validation Score: {}\".format(round(np.mean(cv_scores),4)),\n\", Standard Deviation: {}\".format(round(np.std(cv_scores),4)))\n\nprint('Accuracy:', metrics.accuracy_score(y_pred,ystd_test))\n\nplt.figure(figsize=(4,3))\n\nnew_pred = log_std.predict(Xstd_test)\n\n#generating confusion matrix\nconf_mat = confusion_matrix(ystd_test, new_pred)\n\n#heatmap\nsns.heatmap(conf_mat, annot=True, fmt=\"d\", cmap=\"Purples\",\nxticklabels = ['Non-Default', 'Default'],\nyticklabels = ['Non-Default', 'Default'])\n\nplt.xlabel('Predicted')\nplt.ylabel('Actual')\nplt.title(\"Confusion Matrix with Standardized Data\")\n",
   "execution_count": 18,
   "outputs": [
    {
     "name": "stdout",
     "text": "Accuracy: 0.8108333333333333\n\n              precision    recall  f1-score   support\n\n           0       0.97      0.82      0.89      5554\n           1       0.24      0.70      0.35       446\n\n    accuracy                           0.81      6000\n   macro avg       0.60      0.76      0.62      6000\nweighted avg       0.92      0.81      0.85      6000\n\n\nAverage 5-Fold Cross-Validation Score: 0.8094 , Standard Deviation: 0.0044\nAccuracy: 0.8108333333333333\n",
     "output_type": "stream"
    },
    {
     "output_type": "execute_result",
     "execution_count": 18,
     "data": {
      "text/plain": "Text(0.5, 1.0, 'Confusion Matrix with Standardized Data')"
     },
     "metadata": {}
    },
    {
     "data": {
      "text/plain": "<Figure size 288x216 with 2 Axes>",
      "image/png": "[encoded data removed]"
     },
     "metadata": {
      "needs_background": "light",
      "image/png": {
       "width": 278,
       "height": 224
      }
     },
     "output_type": "display_data"
    }
   ]
  },
  {
   "cell_type": "code",
   "metadata": {
    "tags": [],
    "cell_id": "00020-f4ce2566-1002-434c-afe0-dd675c816ed1",
    "deepnote_to_be_reexecuted": false,
    "source_hash": "2131667e",
    "execution_start": 1621100743592,
    "execution_millis": 24,
    "deepnote_cell_type": "code"
   },
   "source": "f = f1_score(ystd_test, new_pred)\nnpre = precision_score(ystd_test, new_pred)\nnre = recall_score(ystd_test, new_pred)\nnacc = accuracy_score(ystd_test, new_pred)\n\nprint(\"f-1 Score:\",f)\nprint(\"Precision Score:\",npre)\nprint(\"Recall Score:\",nre)\nprint(\"Accuracy:\",nacc)",
   "execution_count": 19,
   "outputs": [
    {
     "name": "stdout",
     "text": "f-1 Score: 0.3547470153496305\nPrecision Score: 0.6995515695067265\nRecall Score: 0.2376237623762376\nAccuracy: 0.8108333333333333\n",
     "output_type": "stream"
    }
   ]
  },
  {
   "cell_type": "code",
   "source": "",
   "metadata": {
    "tags": [],
    "cell_id": "00021-563f1b53-cbe7-4d68-88a3-eb506cf0c32d",
    "deepnote_cell_type": "code"
   },
   "outputs": [],
   "execution_count": null
  },
  {
   "cell_type": "markdown",
   "source": "<a style='text-decoration:none;line-height:16px;display:flex;color:#5B5B62;padding:10px;justify-content:end;' href='https://deepnote.com?utm_source=created-in-deepnote-cell&projectId=a2ef959e-644b-49ba-838b-a88868d44d86' target=\"_blank\">\n<img alt='Created in deepnote.com' style='display:inline;max-height:16px;margin:0px;margin-right:7.5px;' src='data:image/svg+xml;base64,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' > </img>\nCreated in <span style='font-weight:600;margin-left:4px;'>Deepnote</span></a>",
   "metadata": {
    "tags": [],
    "created_in_deepnote_cell": true,
    "deepnote_cell_type": "markdown"
   }
  }
 ],
 "nbformat": 4,
 "nbformat_minor": 2,
 "metadata": {
  "orig_nbformat": 2,
  "deepnote": {
   "is_reactive": false
  },
  "deepnote_notebook_id": "d6345826-30fc-482d-afa8-33281f55d7d5",
  "deepnote_execution_queue": []
 }
}